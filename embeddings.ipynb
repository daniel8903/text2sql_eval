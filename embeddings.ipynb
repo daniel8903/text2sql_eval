{
 "cells": [
  {
   "cell_type": "code",
   "execution_count": 1,
   "id": "0c3ce6f8",
   "metadata": {},
   "outputs": [
    {
     "name": "stdout",
     "output_type": "stream",
     "text": [
      "Requirement already satisfied: transformers in ./.venv/lib/python3.10/site-packages (4.53.2)\n",
      "Requirement already satisfied: sentence-transformers in ./.venv/lib/python3.10/site-packages (5.0.0)\n",
      "Requirement already satisfied: scikit-learn in ./.venv/lib/python3.10/site-packages (1.7.1)\n",
      "Requirement already satisfied: matplotlib in ./.venv/lib/python3.10/site-packages (3.10.3)\n",
      "Requirement already satisfied: plotly in ./.venv/lib/python3.10/site-packages (6.2.0)\n",
      "Requirement already satisfied: numpy in ./.venv/lib/python3.10/site-packages (2.2.6)\n",
      "Requirement already satisfied: pandas in ./.venv/lib/python3.10/site-packages (2.3.1)\n",
      "Requirement already satisfied: tqdm in ./.venv/lib/python3.10/site-packages (4.67.1)\n",
      "Requirement already satisfied: filelock in ./.venv/lib/python3.10/site-packages (from transformers) (3.18.0)\n",
      "Requirement already satisfied: huggingface-hub<1.0,>=0.30.0 in ./.venv/lib/python3.10/site-packages (from transformers) (0.33.4)\n",
      "Requirement already satisfied: packaging>=20.0 in ./.venv/lib/python3.10/site-packages (from transformers) (25.0)\n",
      "Requirement already satisfied: pyyaml>=5.1 in ./.venv/lib/python3.10/site-packages (from transformers) (6.0.2)\n",
      "Requirement already satisfied: regex!=2019.12.17 in ./.venv/lib/python3.10/site-packages (from transformers) (2024.11.6)\n",
      "Requirement already satisfied: requests in ./.venv/lib/python3.10/site-packages (from transformers) (2.32.4)\n",
      "Requirement already satisfied: tokenizers<0.22,>=0.21 in ./.venv/lib/python3.10/site-packages (from transformers) (0.21.2)\n",
      "Requirement already satisfied: safetensors>=0.4.3 in ./.venv/lib/python3.10/site-packages (from transformers) (0.5.3)\n",
      "Requirement already satisfied: fsspec>=2023.5.0 in ./.venv/lib/python3.10/site-packages (from huggingface-hub<1.0,>=0.30.0->transformers) (2025.7.0)\n",
      "Requirement already satisfied: typing-extensions>=3.7.4.3 in ./.venv/lib/python3.10/site-packages (from huggingface-hub<1.0,>=0.30.0->transformers) (4.14.1)\n",
      "Requirement already satisfied: hf-xet<2.0.0,>=1.1.2 in ./.venv/lib/python3.10/site-packages (from huggingface-hub<1.0,>=0.30.0->transformers) (1.1.5)\n",
      "Requirement already satisfied: torch>=1.11.0 in ./.venv/lib/python3.10/site-packages (from sentence-transformers) (2.7.1)\n",
      "Requirement already satisfied: scipy in ./.venv/lib/python3.10/site-packages (from sentence-transformers) (1.15.3)\n",
      "Requirement already satisfied: Pillow in ./.venv/lib/python3.10/site-packages (from sentence-transformers) (11.3.0)\n",
      "Requirement already satisfied: joblib>=1.2.0 in ./.venv/lib/python3.10/site-packages (from scikit-learn) (1.5.1)\n",
      "Requirement already satisfied: threadpoolctl>=3.1.0 in ./.venv/lib/python3.10/site-packages (from scikit-learn) (3.6.0)\n",
      "Requirement already satisfied: contourpy>=1.0.1 in ./.venv/lib/python3.10/site-packages (from matplotlib) (1.3.2)\n",
      "Requirement already satisfied: cycler>=0.10 in ./.venv/lib/python3.10/site-packages (from matplotlib) (0.12.1)\n",
      "Requirement already satisfied: fonttools>=4.22.0 in ./.venv/lib/python3.10/site-packages (from matplotlib) (4.58.5)\n",
      "Requirement already satisfied: kiwisolver>=1.3.1 in ./.venv/lib/python3.10/site-packages (from matplotlib) (1.4.8)\n",
      "Requirement already satisfied: pyparsing>=2.3.1 in ./.venv/lib/python3.10/site-packages (from matplotlib) (3.2.3)\n",
      "Requirement already satisfied: python-dateutil>=2.7 in ./.venv/lib/python3.10/site-packages (from matplotlib) (2.9.0.post0)\n",
      "Requirement already satisfied: narwhals>=1.15.1 in ./.venv/lib/python3.10/site-packages (from plotly) (1.48.0)\n",
      "Requirement already satisfied: pytz>=2020.1 in ./.venv/lib/python3.10/site-packages (from pandas) (2025.2)\n",
      "Requirement already satisfied: tzdata>=2022.7 in ./.venv/lib/python3.10/site-packages (from pandas) (2025.2)\n",
      "Requirement already satisfied: six>=1.5 in ./.venv/lib/python3.10/site-packages (from python-dateutil>=2.7->matplotlib) (1.17.0)\n",
      "Requirement already satisfied: sympy>=1.13.3 in ./.venv/lib/python3.10/site-packages (from torch>=1.11.0->sentence-transformers) (1.14.0)\n",
      "Requirement already satisfied: networkx in ./.venv/lib/python3.10/site-packages (from torch>=1.11.0->sentence-transformers) (3.4.2)\n",
      "Requirement already satisfied: jinja2 in ./.venv/lib/python3.10/site-packages (from torch>=1.11.0->sentence-transformers) (3.1.6)\n",
      "Requirement already satisfied: mpmath<1.4,>=1.1.0 in ./.venv/lib/python3.10/site-packages (from sympy>=1.13.3->torch>=1.11.0->sentence-transformers) (1.3.0)\n",
      "Requirement already satisfied: MarkupSafe>=2.0 in ./.venv/lib/python3.10/site-packages (from jinja2->torch>=1.11.0->sentence-transformers) (3.0.2)\n",
      "Requirement already satisfied: charset_normalizer<4,>=2 in ./.venv/lib/python3.10/site-packages (from requests->transformers) (3.4.2)\n",
      "Requirement already satisfied: idna<4,>=2.5 in ./.venv/lib/python3.10/site-packages (from requests->transformers) (3.10)\n",
      "Requirement already satisfied: urllib3<3,>=1.21.1 in ./.venv/lib/python3.10/site-packages (from requests->transformers) (2.5.0)\n",
      "Requirement already satisfied: certifi>=2017.4.17 in ./.venv/lib/python3.10/site-packages (from requests->transformers) (2025.7.14)\n",
      "zsh:1: 4.2.0 not found\n",
      "Requirement already satisfied: notebook in ./.venv/lib/python3.10/site-packages (7.4.4)\n",
      "Requirement already satisfied: jupyter-server<3,>=2.4.0 in ./.venv/lib/python3.10/site-packages (from notebook) (2.16.0)\n",
      "Requirement already satisfied: jupyterlab-server<3,>=2.27.1 in ./.venv/lib/python3.10/site-packages (from notebook) (2.27.3)\n",
      "Requirement already satisfied: jupyterlab<4.5,>=4.4.4 in ./.venv/lib/python3.10/site-packages (from notebook) (4.4.5)\n",
      "Requirement already satisfied: notebook-shim<0.3,>=0.2 in ./.venv/lib/python3.10/site-packages (from notebook) (0.2.4)\n",
      "Requirement already satisfied: tornado>=6.2.0 in ./.venv/lib/python3.10/site-packages (from notebook) (6.5.1)\n",
      "Requirement already satisfied: anyio>=3.1.0 in ./.venv/lib/python3.10/site-packages (from jupyter-server<3,>=2.4.0->notebook) (4.9.0)\n",
      "Requirement already satisfied: argon2-cffi>=21.1 in ./.venv/lib/python3.10/site-packages (from jupyter-server<3,>=2.4.0->notebook) (25.1.0)\n",
      "Requirement already satisfied: jinja2>=3.0.3 in ./.venv/lib/python3.10/site-packages (from jupyter-server<3,>=2.4.0->notebook) (3.1.6)\n",
      "Requirement already satisfied: jupyter-client>=7.4.4 in ./.venv/lib/python3.10/site-packages (from jupyter-server<3,>=2.4.0->notebook) (8.6.3)\n",
      "Requirement already satisfied: jupyter-core!=5.0.*,>=4.12 in ./.venv/lib/python3.10/site-packages (from jupyter-server<3,>=2.4.0->notebook) (5.8.1)\n",
      "Requirement already satisfied: jupyter-events>=0.11.0 in ./.venv/lib/python3.10/site-packages (from jupyter-server<3,>=2.4.0->notebook) (0.12.0)\n",
      "Requirement already satisfied: jupyter-server-terminals>=0.4.4 in ./.venv/lib/python3.10/site-packages (from jupyter-server<3,>=2.4.0->notebook) (0.5.3)\n",
      "Requirement already satisfied: nbconvert>=6.4.4 in ./.venv/lib/python3.10/site-packages (from jupyter-server<3,>=2.4.0->notebook) (7.16.6)\n",
      "Requirement already satisfied: nbformat>=5.3.0 in ./.venv/lib/python3.10/site-packages (from jupyter-server<3,>=2.4.0->notebook) (5.10.4)\n",
      "Requirement already satisfied: overrides>=5.0 in ./.venv/lib/python3.10/site-packages (from jupyter-server<3,>=2.4.0->notebook) (7.7.0)\n",
      "Requirement already satisfied: packaging>=22.0 in ./.venv/lib/python3.10/site-packages (from jupyter-server<3,>=2.4.0->notebook) (25.0)\n",
      "Requirement already satisfied: prometheus-client>=0.9 in ./.venv/lib/python3.10/site-packages (from jupyter-server<3,>=2.4.0->notebook) (0.22.1)\n",
      "Requirement already satisfied: pyzmq>=24 in ./.venv/lib/python3.10/site-packages (from jupyter-server<3,>=2.4.0->notebook) (27.0.0)\n",
      "Requirement already satisfied: send2trash>=1.8.2 in ./.venv/lib/python3.10/site-packages (from jupyter-server<3,>=2.4.0->notebook) (1.8.3)\n",
      "Requirement already satisfied: terminado>=0.8.3 in ./.venv/lib/python3.10/site-packages (from jupyter-server<3,>=2.4.0->notebook) (0.18.1)\n",
      "Requirement already satisfied: traitlets>=5.6.0 in ./.venv/lib/python3.10/site-packages (from jupyter-server<3,>=2.4.0->notebook) (5.14.3)\n",
      "Requirement already satisfied: websocket-client>=1.7 in ./.venv/lib/python3.10/site-packages (from jupyter-server<3,>=2.4.0->notebook) (1.8.0)\n",
      "Requirement already satisfied: async-lru>=1.0.0 in ./.venv/lib/python3.10/site-packages (from jupyterlab<4.5,>=4.4.4->notebook) (2.0.5)\n",
      "Requirement already satisfied: httpx>=0.25.0 in ./.venv/lib/python3.10/site-packages (from jupyterlab<4.5,>=4.4.4->notebook) (0.28.1)\n",
      "Requirement already satisfied: ipykernel>=6.5.0 in ./.venv/lib/python3.10/site-packages (from jupyterlab<4.5,>=4.4.4->notebook) (6.29.5)\n",
      "Requirement already satisfied: jupyter-lsp>=2.0.0 in ./.venv/lib/python3.10/site-packages (from jupyterlab<4.5,>=4.4.4->notebook) (2.2.6)\n",
      "Requirement already satisfied: setuptools>=41.1.0 in ./.venv/lib/python3.10/site-packages (from jupyterlab<4.5,>=4.4.4->notebook) (80.9.0)\n",
      "Requirement already satisfied: tomli>=1.2.2 in ./.venv/lib/python3.10/site-packages (from jupyterlab<4.5,>=4.4.4->notebook) (2.2.1)\n",
      "Requirement already satisfied: babel>=2.10 in ./.venv/lib/python3.10/site-packages (from jupyterlab-server<3,>=2.27.1->notebook) (2.17.0)\n",
      "Requirement already satisfied: json5>=0.9.0 in ./.venv/lib/python3.10/site-packages (from jupyterlab-server<3,>=2.27.1->notebook) (0.12.0)\n",
      "Requirement already satisfied: jsonschema>=4.18.0 in ./.venv/lib/python3.10/site-packages (from jupyterlab-server<3,>=2.27.1->notebook) (4.25.0)\n",
      "Requirement already satisfied: requests>=2.31 in ./.venv/lib/python3.10/site-packages (from jupyterlab-server<3,>=2.27.1->notebook) (2.32.4)\n",
      "Requirement already satisfied: exceptiongroup>=1.0.2 in ./.venv/lib/python3.10/site-packages (from anyio>=3.1.0->jupyter-server<3,>=2.4.0->notebook) (1.3.0)\n",
      "Requirement already satisfied: idna>=2.8 in ./.venv/lib/python3.10/site-packages (from anyio>=3.1.0->jupyter-server<3,>=2.4.0->notebook) (3.10)\n",
      "Requirement already satisfied: sniffio>=1.1 in ./.venv/lib/python3.10/site-packages (from anyio>=3.1.0->jupyter-server<3,>=2.4.0->notebook) (1.3.1)\n",
      "Requirement already satisfied: typing_extensions>=4.5 in ./.venv/lib/python3.10/site-packages (from anyio>=3.1.0->jupyter-server<3,>=2.4.0->notebook) (4.14.1)\n",
      "Requirement already satisfied: argon2-cffi-bindings in ./.venv/lib/python3.10/site-packages (from argon2-cffi>=21.1->jupyter-server<3,>=2.4.0->notebook) (21.2.0)\n",
      "Requirement already satisfied: certifi in ./.venv/lib/python3.10/site-packages (from httpx>=0.25.0->jupyterlab<4.5,>=4.4.4->notebook) (2025.7.14)\n",
      "Requirement already satisfied: httpcore==1.* in ./.venv/lib/python3.10/site-packages (from httpx>=0.25.0->jupyterlab<4.5,>=4.4.4->notebook) (1.0.9)\n",
      "Requirement already satisfied: h11>=0.16 in ./.venv/lib/python3.10/site-packages (from httpcore==1.*->httpx>=0.25.0->jupyterlab<4.5,>=4.4.4->notebook) (0.16.0)\n",
      "Requirement already satisfied: appnope in ./.venv/lib/python3.10/site-packages (from ipykernel>=6.5.0->jupyterlab<4.5,>=4.4.4->notebook) (0.1.4)\n",
      "Requirement already satisfied: comm>=0.1.1 in ./.venv/lib/python3.10/site-packages (from ipykernel>=6.5.0->jupyterlab<4.5,>=4.4.4->notebook) (0.2.2)\n",
      "Requirement already satisfied: debugpy>=1.6.5 in ./.venv/lib/python3.10/site-packages (from ipykernel>=6.5.0->jupyterlab<4.5,>=4.4.4->notebook) (1.8.15)\n",
      "Requirement already satisfied: ipython>=7.23.1 in ./.venv/lib/python3.10/site-packages (from ipykernel>=6.5.0->jupyterlab<4.5,>=4.4.4->notebook) (8.37.0)\n",
      "Requirement already satisfied: matplotlib-inline>=0.1 in ./.venv/lib/python3.10/site-packages (from ipykernel>=6.5.0->jupyterlab<4.5,>=4.4.4->notebook) (0.1.7)\n",
      "Requirement already satisfied: nest-asyncio in ./.venv/lib/python3.10/site-packages (from ipykernel>=6.5.0->jupyterlab<4.5,>=4.4.4->notebook) (1.6.0)\n",
      "Requirement already satisfied: psutil in ./.venv/lib/python3.10/site-packages (from ipykernel>=6.5.0->jupyterlab<4.5,>=4.4.4->notebook) (7.0.0)\n",
      "Requirement already satisfied: decorator in ./.venv/lib/python3.10/site-packages (from ipython>=7.23.1->ipykernel>=6.5.0->jupyterlab<4.5,>=4.4.4->notebook) (5.2.1)\n",
      "Requirement already satisfied: jedi>=0.16 in ./.venv/lib/python3.10/site-packages (from ipython>=7.23.1->ipykernel>=6.5.0->jupyterlab<4.5,>=4.4.4->notebook) (0.19.2)\n",
      "Requirement already satisfied: pexpect>4.3 in ./.venv/lib/python3.10/site-packages (from ipython>=7.23.1->ipykernel>=6.5.0->jupyterlab<4.5,>=4.4.4->notebook) (4.9.0)\n",
      "Requirement already satisfied: prompt_toolkit<3.1.0,>=3.0.41 in ./.venv/lib/python3.10/site-packages (from ipython>=7.23.1->ipykernel>=6.5.0->jupyterlab<4.5,>=4.4.4->notebook) (3.0.51)\n",
      "Requirement already satisfied: pygments>=2.4.0 in ./.venv/lib/python3.10/site-packages (from ipython>=7.23.1->ipykernel>=6.5.0->jupyterlab<4.5,>=4.4.4->notebook) (2.19.2)\n",
      "Requirement already satisfied: stack_data in ./.venv/lib/python3.10/site-packages (from ipython>=7.23.1->ipykernel>=6.5.0->jupyterlab<4.5,>=4.4.4->notebook) (0.6.3)\n",
      "Requirement already satisfied: wcwidth in ./.venv/lib/python3.10/site-packages (from prompt_toolkit<3.1.0,>=3.0.41->ipython>=7.23.1->ipykernel>=6.5.0->jupyterlab<4.5,>=4.4.4->notebook) (0.2.13)\n",
      "Requirement already satisfied: parso<0.9.0,>=0.8.4 in ./.venv/lib/python3.10/site-packages (from jedi>=0.16->ipython>=7.23.1->ipykernel>=6.5.0->jupyterlab<4.5,>=4.4.4->notebook) (0.8.4)\n",
      "Requirement already satisfied: MarkupSafe>=2.0 in ./.venv/lib/python3.10/site-packages (from jinja2>=3.0.3->jupyter-server<3,>=2.4.0->notebook) (3.0.2)\n",
      "Requirement already satisfied: attrs>=22.2.0 in ./.venv/lib/python3.10/site-packages (from jsonschema>=4.18.0->jupyterlab-server<3,>=2.27.1->notebook) (25.3.0)\n",
      "Requirement already satisfied: jsonschema-specifications>=2023.03.6 in ./.venv/lib/python3.10/site-packages (from jsonschema>=4.18.0->jupyterlab-server<3,>=2.27.1->notebook) (2025.4.1)\n",
      "Requirement already satisfied: referencing>=0.28.4 in ./.venv/lib/python3.10/site-packages (from jsonschema>=4.18.0->jupyterlab-server<3,>=2.27.1->notebook) (0.36.2)\n",
      "Requirement already satisfied: rpds-py>=0.7.1 in ./.venv/lib/python3.10/site-packages (from jsonschema>=4.18.0->jupyterlab-server<3,>=2.27.1->notebook) (0.26.0)\n",
      "Requirement already satisfied: python-dateutil>=2.8.2 in ./.venv/lib/python3.10/site-packages (from jupyter-client>=7.4.4->jupyter-server<3,>=2.4.0->notebook) (2.9.0.post0)\n",
      "Requirement already satisfied: platformdirs>=2.5 in ./.venv/lib/python3.10/site-packages (from jupyter-core!=5.0.*,>=4.12->jupyter-server<3,>=2.4.0->notebook) (4.3.8)\n",
      "Requirement already satisfied: python-json-logger>=2.0.4 in ./.venv/lib/python3.10/site-packages (from jupyter-events>=0.11.0->jupyter-server<3,>=2.4.0->notebook) (3.3.0)\n",
      "Requirement already satisfied: pyyaml>=5.3 in ./.venv/lib/python3.10/site-packages (from jupyter-events>=0.11.0->jupyter-server<3,>=2.4.0->notebook) (6.0.2)\n",
      "Requirement already satisfied: rfc3339-validator in ./.venv/lib/python3.10/site-packages (from jupyter-events>=0.11.0->jupyter-server<3,>=2.4.0->notebook) (0.1.4)\n",
      "Requirement already satisfied: rfc3986-validator>=0.1.1 in ./.venv/lib/python3.10/site-packages (from jupyter-events>=0.11.0->jupyter-server<3,>=2.4.0->notebook) (0.1.1)\n",
      "Requirement already satisfied: fqdn in ./.venv/lib/python3.10/site-packages (from jsonschema[format-nongpl]>=4.18.0->jupyter-events>=0.11.0->jupyter-server<3,>=2.4.0->notebook) (1.5.1)\n",
      "Requirement already satisfied: isoduration in ./.venv/lib/python3.10/site-packages (from jsonschema[format-nongpl]>=4.18.0->jupyter-events>=0.11.0->jupyter-server<3,>=2.4.0->notebook) (20.11.0)\n",
      "Requirement already satisfied: jsonpointer>1.13 in ./.venv/lib/python3.10/site-packages (from jsonschema[format-nongpl]>=4.18.0->jupyter-events>=0.11.0->jupyter-server<3,>=2.4.0->notebook) (3.0.0)\n",
      "Requirement already satisfied: rfc3987-syntax>=1.1.0 in ./.venv/lib/python3.10/site-packages (from jsonschema[format-nongpl]>=4.18.0->jupyter-events>=0.11.0->jupyter-server<3,>=2.4.0->notebook) (1.1.0)\n",
      "Requirement already satisfied: uri-template in ./.venv/lib/python3.10/site-packages (from jsonschema[format-nongpl]>=4.18.0->jupyter-events>=0.11.0->jupyter-server<3,>=2.4.0->notebook) (1.3.0)\n",
      "Requirement already satisfied: webcolors>=24.6.0 in ./.venv/lib/python3.10/site-packages (from jsonschema[format-nongpl]>=4.18.0->jupyter-events>=0.11.0->jupyter-server<3,>=2.4.0->notebook) (24.11.1)\n",
      "Requirement already satisfied: beautifulsoup4 in ./.venv/lib/python3.10/site-packages (from nbconvert>=6.4.4->jupyter-server<3,>=2.4.0->notebook) (4.13.4)\n",
      "Requirement already satisfied: bleach!=5.0.0 in ./.venv/lib/python3.10/site-packages (from bleach[css]!=5.0.0->nbconvert>=6.4.4->jupyter-server<3,>=2.4.0->notebook) (6.2.0)\n",
      "Requirement already satisfied: defusedxml in ./.venv/lib/python3.10/site-packages (from nbconvert>=6.4.4->jupyter-server<3,>=2.4.0->notebook) (0.7.1)\n",
      "Requirement already satisfied: jupyterlab-pygments in ./.venv/lib/python3.10/site-packages (from nbconvert>=6.4.4->jupyter-server<3,>=2.4.0->notebook) (0.3.0)\n",
      "Requirement already satisfied: mistune<4,>=2.0.3 in ./.venv/lib/python3.10/site-packages (from nbconvert>=6.4.4->jupyter-server<3,>=2.4.0->notebook) (3.1.3)\n",
      "Requirement already satisfied: nbclient>=0.5.0 in ./.venv/lib/python3.10/site-packages (from nbconvert>=6.4.4->jupyter-server<3,>=2.4.0->notebook) (0.10.2)\n",
      "Requirement already satisfied: pandocfilters>=1.4.1 in ./.venv/lib/python3.10/site-packages (from nbconvert>=6.4.4->jupyter-server<3,>=2.4.0->notebook) (1.5.1)\n",
      "Requirement already satisfied: webencodings in ./.venv/lib/python3.10/site-packages (from bleach!=5.0.0->bleach[css]!=5.0.0->nbconvert>=6.4.4->jupyter-server<3,>=2.4.0->notebook) (0.5.1)\n",
      "Requirement already satisfied: tinycss2<1.5,>=1.1.0 in ./.venv/lib/python3.10/site-packages (from bleach[css]!=5.0.0->nbconvert>=6.4.4->jupyter-server<3,>=2.4.0->notebook) (1.4.0)\n",
      "Requirement already satisfied: fastjsonschema>=2.15 in ./.venv/lib/python3.10/site-packages (from nbformat>=5.3.0->jupyter-server<3,>=2.4.0->notebook) (2.21.1)\n",
      "Requirement already satisfied: ptyprocess>=0.5 in ./.venv/lib/python3.10/site-packages (from pexpect>4.3->ipython>=7.23.1->ipykernel>=6.5.0->jupyterlab<4.5,>=4.4.4->notebook) (0.7.0)\n",
      "Requirement already satisfied: six>=1.5 in ./.venv/lib/python3.10/site-packages (from python-dateutil>=2.8.2->jupyter-client>=7.4.4->jupyter-server<3,>=2.4.0->notebook) (1.17.0)\n",
      "Requirement already satisfied: charset_normalizer<4,>=2 in ./.venv/lib/python3.10/site-packages (from requests>=2.31->jupyterlab-server<3,>=2.27.1->notebook) (3.4.2)\n",
      "Requirement already satisfied: urllib3<3,>=1.21.1 in ./.venv/lib/python3.10/site-packages (from requests>=2.31->jupyterlab-server<3,>=2.27.1->notebook) (2.5.0)\n",
      "Requirement already satisfied: lark>=1.2.2 in ./.venv/lib/python3.10/site-packages (from rfc3987-syntax>=1.1.0->jsonschema[format-nongpl]>=4.18.0->jupyter-events>=0.11.0->jupyter-server<3,>=2.4.0->notebook) (1.2.2)\n",
      "Requirement already satisfied: cffi>=1.0.1 in ./.venv/lib/python3.10/site-packages (from argon2-cffi-bindings->argon2-cffi>=21.1->jupyter-server<3,>=2.4.0->notebook) (1.17.1)\n",
      "Requirement already satisfied: pycparser in ./.venv/lib/python3.10/site-packages (from cffi>=1.0.1->argon2-cffi-bindings->argon2-cffi>=21.1->jupyter-server<3,>=2.4.0->notebook) (2.22)\n",
      "Requirement already satisfied: soupsieve>1.2 in ./.venv/lib/python3.10/site-packages (from beautifulsoup4->nbconvert>=6.4.4->jupyter-server<3,>=2.4.0->notebook) (2.7)\n",
      "Requirement already satisfied: arrow>=0.15.0 in ./.venv/lib/python3.10/site-packages (from isoduration->jsonschema[format-nongpl]>=4.18.0->jupyter-events>=0.11.0->jupyter-server<3,>=2.4.0->notebook) (1.3.0)\n",
      "Requirement already satisfied: types-python-dateutil>=2.8.10 in ./.venv/lib/python3.10/site-packages (from arrow>=0.15.0->isoduration->jsonschema[format-nongpl]>=4.18.0->jupyter-events>=0.11.0->jupyter-server<3,>=2.4.0->notebook) (2.9.0.20250708)\n",
      "Requirement already satisfied: executing>=1.2.0 in ./.venv/lib/python3.10/site-packages (from stack_data->ipython>=7.23.1->ipykernel>=6.5.0->jupyterlab<4.5,>=4.4.4->notebook) (2.2.0)\n",
      "Requirement already satisfied: asttokens>=2.1.0 in ./.venv/lib/python3.10/site-packages (from stack_data->ipython>=7.23.1->ipykernel>=6.5.0->jupyterlab<4.5,>=4.4.4->notebook) (3.0.0)\n",
      "Requirement already satisfied: pure-eval in ./.venv/lib/python3.10/site-packages (from stack_data->ipython>=7.23.1->ipykernel>=6.5.0->jupyterlab<4.5,>=4.4.4->notebook) (0.2.3)\n"
     ]
    },
    {
     "name": "stderr",
     "output_type": "stream",
     "text": [
      "/Users/daniel/projects/text2sql_eval/.venv/lib/python3.10/site-packages/tqdm/auto.py:21: TqdmWarning: IProgress not found. Please update jupyter and ipywidgets. See https://ipywidgets.readthedocs.io/en/stable/user_install.html\n",
      "  from .autonotebook import tqdm as notebook_tqdm\n"
     ]
    }
   ],
   "source": [
    "# # Bibliotheken installieren\n",
    "# !uv pip install transformers sentence-transformers scikit-learn matplotlib plotly numpy pandas tqdm\n",
    "\n",
    "# # Bibliotheken importieren\n",
    "# import numpy as np\n",
    "# import matplotlib.pyplot as plt\n",
    "# from sklearn.manifold import TSNE\n",
    "# from sklearn.decomposition import PCA\n",
    "# import plotly.express as px\n",
    "# import plotly.graph_objects as go\n",
    "# from transformers import AutoTokenizer, AutoModel\n",
    "# from sentence_transformers import SentenceTransformer\n",
    "# import torch\n",
    "# import pandas as pd\n",
    "# from collections import Counter\n",
    "# import re\n",
    "# from tqdm.auto import tqdm\n",
    "\n",
    "# Bibliotheken installieren (erweitert mit nbformat und anderen wichtigen Abhängigkeiten)\n",
    "!pip install transformers sentence-transformers scikit-learn matplotlib plotly numpy pandas tqdm\n",
    "!pip install nbformat>=4.2.0 ipywidgets>=7.0.0 jupyter_client>=5.0.0 jupyterlab\n",
    "!pip install --upgrade notebook\n",
    "\n",
    "# Möglicherweise ist ein Neustart des Kernels erforderlich nach diesen Installationen\n",
    "# Nach dem Ausführen dieser Zelle: Kernel -> Restart & Clear Output -> Run All\n",
    "\n",
    "# Bibliotheken importieren\n",
    "import numpy as np\n",
    "import matplotlib.pyplot as plt\n",
    "from sklearn.manifold import TSNE\n",
    "from sklearn.decomposition import PCA\n",
    "import plotly.express as px\n",
    "import plotly.graph_objects as go\n",
    "from transformers import AutoTokenizer, AutoModel\n",
    "from sentence_transformers import SentenceTransformer\n",
    "import torch\n",
    "import pandas as pd\n",
    "from collections import Counter\n",
    "import re\n",
    "from tqdm.auto import tqdm"
   ]
  },
  {
   "cell_type": "code",
   "execution_count": 2,
   "id": "7aa6578f",
   "metadata": {},
   "outputs": [],
   "source": [
    "def preprocess_text(text):\n",
    "    # Text in Absätze/Sätze aufteilen für Sentence-Level Embeddings\n",
    "    paragraphs = text.split('\\n')\n",
    "    sentences = []\n",
    "    \n",
    "    for paragraph in paragraphs:\n",
    "        # Leere Absätze überspringen\n",
    "        if paragraph.strip():\n",
    "            # Einfache Satzteilung (kann je nach Bedarf verfeinert werden)\n",
    "            paragraph_sentences = re.split(r'(?<=[.!?])\\s+', paragraph.strip())\n",
    "            sentences.extend([s for s in paragraph_sentences if s.strip()])\n",
    "    \n",
    "    return sentences\n",
    "\n",
    "def tokenize_with_llm(sentences, model_name=\"distilbert-base-uncased\"):\n",
    "    \"\"\"\n",
    "    Tokenisiert die Sätze mit einem vortrainierten LLM-Tokenizer\n",
    "    \"\"\"\n",
    "    # Tokenizer laden\n",
    "    tokenizer = AutoTokenizer.from_pretrained(model_name)\n",
    "    \n",
    "    # Tokenisierung für jeden Satz\n",
    "    tokenized_texts = []\n",
    "    tokens_list = []\n",
    "    \n",
    "    for sentence in sentences:\n",
    "        # Tokenisierung durchführen\n",
    "        encoded = tokenizer(sentence, return_tensors=\"pt\", add_special_tokens=True)\n",
    "        \n",
    "        # Token-IDs extrahieren\n",
    "        token_ids = encoded['input_ids'][0].tolist()\n",
    "        \n",
    "        # Token-Texte zurückkonvertieren\n",
    "        tokens = tokenizer.convert_ids_to_tokens(token_ids)\n",
    "        \n",
    "        tokenized_texts.append({\n",
    "            'sentence': sentence,\n",
    "            'token_ids': token_ids,\n",
    "            'tokens': tokens\n",
    "        })\n",
    "        \n",
    "        tokens_list.extend(tokens)\n",
    "    \n",
    "    return tokenized_texts, tokens_list"
   ]
  },
  {
   "cell_type": "code",
   "execution_count": 3,
   "id": "96fe1058",
   "metadata": {},
   "outputs": [],
   "source": [
    "def create_word_embeddings_with_transformer(sentences, model_name=\"sentence-transformers/all-mpnet-base-v2\"):\n",
    "    \"\"\"\n",
    "    Generiert Embeddings mit einem vortrainierten Transformer-Modell\n",
    "    \"\"\"\n",
    "    print(f\"Lade Modell: {model_name}\")\n",
    "    # SentenceTransformer laden\n",
    "    model = SentenceTransformer(model_name)\n",
    "    \n",
    "    print(\"Generiere Embeddings für Wörter...\")\n",
    "    # Embeddings für einzelne Wörter/Tokens generieren\n",
    "    words = list(set([word.lower() for sentence in sentences for word in sentence.split() if len(word) > 1]))\n",
    "    \n",
    "    # Fortschrittsanzeige hinzufügen\n",
    "    word_embeddings = model.encode(words, show_progress_bar=True)\n",
    "    \n",
    "    print(\"Generiere Embeddings für Sätze...\")\n",
    "    # Zusätzlich Embeddings für die vollständigen Sätze generieren\n",
    "    sentence_embeddings = model.encode(sentences, show_progress_bar=True)\n",
    "    \n",
    "    return words, word_embeddings, sentences, sentence_embeddings\n",
    "\n",
    "def create_token_embeddings_with_transformer(tokenized_texts, model_name=\"distilbert-base-uncased\"):\n",
    "    \"\"\"\n",
    "    Generiert Embeddings für einzelne Tokens mit einem vortrainierten Transformer-Modell\n",
    "    \"\"\"\n",
    "    print(f\"Lade Token-Embedding-Modell: {model_name}\")\n",
    "    \n",
    "    # Modell und Tokenizer laden\n",
    "    model = AutoModel.from_pretrained(model_name)\n",
    "    tokenizer = AutoTokenizer.from_pretrained(model_name)\n",
    "    \n",
    "    model.eval()  # Evaluation-Modus\n",
    "    \n",
    "    # Eindeutige Tokens finden\n",
    "    all_tokens = []\n",
    "    for item in tokenized_texts:\n",
    "        all_tokens.extend(item['tokens'])\n",
    "    \n",
    "    # Token-Häufigkeit zählen\n",
    "    token_counter = Counter(all_tokens)\n",
    "    \n",
    "    # Nur Tokens behalten, die mindestens dreimal vorkommen und keine speziellen Tokens sind\n",
    "    filtered_tokens = [token for token, count in token_counter.items() \n",
    "                       if count >= 2 and not token.startswith('[') and not token.startswith('<')]\n",
    "    \n",
    "    # Eindeutige gefilterte Tokens\n",
    "    unique_tokens = list(set(filtered_tokens))\n",
    "    \n",
    "    print(f\"Generiere Embeddings für {len(unique_tokens)} eindeutige Tokens...\")\n",
    "    \n",
    "    # Embeddings für jedes Token extrahieren\n",
    "    token_embeddings = {}\n",
    "    \n",
    "    # Batch-Verarbeitung für Effizienz\n",
    "    batch_size = 32\n",
    "    for i in range(0, len(unique_tokens), batch_size):\n",
    "        batch_tokens = unique_tokens[i:i+batch_size]\n",
    "        \n",
    "        # Tokenisierung durchführen\n",
    "        inputs = tokenizer(batch_tokens, return_tensors=\"pt\", padding=True)\n",
    "        \n",
    "        # Forward-Pass ohne Gradienten\n",
    "        with torch.no_grad():\n",
    "            outputs = model(**inputs)\n",
    "        \n",
    "        # Embeddings extrahieren (nehme das letzte versteckte Layer)\n",
    "        hidden_states = outputs.last_hidden_state\n",
    "        \n",
    "        # Für jeden Token in diesem Batch\n",
    "        for j, token in enumerate(batch_tokens):\n",
    "            # Nehme das Embedding für den ersten Token (Position 0)\n",
    "            # da wir jeden Token einzeln eingegeben haben\n",
    "            token_embeddings[token] = hidden_states[j, 0, :].numpy()\n",
    "    \n",
    "    # Liste der Tokens und deren Embeddings erstellen\n",
    "    tokens = list(token_embeddings.keys())\n",
    "    token_embedding_matrix = np.array([token_embeddings[token] for token in tokens])\n",
    "    \n",
    "    return tokens, token_embedding_matrix"
   ]
  },
  {
   "cell_type": "code",
   "execution_count": 4,
   "id": "70c01777",
   "metadata": {},
   "outputs": [],
   "source": [
    "def reduce_dimensions(embedding_vectors):\n",
    "    \"\"\"\n",
    "    Reduziert die Dimension der Embedding-Vektoren für 2D- und 3D-Visualisierung\n",
    "    \"\"\"\n",
    "    print(\"Führe Dimensionsreduktion durch...\")\n",
    "    \n",
    "    # Parameter für t-SNE - dynamisch anpassen basierend auf Datenmenge\n",
    "    perplexity = min(30, max(5, len(embedding_vectors)-1))\n",
    "    \n",
    "    # t-SNE für 2D-Projektion\n",
    "    print(\"t-SNE 2D...\")\n",
    "    tsne_2d = TSNE(n_components=2, random_state=42, perplexity=perplexity)\n",
    "    vectors_2d = tsne_2d.fit_transform(embedding_vectors)\n",
    "    \n",
    "    # t-SNE für 3D-Projektion\n",
    "    print(\"t-SNE 3D...\")\n",
    "    tsne_3d = TSNE(n_components=3, random_state=42, perplexity=perplexity)\n",
    "    vectors_3d = tsne_3d.fit_transform(embedding_vectors)\n",
    "    \n",
    "    # PCA als Alternative\n",
    "    print(\"PCA 2D und 3D...\")\n",
    "    pca_2d = PCA(n_components=2)\n",
    "    pca_vectors_2d = pca_2d.fit_transform(embedding_vectors)\n",
    "    \n",
    "    pca_3d = PCA(n_components=3)\n",
    "    pca_vectors_3d = pca_3d.fit_transform(embedding_vectors)\n",
    "    \n",
    "    return vectors_2d, vectors_3d, pca_vectors_2d, pca_vectors_3d"
   ]
  },
  {
   "cell_type": "code",
   "execution_count": 14,
   "id": "2c3ac09b",
   "metadata": {},
   "outputs": [],
   "source": [
    "def visualize_2d(labels, vectors_2d, title=\"Word Embeddings in 2D\", max_points=300):\n",
    "    \"\"\"\n",
    "    Visualisiert 2D-Embeddings mit Matplotlib\n",
    "    \"\"\"\n",
    "    # Wenn zu viele Punkte, eine Teilmenge auswählen\n",
    "    if len(labels) > max_points:\n",
    "        indices = np.random.choice(range(len(labels)), max_points, replace=False)\n",
    "        labels_subset = [labels[i] for i in indices]\n",
    "        vectors_subset = vectors_2d[indices]\n",
    "    else:\n",
    "        labels_subset = labels\n",
    "        vectors_subset = vectors_2d\n",
    "    \n",
    "    plt.figure(figsize=(12, 10))\n",
    "    \n",
    "    # Punktwolken-Diagramm erstellen\n",
    "    plt.scatter(vectors_subset[:, 0], vectors_subset[:, 1], c='blue', alpha=0.5)\n",
    "    \n",
    "    # Labels hinzufügen\n",
    "    for i, label in enumerate(labels_subset):\n",
    "        plt.annotate(label, xy=(vectors_subset[i, 0], vectors_subset[i, 1]), \n",
    "                    xytext=(5, 2), textcoords='offset points', ha='right', va='bottom',\n",
    "                    fontsize=8)\n",
    "    \n",
    "    plt.title(title)\n",
    "    plt.xlabel(\"Dimension 1\")\n",
    "    plt.ylabel(\"Dimension 2\")\n",
    "    plt.grid(True)\n",
    "    plt.tight_layout()\n",
    "    plt.savefig(f\"{title.replace(' ', '_')}.png\", dpi=300)\n",
    "    plt.show()\n",
    "\n",
    "# Interaktive 2D-Visualisierung mit Plotly\n",
    "def interactive_2d_plot(labels, vectors_2d, title=\"Word Embeddings in 2D\", max_points=1000):\n",
    "    \"\"\"\n",
    "    Erstellt 2D-Visualisierung mit Plotly\n",
    "    \"\"\"\n",
    "    # Wenn zu viele Punkte, eine Teilmenge auswählen\n",
    "    if len(labels) > max_points:\n",
    "        indices = np.random.choice(range(len(labels)), max_points, replace=False)\n",
    "        labels_subset = [labels[i] for i in indices]\n",
    "        vectors_subset = vectors_2d[indices]\n",
    "    else:\n",
    "        labels_subset = labels\n",
    "        vectors_subset = vectors_2d\n",
    "    \n",
    "    # DataFrame erstellen für Plotly\n",
    "    df = pd.DataFrame({\n",
    "        'x': vectors_subset[:, 0],\n",
    "        'y': vectors_subset[:, 1],\n",
    "        'label': labels_subset\n",
    "    })\n",
    "    \n",
    "    fig = px.scatter(\n",
    "        df, x='x', y='y', text='label',\n",
    "        title=title,\n",
    "        labels={'x': 'Dimension 1', 'y': 'Dimension 2'}\n",
    "    )\n",
    "    \n",
    "    fig.update_traces(textposition='top center', marker=dict(size=8))\n",
    "    fig.update_layout(width=900, height=700, title_x=0.5)\n",
    "    \n",
    "    return fig"
   ]
  },
  {
   "cell_type": "code",
   "execution_count": 10,
   "id": "2f93873b",
   "metadata": {},
   "outputs": [],
   "source": [
    "# 3D-Visualisierung mit Plotly\n",
    "def interactive_3d_plot(labels, vectors_3d, title=\"Interaktive Word Embeddings in 3D\", max_points=1000):\n",
    "    \"\"\"\n",
    "    Erstellt interaktive 3D-Visualisierung mit Plotly\n",
    "    \"\"\"\n",
    "    # Wenn zu viele Punkte, eine Teilmenge auswählen\n",
    "    if len(labels) > max_points:\n",
    "        indices = np.random.choice(range(len(labels)), max_points, replace=False)\n",
    "        labels_subset = [labels[i] for i in indices]\n",
    "        vectors_subset = vectors_3d[indices]\n",
    "    else:\n",
    "        labels_subset = labels\n",
    "        vectors_subset = vectors_3d\n",
    "    \n",
    "    # DataFrame erstellen für Plotly\n",
    "    df = pd.DataFrame({\n",
    "        'x': vectors_subset[:, 0],\n",
    "        'y': vectors_subset[:, 1],\n",
    "        'z': vectors_subset[:, 2],\n",
    "        'label': labels_subset\n",
    "    })\n",
    "    \n",
    "    fig = px.scatter_3d(\n",
    "        df, x='x', y='y', z='z', text='label',\n",
    "        title=title,\n",
    "        labels={'x': 'Dimension 1', 'y': 'Dimension 2', 'z': 'Dimension 3'}\n",
    "    )\n",
    "    \n",
    "    fig.update_traces(marker=dict(size=5))\n",
    "    fig.update_layout(width=900, height=700, title_x=0.5)  # Center the title\n",
    "    \n",
    "    return fig"
   ]
  },
  {
   "cell_type": "code",
   "execution_count": 11,
   "id": "47fc31d2",
   "metadata": {},
   "outputs": [],
   "source": [
    "def visualize_llm_embeddings(text, embedding_model=\"sentence-transformers/all-mpnet-base-v2\"):\n",
    "    \"\"\"\n",
    "    Hauptfunktion zur Visualisierung von LLM-Embeddings\n",
    "    \"\"\"\n",
    "    print(\"Verarbeite Text...\")\n",
    "    sentences = preprocess_text(text)\n",
    "    print(f\"Extrahierte {len(sentences)} Sätze aus dem Text\")\n",
    "    \n",
    "    # Option 1: Word-Level Embeddings\n",
    "    words, word_embeddings, sentences, sentence_embeddings = create_word_embeddings_with_transformer(\n",
    "        sentences, embedding_model)\n",
    "    \n",
    "    print(f\"Generierte Embeddings für {len(words)} eindeutige Wörter\")\n",
    "    \n",
    "    # Option 2: Token-Level Embeddings mit dem Tokenizer\n",
    "    tokenized_texts, all_tokens = tokenize_with_llm(sentences)\n",
    "    tokens, token_embeddings = create_token_embeddings_with_transformer(tokenized_texts)\n",
    "    \n",
    "    print(f\"Generierte Embeddings für {len(tokens)} eindeutige Tokens\")\n",
    "    \n",
    "    # Dimensionsreduktion für Word-Level Embeddings\n",
    "    print(\"Dimensionsreduktion für Word-Level Embeddings...\")\n",
    "    word_tsne_2d, word_tsne_3d, word_pca_2d, word_pca_3d = reduce_dimensions(word_embeddings)\n",
    "    \n",
    "    # Dimensionsreduktion für Token-Level Embeddings\n",
    "    print(\"Dimensionsreduktion für Token-Level Embeddings...\")\n",
    "    token_tsne_2d, token_tsne_3d, token_pca_2d, token_pca_3d = reduce_dimensions(token_embeddings)\n",
    "    \n",
    "    # Dimensionsreduktion für Sentence-Level Embeddings\n",
    "    print(\"Dimensionsreduktion für Sentence-Level Embeddings...\")\n",
    "    sent_tsne_2d, sent_tsne_3d, sent_pca_2d, sent_pca_3d = reduce_dimensions(sentence_embeddings)\n",
    "    \n",
    "    # Word-Level Visualisierungen\n",
    "    print(\"Erstelle Word-Level Visualisierungen...\")\n",
    "    visualize_2d(words, word_tsne_2d, \"LLM Word Embeddings (t-SNE 2D)\")\n",
    "    word_tsne_2d_plot = interactive_2d_plot(words, word_tsne_2d, \"LLM Word Embeddings (t-SNE 2D)\")\n",
    "    word_pca_2d_plot = interactive_2d_plot(words, word_pca_2d, \"LLM Word Embeddings (PCA 2D)\")\n",
    "    word_tsne_3d_plot = interactive_3d_plot(words, word_tsne_3d, \"LLM Word Embeddings (t-SNE 3D)\")\n",
    "    \n",
    "    # Token-Level Visualisierungen\n",
    "    print(\"Erstelle Token-Level Visualisierungen...\")\n",
    "    visualize_2d(tokens, token_tsne_2d, \"LLM Token Embeddings (t-SNE 2D)\")\n",
    "    token_tsne_2d_plot = interactive_2d_plot(tokens, token_tsne_2d, \"LLM Token Embeddings (t-SNE 2D)\")\n",
    "    token_pca_2d_plot = interactive_2d_plot(tokens, token_pca_2d, \"LLM Token Embeddings (PCA 2D)\")\n",
    "    token_tsne_3d_plot = interactive_3d_plot(tokens, token_tsne_3d, \"LLM Token Embeddings (t-SNE 3D)\")\n",
    "    \n",
    "    # Sentence-Level Visualisierungen\n",
    "    # Nur die ersten 50 Zeichen jedes Satzes als Label verwenden\n",
    "    short_sentence_labels = [s[:50] + \"...\" if len(s) > 50 else s for s in sentences]\n",
    "    \n",
    "    print(\"Erstelle Sentence-Level Visualisierungen...\")\n",
    "    sent_tsne_2d_plot = interactive_2d_plot(short_sentence_labels, sent_tsne_2d, \"LLM Sentence Embeddings (t-SNE 2D)\")\n",
    "    sent_tsne_3d_plot = interactive_3d_plot(short_sentence_labels, sent_tsne_3d, \"LLM Sentence Embeddings (t-SNE 3D)\")\n",
    "    \n",
    "    # Interaktive Plots anzeigen\n",
    "    print(\"Zeige interaktive Plots...\")\n",
    "    word_tsne_2d_plot.show()\n",
    "    token_tsne_2d_plot.show()\n",
    "    sent_tsne_2d_plot.show()\n",
    "    \n",
    "    word_tsne_3d_plot.show()\n",
    "    token_tsne_3d_plot.show()\n",
    "    sent_tsne_3d_plot.show()\n",
    "    \n",
    "    # Ergebnisse zurückgeben\n",
    "    results = {\n",
    "        \"words\": words,\n",
    "        \"word_embeddings\": word_embeddings,\n",
    "        \"word_tsne_2d\": word_tsne_2d,\n",
    "        \"word_tsne_3d\": word_tsne_3d,\n",
    "        \"word_pca_2d\": word_pca_2d,\n",
    "        \"word_pca_3d\": word_pca_3d,\n",
    "        \n",
    "        \"tokens\": tokens,\n",
    "        \"token_embeddings\": token_embeddings,\n",
    "        \"token_tsne_2d\": token_tsne_2d,\n",
    "        \"token_tsne_3d\": token_tsne_3d,\n",
    "        \"token_pca_2d\": token_pca_2d,\n",
    "        \"token_pca_3d\": token_pca_3d,\n",
    "        \n",
    "        \"sentences\": sentences,\n",
    "        \"sentence_embeddings\": sentence_embeddings,\n",
    "        \"sent_tsne_2d\": sent_tsne_2d,\n",
    "        \"sent_tsne_3d\": sent_tsne_3d,\n",
    "        \"sent_pca_2d\": sent_pca_2d,\n",
    "        \"sent_pca_3d\": sent_pca_3d\n",
    "    }\n",
    "    \n",
    "    return results"
   ]
  },
  {
   "cell_type": "code",
   "execution_count": 15,
   "id": "dedbf281",
   "metadata": {},
   "outputs": [
    {
     "name": "stdout",
     "output_type": "stream",
     "text": [
      "Verarbeite Text...\n",
      "Extrahierte 67 Sätze aus dem Text\n",
      "Lade Modell: intfloat/multilingual-e5-large\n",
      "Generiere Embeddings für Wörter...\n"
     ]
    },
    {
     "name": "stderr",
     "output_type": "stream",
     "text": [
      "Batches: 100%|██████████| 7/7 [00:00<00:00,  8.95it/s]\n"
     ]
    },
    {
     "name": "stdout",
     "output_type": "stream",
     "text": [
      "Generiere Embeddings für Sätze...\n"
     ]
    },
    {
     "name": "stderr",
     "output_type": "stream",
     "text": [
      "Batches: 100%|██████████| 3/3 [00:00<00:00,  8.71it/s]\n"
     ]
    },
    {
     "name": "stdout",
     "output_type": "stream",
     "text": [
      "Generierte Embeddings für 211 eindeutige Wörter\n",
      "Lade Token-Embedding-Modell: distilbert-base-uncased\n",
      "Generiere Embeddings für 94 eindeutige Tokens...\n",
      "Generierte Embeddings für 94 eindeutige Tokens\n",
      "Dimensionsreduktion für Word-Level Embeddings...\n",
      "Führe Dimensionsreduktion durch...\n",
      "t-SNE 2D...\n",
      "t-SNE 3D...\n",
      "PCA 2D und 3D...\n",
      "Dimensionsreduktion für Token-Level Embeddings...\n",
      "Führe Dimensionsreduktion durch...\n",
      "t-SNE 2D...\n",
      "t-SNE 3D...\n",
      "PCA 2D und 3D...\n",
      "Dimensionsreduktion für Sentence-Level Embeddings...\n",
      "Führe Dimensionsreduktion durch...\n",
      "t-SNE 2D...\n",
      "t-SNE 3D...\n",
      "PCA 2D und 3D...\n",
      "Erstelle Word-Level Visualisierungen...\n"
     ]
    },
    {
     "data": {
      "image/png": "[encoded data removed]",
      "text/plain": [
       "<Figure size 1200x1000 with 1 Axes>"
      ]
     },
     "metadata": {},
     "output_type": "display_data"
    },
    {
     "name": "stdout",
     "output_type": "stream",
     "text": [
      "Erstelle Token-Level Visualisierungen...\n"
     ]
    },
    {
     "data": {
      "image/png": "[encoded data removed]",
      "text/plain": [
       "<Figure size 1200x1000 with 1 Axes>"
      ]
     },
     "metadata": {},
     "output_type": "display_data"
    },
    {
     "name": "stdout",
     "output_type": "stream",
     "text": [
      "Erstelle Sentence-Level Visualisierungen...\n",
      "Zeige interaktive Plots...\n"
     ]
    },
    {
     "data": {
      "application/vnd.plotly.v1+json": {
       "config": {
        "plotlyServerURL": "https://plot.ly"
       },
       "data": [
        {
         "hovertemplate": "Dimension 1=%{x}<br>Dimension 2=%{y}<br>label=%{text}<extra></extra>",
         "legendgroup": "",
         "marker": {
          "color": "#636efa",
          "size": 8,
          "symbol": "circle"
         },
         "mode": "markers+text",
         "name": "",
         "orientation": "v",
         "showlegend": false,
         "text": [
          "completed",
          "guidelines.",
          "explanation",
          "names",
          "with",
          "involved",
          "values",
          "produce",
          "few",
          "adhere",
          "joins).",
          "'%term%'.",
          "this",
          "json",
          "'yyyy-mm-dd'",
          "full",
          "same",
          "the",
          "on",
          "`history`",
          "translated",
          "`question`",
          "syntactically",
          "if",
          "{history}",
          "insufficient,",
          "appropriate.",
          "german.",
          "output",
          "appropriate",
          "information,",
          "how",
          "insufficient",
          "true",
          "partial",
          "you",
          "ask",
          "\"items\":",
          "clearly",
          "to",
          "value",
          "explanations",
          "ilike",
          "before.",
          "`date`",
          "note:",
          "explain",
          "format.",
          "tables",
          "explanation:",
          "what",
          "questions",
          "{sql_query}",
          "insufficient.",
          "are:",
          "`explanation`",
          "generate",
          "multiple",
          "{explanation}",
          "]]",
          "provided,",
          "whether",
          "based",
          "columns.",
          "all",
          "clarification_questions",
          "strictly.",
          "false",
          "adhering",
          "'q:",
          "is:",
          "definition",
          "case",
          "boolean",
          "indicating",
          "previous",
          "current",
          "following",
          "fabricate.",
          "that",
          "interactions",
          "(bool):",
          "{\"type\":",
          "as",
          "`examples`",
          "{db_schema}",
          "sufficient.",
          "query",
          "user's",
          "otherwise.",
          "for",
          "case-insensitive",
          "when",
          "already",
          "structured",
          "shot",
          "or",
          "flag",
          "follow",
          "necessary",
          "and",
          "are",
          "needs",
          "part",
          "in.",
          "way,",
          "natural",
          "is",
          "{examples}",
          "`clarification_questions`",
          "final",
          "(ddl",
          "must",
          "matches,",
          "your",
          "`db_schema`",
          "indentation",
          "history",
          "examples,",
          "language",
          "guidelines",
          "standard",
          "empty",
          "not",
          "use",
          "duckdb",
          "1.",
          "guidelines:",
          "line",
          "examples",
          "2.",
          "3.",
          "(in",
          "from",
          "spelling.",
          "objective",
          "explanation.",
          "filled",
          "{clarification_questions}",
          "context",
          "query.",
          "##",
          "q&a",
          "\"array\",",
          "column",
          "correct",
          "exactly",
          "matches",
          "matching",
          "readability.",
          "insufficient_context",
          "questions.",
          "{insufficient_context}",
          "...",
          "4.",
          "`sql_query`",
          "do",
          "was",
          "should",
          "6.",
          "will",
          "list",
          "5.",
          "...'.",
          "of",
          "exact",
          "a:",
          "answers",
          "(str):",
          "schema:",
          "format",
          "contains",
          "constructed.",
          "resulting",
          "available",
          "guess",
          "valid",
          "string",
          "return",
          "sql_query",
          "comments)",
          "missing",
          "date",
          "db_schema",
          "like",
          "'question:",
          "specific",
          "table",
          "qualify",
          "input",
          "question",
          "(especially",
          "interpreted",
          "german).",
          "sql",
          "sql:",
          "{question}",
          "`insufficient_context`",
          "[[",
          "(list):",
          "fields",
          "{date}",
          "be",
          "schema",
          "user",
          "7.",
          "{}}",
          "in",
          "breaks",
          "into",
          "structure,"
         ],
         "textposition": "top center",
         "type": "scatter",
         "x": {
          "bdata": "ZR0RQSPlw8C6qzPAuz9GQXVvqb5JBqFAul40QWiMcUFnp8tAPEiHQX3vFEEKRmHBsmUnwBDYp8GnMHnBvt4cQR46LEB6Lsi+AomlP1SIVsG+/Og+PytJwZP7CED65SDAYYMAwdDGf0AT8kRBMeT6QEx9Y0EJODdBkksPQZ/m8b/SAptAlIo8P0TU7EANzCNAvtY5v1yBS8GfmapAPfEGQNcKMkHZFzjAQmP9PpGdhkAMJWTBDDcfweZcAMC2yvDAD+lKQS0cd8BmxTDA9bXyv1+CbsE1I25AkYQRwTItQcG32YBBqJcCQfSXEcHdGxbBw40YQbBAFMDkPJZARKlvQTHr5kC8uyHBjLmcQJaeQT8evIZBLnZmwaiNG8GZf5LAg31IQJ1bPL9UQQ6/ybCIQFCcfEC1P5JAMWY+Qa9G2b8+Ql4+E5c+wR/3RsHVP5o/Lv9CwX3wfsEGblBBs+QIwfsXVUGRrBZAHcufP7ucK0BHwwHA7pexQFT9FUHNPdpAsdAuwOrje0H67JZAOp4iQV+lAcDxvUZAZjkmQR5/90DH9hrAsbDzQLtr/EBudhFAvgwGwUZkM8Eo3AhBV1WKweiEuUCfu6FAa4ogQIl5fMGxcOi/2erOwEbH0cA3615BS/K3wOHJxMCnShBB+fVDP4LqRkFg0JHBQSgLwfA11MC9Z2tBByLNwCedH8GjahrB4bQxwPLqTz5IgFJBuAsdQcx2dMDnTBlBfOodwVgf6cAkyAzBF7X9wEQPQcDzkkfBqPp3QZdEwEBeic1ACFmtQPtBxEAIllFBLLAGwbunRMA4KAnBUnQ2wX8YJMHpo2jBFpujQBb+NEBHOrxAXUsOwRgGgEDrkFhBv9IbwUEiNMGKVQe/QjTZQMPhHcGuZry/NOBJwfo5MsE/W+XABfeNP/6LPEFS5c5AMBgdQaxGKz+jujtB3ItrQY+DwkBCcoLB1TOtwIRgBkEpS2TB4USLwUrPUD/rsmvBOEkCQQXOTEFsS01BJuVdQTiS1L91g4Y/wP21Pg7bA0HTa4vBzrRzwaFxHMH0oRDBAnYQwVQBE8Etsi5BjN4nwfJAh0BLAZjBy29RQRvUCMH3whvBsJXfv0yztz9Zbz+/CKgTQQ==",
          "dtype": "f4"
         },
         "xaxis": "x",
         "y": {
          "bdata": "k12fP9VHBb97/sRALAIGQaHLuL+9jgJA2WHuQKKuA0At0FVBo/SFwIv+iMFXQv8/k5mFwEjSkkBJtzRBAFAnQGyAscAe1njACrRpwM6wG0ETcJtANaYoQX20w0BVux7BfNoTQVYxb0GSFv3AISSPwYs/QUD5dN3ApeswwSXq1cBO0GdBTKw1wYPiP0HjDfvAqFJAQRj5mr8LuO7A+xoTwFOK4kAOQOdA6JDKwLHoUMH3LCVBsqRWP4dsw0D1d53AmiE+QSbbtUC6ItLAi9QwQYxO0UBS9m9BKbnWvvheGEGHV0M/gQOqv+25AkHij1RAbA8RwSdQG8GjqrfATBVewQJh/r9ZCzRBnvp+wZC9LcE4l4fAAo37vqO1R7+kJN/AJ8YIQGbFScGDIyVAZw9CwcvOLsG3IYxAEPdtwTe0kcCK3gNBhl9ePo4zIEDjiby+sKgFQXrw8EB76gjBFv0BwXgUI79q52bB7S0KwJ1u0UD+lvbAs/0QwbIcTMEGKpRAnMUZwHMux0BvL41A9yBTwDj4A8DNe0W/oSswwLE4NkE8MHk/ItgswdxoecD4bIq9Zy/uQLClLUE0mf8+mzXdPz4ITMDh8QhBrp77wPcfCEFCMUlA+qsiQewqzECucrpAH6xev4WtiMC9ao5AZe4YwcrlYj7tVxhAKvtUwchWYb6gCwFBrJjQQEqXVcGZJWPBnFWQPtahGcBYxULBUlOcwHze3EBf8y9ASw0jQZiadUEMTAHBatQfQOpkSEFAhYZAzRJfwYbrz8DTz/bAVU8IQaawAEEr3TbB6J5qQUQAMEEg7FhBAyqLwAobaMEfnPJA0SE/v7pNnz6NfVbAD8x9wdeYWcAaxQpBv5B4wXK6bsBuhTLAjQnVwCtV8L82ChlBS1KLP3Cu4z9IH5jAzavFP296aMHXg+s/+d//wM8sOEGwDrbAQozUQPehTb4sW7lAdGtVQOW7nEASDV9ButUAQVXxsMDfzgq/2PW1wNTUPkEzlY/AU1ZWQD7lNUF4WozBjNieQEfjjcGP1qJAb2d/QH1LDkFKR2JBzClkQHbMfT8BIhpBXY7XQNMV7r8wU9tALmAdvn+PcsGzH5FAAzr2Pk5ZEkE3pCE/BttAwQ==",
          "dtype": "f4"
         },
         "yaxis": "y"
        }
       ],
       "layout": {
        "height": 700,
        "legend": {
         "tracegroupgap": 0
        },
        "template": {
         "data": {
          "bar": [
           {
            "error_x": {
             "color": "#2a3f5f"
            },
            "error_y": {
             "color": "#2a3f5f"
            },
            "marker": {
             "line": {
              "color": "#E5ECF6",
              "width": 0.5
             },
             "pattern": {
              "fillmode": "overlay",
              "size": 10,
              "solidity": 0.2
             }
            },
            "type": "bar"
           }
          ],
          "barpolar": [
           {
            "marker": {
             "line": {
              "color": "#E5ECF6",
              "width": 0.5
             },
             "pattern": {
              "fillmode": "overlay",
              "size": 10,
              "solidity": 0.2
             }
            },
            "type": "barpolar"
           }
          ],
          "carpet": [
           {
            "aaxis": {
             "endlinecolor": "#2a3f5f",
             "gridcolor": "white",
             "linecolor": "white",
             "minorgridcolor": "white",
             "startlinecolor": "#2a3f5f"
            },
            "baxis": {
             "endlinecolor": "#2a3f5f",
             "gridcolor": "white",
             "linecolor": "white",
             "minorgridcolor": "white",
             "startlinecolor": "#2a3f5f"
            },
            "type": "carpet"
           }
          ],
          "choropleth": [
           {
            "colorbar": {
             "outlinewidth": 0,
             "ticks": ""
            },
            "type": "choropleth"
           }
          ],
          "contour": [
           {
            "colorbar": {
             "outlinewidth": 0,
             "ticks": ""
            },
            "colorscale": [
             [
              0,
              "#0d0887"
             ],
             [
              0.1111111111111111,
              "#46039f"
             ],
             [
              0.2222222222222222,
              "#7201a8"
             ],
             [
              0.3333333333333333,
              "#9c179e"
             ],
             [
              0.4444444444444444,
              "#bd3786"
             ],
             [
              0.5555555555555556,
              "#d8576b"
             ],
             [
              0.6666666666666666,
              "#ed7953"
             ],
             [
              0.7777777777777778,
              "#fb9f3a"
             ],
             [
              0.8888888888888888,
              "#fdca26"
             ],
             [
              1,
              "#f0f921"
             ]
            ],
            "type": "contour"
           }
          ],
          "contourcarpet": [
           {
            "colorbar": {
             "outlinewidth": 0,
             "ticks": ""
            },
            "type": "contourcarpet"
           }
          ],
          "heatmap": [
           {
            "colorbar": {
             "outlinewidth": 0,
             "ticks": ""
            },
            "colorscale": [
             [
              0,
              "#0d0887"
             ],
             [
              0.1111111111111111,
              "#46039f"
             ],
             [
              0.2222222222222222,
              "#7201a8"
             ],
             [
              0.3333333333333333,
              "#9c179e"
             ],
             [
              0.4444444444444444,
              "#bd3786"
             ],
             [
              0.5555555555555556,
              "#d8576b"
             ],
             [
              0.6666666666666666,
              "#ed7953"
             ],
             [
              0.7777777777777778,
              "#fb9f3a"
             ],
             [
              0.8888888888888888,
              "#fdca26"
             ],
             [
              1,
              "#f0f921"
             ]
            ],
            "type": "heatmap"
           }
          ],
          "histogram": [
           {
            "marker": {
             "pattern": {
              "fillmode": "overlay",
              "size": 10,
              "solidity": 0.2
             }
            },
            "type": "histogram"
           }
          ],
          "histogram2d": [
           {
            "colorbar": {
             "outlinewidth": 0,
             "ticks": ""
            },
            "colorscale": [
             [
              0,
              "#0d0887"
             ],
             [
              0.1111111111111111,
              "#46039f"
             ],
             [
              0.2222222222222222,
              "#7201a8"
             ],
             [
              0.3333333333333333,
              "#9c179e"
             ],
             [
              0.4444444444444444,
              "#bd3786"
             ],
             [
              0.5555555555555556,
              "#d8576b"
             ],
             [
              0.6666666666666666,
              "#ed7953"
             ],
             [
              0.7777777777777778,
              "#fb9f3a"
             ],
             [
              0.8888888888888888,
              "#fdca26"
             ],
             [
              1,
              "#f0f921"
             ]
            ],
            "type": "histogram2d"
           }
          ],
          "histogram2dcontour": [
           {
            "colorbar": {
             "outlinewidth": 0,
             "ticks": ""
            },
            "colorscale": [
             [
              0,
              "#0d0887"
             ],
             [
              0.1111111111111111,
              "#46039f"
             ],
             [
              0.2222222222222222,
              "#7201a8"
             ],
             [
              0.3333333333333333,
              "#9c179e"
             ],
             [
              0.4444444444444444,
              "#bd3786"
             ],
             [
              0.5555555555555556,
              "#d8576b"
             ],
             [
              0.6666666666666666,
              "#ed7953"
             ],
             [
              0.7777777777777778,
              "#fb9f3a"
             ],
             [
              0.8888888888888888,
              "#fdca26"
             ],
             [
              1,
              "#f0f921"
             ]
            ],
            "type": "histogram2dcontour"
           }
          ],
          "mesh3d": [
           {
            "colorbar": {
             "outlinewidth": 0,
             "ticks": ""
            },
            "type": "mesh3d"
           }
          ],
          "parcoords": [
           {
            "line": {
             "colorbar": {
              "outlinewidth": 0,
              "ticks": ""
             }
            },
            "type": "parcoords"
           }
          ],
          "pie": [
           {
            "automargin": true,
            "type": "pie"
           }
          ],
          "scatter": [
           {
            "fillpattern": {
             "fillmode": "overlay",
             "size": 10,
             "solidity": 0.2
            },
            "type": "scatter"
           }
          ],
          "scatter3d": [
           {
            "line": {
             "colorbar": {
              "outlinewidth": 0,
              "ticks": ""
             }
            },
            "marker": {
             "colorbar": {
              "outlinewidth": 0,
              "ticks": ""
             }
            },
            "type": "scatter3d"
           }
          ],
          "scattercarpet": [
           {
            "marker": {
             "colorbar": {
              "outlinewidth": 0,
              "ticks": ""
             }
            },
            "type": "scattercarpet"
           }
          ],
          "scattergeo": [
           {
            "marker": {
             "colorbar": {
              "outlinewidth": 0,
              "ticks": ""
             }
            },
            "type": "scattergeo"
           }
          ],
          "scattergl": [
           {
            "marker": {
             "colorbar": {
              "outlinewidth": 0,
              "ticks": ""
             }
            },
            "type": "scattergl"
           }
          ],
          "scattermap": [
           {
            "marker": {
             "colorbar": {
              "outlinewidth": 0,
              "ticks": ""
             }
            },
            "type": "scattermap"
           }
          ],
          "scattermapbox": [
           {
            "marker": {
             "colorbar": {
              "outlinewidth": 0,
              "ticks": ""
             }
            },
            "type": "scattermapbox"
           }
          ],
          "scatterpolar": [
           {
            "marker": {
             "colorbar": {
              "outlinewidth": 0,
              "ticks": ""
             }
            },
            "type": "scatterpolar"
           }
          ],
          "scatterpolargl": [
           {
            "marker": {
             "colorbar": {
              "outlinewidth": 0,
              "ticks": ""
             }
            },
            "type": "scatterpolargl"
           }
          ],
          "scatterternary": [
           {
            "marker": {
             "colorbar": {
              "outlinewidth": 0,
              "ticks": ""
             }
            },
            "type": "scatterternary"
           }
          ],
          "surface": [
           {
            "colorbar": {
             "outlinewidth": 0,
             "ticks": ""
            },
            "colorscale": [
             [
              0,
              "#0d0887"
             ],
             [
              0.1111111111111111,
              "#46039f"
             ],
             [
              0.2222222222222222,
              "#7201a8"
             ],
             [
              0.3333333333333333,
              "#9c179e"
             ],
             [
              0.4444444444444444,
              "#bd3786"
             ],
             [
              0.5555555555555556,
              "#d8576b"
             ],
             [
              0.6666666666666666,
              "#ed7953"
             ],
             [
              0.7777777777777778,
              "#fb9f3a"
             ],
             [
              0.8888888888888888,
              "#fdca26"
             ],
             [
              1,
              "#f0f921"
             ]
            ],
            "type": "surface"
           }
          ],
          "table": [
           {
            "cells": {
             "fill": {
              "color": "#EBF0F8"
             },
             "line": {
              "color": "white"
             }
            },
            "header": {
             "fill": {
              "color": "#C8D4E3"
             },
             "line": {
              "color": "white"
             }
            },
            "type": "table"
           }
          ]
         },
         "layout": {
          "annotationdefaults": {
           "arrowcolor": "#2a3f5f",
           "arrowhead": 0,
           "arrowwidth": 1
          },
          "autotypenumbers": "strict",
          "coloraxis": {
           "colorbar": {
            "outlinewidth": 0,
            "ticks": ""
           }
          },
          "colorscale": {
           "diverging": [
            [
             0,
             "#8e0152"
            ],
            [
             0.1,
             "#c51b7d"
            ],
            [
             0.2,
             "#de77ae"
            ],
            [
             0.3,
             "#f1b6da"
            ],
            [
             0.4,
             "#fde0ef"
            ],
            [
             0.5,
             "#f7f7f7"
            ],
            [
             0.6,
             "#e6f5d0"
            ],
            [
             0.7,
             "#b8e186"
            ],
            [
             0.8,
             "#7fbc41"
            ],
            [
             0.9,
             "#4d9221"
            ],
            [
             1,
             "#276419"
            ]
           ],
           "sequential": [
            [
             0,
             "#0d0887"
            ],
            [
             0.1111111111111111,
             "#46039f"
            ],
            [
             0.2222222222222222,
             "#7201a8"
            ],
            [
             0.3333333333333333,
             "#9c179e"
            ],
            [
             0.4444444444444444,
             "#bd3786"
            ],
            [
             0.5555555555555556,
             "#d8576b"
            ],
            [
             0.6666666666666666,
             "#ed7953"
            ],
            [
             0.7777777777777778,
             "#fb9f3a"
            ],
            [
             0.8888888888888888,
             "#fdca26"
            ],
            [
             1,
             "#f0f921"
            ]
           ],
           "sequentialminus": [
            [
             0,
             "#0d0887"
            ],
            [
             0.1111111111111111,
             "#46039f"
            ],
            [
             0.2222222222222222,
             "#7201a8"
            ],
            [
             0.3333333333333333,
             "#9c179e"
            ],
            [
             0.4444444444444444,
             "#bd3786"
            ],
            [
             0.5555555555555556,
             "#d8576b"
            ],
            [
             0.6666666666666666,
             "#ed7953"
            ],
            [
             0.7777777777777778,
             "#fb9f3a"
            ],
            [
             0.8888888888888888,
             "#fdca26"
            ],
            [
             1,
             "#f0f921"
            ]
           ]
          },
          "colorway": [
           "#636efa",
           "#EF553B",
           "#00cc96",
           "#ab63fa",
           "#FFA15A",
           "#19d3f3",
           "#FF6692",
           "#B6E880",
           "#FF97FF",
           "#FECB52"
          ],
          "font": {
           "color": "#2a3f5f"
          },
          "geo": {
           "bgcolor": "white",
           "lakecolor": "white",
           "landcolor": "#E5ECF6",
           "showlakes": true,
           "showland": true,
           "subunitcolor": "white"
          },
          "hoverlabel": {
           "align": "left"
          },
          "hovermode": "closest",
          "mapbox": {
           "style": "light"
          },
          "paper_bgcolor": "white",
          "plot_bgcolor": "#E5ECF6",
          "polar": {
           "angularaxis": {
            "gridcolor": "white",
            "linecolor": "white",
            "ticks": ""
           },
           "bgcolor": "#E5ECF6",
           "radialaxis": {
            "gridcolor": "white",
            "linecolor": "white",
            "ticks": ""
           }
          },
          "scene": {
           "xaxis": {
            "backgroundcolor": "#E5ECF6",
            "gridcolor": "white",
            "gridwidth": 2,
            "linecolor": "white",
            "showbackground": true,
            "ticks": "",
            "zerolinecolor": "white"
           },
           "yaxis": {
            "backgroundcolor": "#E5ECF6",
            "gridcolor": "white",
            "gridwidth": 2,
            "linecolor": "white",
            "showbackground": true,
            "ticks": "",
            "zerolinecolor": "white"
           },
           "zaxis": {
            "backgroundcolor": "#E5ECF6",
            "gridcolor": "white",
            "gridwidth": 2,
            "linecolor": "white",
            "showbackground": true,
            "ticks": "",
            "zerolinecolor": "white"
           }
          },
          "shapedefaults": {
           "line": {
            "color": "#2a3f5f"
           }
          },
          "ternary": {
           "aaxis": {
            "gridcolor": "white",
            "linecolor": "white",
            "ticks": ""
           },
           "baxis": {
            "gridcolor": "white",
            "linecolor": "white",
            "ticks": ""
           },
           "bgcolor": "#E5ECF6",
           "caxis": {
            "gridcolor": "white",
            "linecolor": "white",
            "ticks": ""
           }
          },
          "title": {
           "x": 0.05
          },
          "xaxis": {
           "automargin": true,
           "gridcolor": "white",
           "linecolor": "white",
           "ticks": "",
           "title": {
            "standoff": 15
           },
           "zerolinecolor": "white",
           "zerolinewidth": 2
          },
          "yaxis": {
           "automargin": true,
           "gridcolor": "white",
           "linecolor": "white",
           "ticks": "",
           "title": {
            "standoff": 15
           },
           "zerolinecolor": "white",
           "zerolinewidth": 2
          }
         }
        },
        "title": {
         "text": "LLM Word Embeddings (t-SNE 2D)",
         "x": 0.5
        },
        "width": 900,
        "xaxis": {
         "anchor": "y",
         "domain": [
          0,
          1
         ],
         "title": {
          "text": "Dimension 1"
         }
        },
        "yaxis": {
         "anchor": "x",
         "domain": [
          0,
          1
         ],
         "title": {
          "text": "Dimension 2"
         }
        }
       }
      }
     },
     "metadata": {},
     "output_type": "display_data"
    },
    {
     "data": {
      "application/vnd.plotly.v1+json": {
       "config": {
        "plotlyServerURL": "https://plot.ly"
       },
       "data": [
        {
         "hovertemplate": "Dimension 1=%{x}<br>Dimension 2=%{y}<br>label=%{text}<extra></extra>",
         "legendgroup": "",
         "marker": {
          "color": "#636efa",
          "size": 8,
          "symbol": "circle"
         },
         "mode": "markers+text",
         "name": "",
         "orientation": "v",
         "showlegend": false,
         "text": [
          "explanation",
          "names",
          "with",
          "q",
          "produce",
          "##ari",
          "db",
          ":",
          "]",
          "the",
          "sc",
          "s",
          ",",
          "if",
          "##y",
          "output",
          "note",
          "appropriate",
          "how",
          "insufficient",
          "true",
          "you",
          "to",
          "value",
          "tables",
          "questions",
          "generate",
          ".",
          "all",
          "false",
          "1",
          "a",
          "st",
          "#",
          "case",
          "current",
          "interactions",
          "\"",
          "2",
          "as",
          "query",
          "for",
          ")",
          "when",
          "structured",
          "(",
          "or",
          "##r",
          "and",
          "duck",
          "are",
          "is",
          "{",
          "must",
          "your",
          "-",
          "history",
          "}",
          "guidelines",
          "empty",
          "use",
          "examples",
          "context",
          "column",
          "%",
          "matches",
          "_",
          "3",
          "##l",
          "was",
          "##hema",
          "list",
          "cl",
          "of",
          "exact",
          "format",
          "##fication",
          "boo",
          "valid",
          "`",
          "##db",
          "date",
          "4",
          "table",
          "question",
          "german",
          "sql",
          "dd",
          "'",
          "5",
          "fields",
          "be",
          "user",
          "in"
         ],
         "textposition": "top center",
         "type": "scatter",
         "x": {
          "bdata": "AK6nwFugosBM+q6/Rwe0wJW26L88ufjAY1nYwJ6bk8CIZ/i/cCEOwAtzSMBjFzDANuhevZTDpD/enfrA0flWwP5qt8Aoam/AoufQP45nhcC8nte86KUzv/FfTD9Hi0PAnZ3EwDzE68AROHHA/H4zPwNeDcAHGy6+ko6MwOekBMCB4R3AHKbawBK2PMDp6QDBCIRRwNJd37+BKnfAJJ61vrrmgMCsdDq+N1UhwKeLWT9l+4PA5WYcwFsvAkDhreXA3U6PPjgOHcHfJTu/Ee2FPoAHL8FD0MS/kNtrvyOYYMDrE87Ar6wuwTnKjcDG4xHAjv6HwGkNP8AFO3/ArOjmwHRIqsBGWgXBrmMIwR1jjsAkG+jAy0wrvyYl7sBy+rTAlc9uwErrOb7AsrfA56LpwJnx+cBjExbBchWgwM3ksL6UzuTA9h3cwBI7iMAgrL3Aa0LrwMOa0cCRAIrA19h1wM6RXD5Wp3rAxcEcwHC9AT8dVI/ATcePvw==",
          "dtype": "f4"
         },
         "xaxis": "x",
         "y": {
          "bdata": "mlWoP9mnqT2PAju9ny/CwFk+V0BZwmLAF9mqwGUTOL8HekjAyhIsvoUaqcB71JXA2rdcvzdlB0ATXoXA33yqQGdcl79ZkHk/N3qDv1yB4j7UHINAxj/5v308DL+e/5hAmvbZPhGZkUAeu+JAVFTlv7Qzcb9Oeo1AApAmwMSyED40Uq3A/wA4wMu4Zz8nDUm/eekXQAqLz7+qiQ/Axu1KPxw/2kAbTac/7b0dwJVMgD/s/kNAn48QwGo0uD7EQ4DAhPhwvQtrj8AS7K4/GCsIQNcyir+qvZY/meX0vw16j78VO/u+4/CLv/3F1D8qpaVAzNGTQFSEXUBuLGFAyOwJvilOYcA9nRI/+eEUwE+hEsCD5GzApWluvhfLQcBfsAu/HaKfwNn0/b7XGDtA9d9cP5UkR8Ac9YjASf+OwF3uhMBVspTAiSW7v+hpDcCLLoI9cV6RQFxWyj9pVsJAz9zGwPfRV8DCFgzARlsUQOYvE0BWLpVA0KzQPQ==",
          "dtype": "f4"
         },
         "yaxis": "y"
        }
       ],
       "layout": {
        "height": 700,
        "legend": {
         "tracegroupgap": 0
        },
        "template": {
         "data": {
          "bar": [
           {
            "error_x": {
             "color": "#2a3f5f"
            },
            "error_y": {
             "color": "#2a3f5f"
            },
            "marker": {
             "line": {
              "color": "#E5ECF6",
              "width": 0.5
             },
             "pattern": {
              "fillmode": "overlay",
              "size": 10,
              "solidity": 0.2
             }
            },
            "type": "bar"
           }
          ],
          "barpolar": [
           {
            "marker": {
             "line": {
              "color": "#E5ECF6",
              "width": 0.5
             },
             "pattern": {
              "fillmode": "overlay",
              "size": 10,
              "solidity": 0.2
             }
            },
            "type": "barpolar"
           }
          ],
          "carpet": [
           {
            "aaxis": {
             "endlinecolor": "#2a3f5f",
             "gridcolor": "white",
             "linecolor": "white",
             "minorgridcolor": "white",
             "startlinecolor": "#2a3f5f"
            },
            "baxis": {
             "endlinecolor": "#2a3f5f",
             "gridcolor": "white",
             "linecolor": "white",
             "minorgridcolor": "white",
             "startlinecolor": "#2a3f5f"
            },
            "type": "carpet"
           }
          ],
          "choropleth": [
           {
            "colorbar": {
             "outlinewidth": 0,
             "ticks": ""
            },
            "type": "choropleth"
           }
          ],
          "contour": [
           {
            "colorbar": {
             "outlinewidth": 0,
             "ticks": ""
            },
            "colorscale": [
             [
              0,
              "#0d0887"
             ],
             [
              0.1111111111111111,
              "#46039f"
             ],
             [
              0.2222222222222222,
              "#7201a8"
             ],
             [
              0.3333333333333333,
              "#9c179e"
             ],
             [
              0.4444444444444444,
              "#bd3786"
             ],
             [
              0.5555555555555556,
              "#d8576b"
             ],
             [
              0.6666666666666666,
              "#ed7953"
             ],
             [
              0.7777777777777778,
              "#fb9f3a"
             ],
             [
              0.8888888888888888,
              "#fdca26"
             ],
             [
              1,
              "#f0f921"
             ]
            ],
            "type": "contour"
           }
          ],
          "contourcarpet": [
           {
            "colorbar": {
             "outlinewidth": 0,
             "ticks": ""
            },
            "type": "contourcarpet"
           }
          ],
          "heatmap": [
           {
            "colorbar": {
             "outlinewidth": 0,
             "ticks": ""
            },
            "colorscale": [
             [
              0,
              "#0d0887"
             ],
             [
              0.1111111111111111,
              "#46039f"
             ],
             [
              0.2222222222222222,
              "#7201a8"
             ],
             [
              0.3333333333333333,
              "#9c179e"
             ],
             [
              0.4444444444444444,
              "#bd3786"
             ],
             [
              0.5555555555555556,
              "#d8576b"
             ],
             [
              0.6666666666666666,
              "#ed7953"
             ],
             [
              0.7777777777777778,
              "#fb9f3a"
             ],
             [
              0.8888888888888888,
              "#fdca26"
             ],
             [
              1,
              "#f0f921"
             ]
            ],
            "type": "heatmap"
           }
          ],
          "histogram": [
           {
            "marker": {
             "pattern": {
              "fillmode": "overlay",
              "size": 10,
              "solidity": 0.2
             }
            },
            "type": "histogram"
           }
          ],
          "histogram2d": [
           {
            "colorbar": {
             "outlinewidth": 0,
             "ticks": ""
            },
            "colorscale": [
             [
              0,
              "#0d0887"
             ],
             [
              0.1111111111111111,
              "#46039f"
             ],
             [
              0.2222222222222222,
              "#7201a8"
             ],
             [
              0.3333333333333333,
              "#9c179e"
             ],
             [
              0.4444444444444444,
              "#bd3786"
             ],
             [
              0.5555555555555556,
              "#d8576b"
             ],
             [
              0.6666666666666666,
              "#ed7953"
             ],
             [
              0.7777777777777778,
              "#fb9f3a"
             ],
             [
              0.8888888888888888,
              "#fdca26"
             ],
             [
              1,
              "#f0f921"
             ]
            ],
            "type": "histogram2d"
           }
          ],
          "histogram2dcontour": [
           {
            "colorbar": {
             "outlinewidth": 0,
             "ticks": ""
            },
            "colorscale": [
             [
              0,
              "#0d0887"
             ],
             [
              0.1111111111111111,
              "#46039f"
             ],
             [
              0.2222222222222222,
              "#7201a8"
             ],
             [
              0.3333333333333333,
              "#9c179e"
             ],
             [
              0.4444444444444444,
              "#bd3786"
             ],
             [
              0.5555555555555556,
              "#d8576b"
             ],
             [
              0.6666666666666666,
              "#ed7953"
             ],
             [
              0.7777777777777778,
              "#fb9f3a"
             ],
             [
              0.8888888888888888,
              "#fdca26"
             ],
             [
              1,
              "#f0f921"
             ]
            ],
            "type": "histogram2dcontour"
           }
          ],
          "mesh3d": [
           {
            "colorbar": {
             "outlinewidth": 0,
             "ticks": ""
            },
            "type": "mesh3d"
           }
          ],
          "parcoords": [
           {
            "line": {
             "colorbar": {
              "outlinewidth": 0,
              "ticks": ""
             }
            },
            "type": "parcoords"
           }
          ],
          "pie": [
           {
            "automargin": true,
            "type": "pie"
           }
          ],
          "scatter": [
           {
            "fillpattern": {
             "fillmode": "overlay",
             "size": 10,
             "solidity": 0.2
            },
            "type": "scatter"
           }
          ],
          "scatter3d": [
           {
            "line": {
             "colorbar": {
              "outlinewidth": 0,
              "ticks": ""
             }
            },
            "marker": {
             "colorbar": {
              "outlinewidth": 0,
              "ticks": ""
             }
            },
            "type": "scatter3d"
           }
          ],
          "scattercarpet": [
           {
            "marker": {
             "colorbar": {
              "outlinewidth": 0,
              "ticks": ""
             }
            },
            "type": "scattercarpet"
           }
          ],
          "scattergeo": [
           {
            "marker": {
             "colorbar": {
              "outlinewidth": 0,
              "ticks": ""
             }
            },
            "type": "scattergeo"
           }
          ],
          "scattergl": [
           {
            "marker": {
             "colorbar": {
              "outlinewidth": 0,
              "ticks": ""
             }
            },
            "type": "scattergl"
           }
          ],
          "scattermap": [
           {
            "marker": {
             "colorbar": {
              "outlinewidth": 0,
              "ticks": ""
             }
            },
            "type": "scattermap"
           }
          ],
          "scattermapbox": [
           {
            "marker": {
             "colorbar": {
              "outlinewidth": 0,
              "ticks": ""
             }
            },
            "type": "scattermapbox"
           }
          ],
          "scatterpolar": [
           {
            "marker": {
             "colorbar": {
              "outlinewidth": 0,
              "ticks": ""
             }
            },
            "type": "scatterpolar"
           }
          ],
          "scatterpolargl": [
           {
            "marker": {
             "colorbar": {
              "outlinewidth": 0,
              "ticks": ""
             }
            },
            "type": "scatterpolargl"
           }
          ],
          "scatterternary": [
           {
            "marker": {
             "colorbar": {
              "outlinewidth": 0,
              "ticks": ""
             }
            },
            "type": "scatterternary"
           }
          ],
          "surface": [
           {
            "colorbar": {
             "outlinewidth": 0,
             "ticks": ""
            },
            "colorscale": [
             [
              0,
              "#0d0887"
             ],
             [
              0.1111111111111111,
              "#46039f"
             ],
             [
              0.2222222222222222,
              "#7201a8"
             ],
             [
              0.3333333333333333,
              "#9c179e"
             ],
             [
              0.4444444444444444,
              "#bd3786"
             ],
             [
              0.5555555555555556,
              "#d8576b"
             ],
             [
              0.6666666666666666,
              "#ed7953"
             ],
             [
              0.7777777777777778,
              "#fb9f3a"
             ],
             [
              0.8888888888888888,
              "#fdca26"
             ],
             [
              1,
              "#f0f921"
             ]
            ],
            "type": "surface"
           }
          ],
          "table": [
           {
            "cells": {
             "fill": {
              "color": "#EBF0F8"
             },
             "line": {
              "color": "white"
             }
            },
            "header": {
             "fill": {
              "color": "#C8D4E3"
             },
             "line": {
              "color": "white"
             }
            },
            "type": "table"
           }
          ]
         },
         "layout": {
          "annotationdefaults": {
           "arrowcolor": "#2a3f5f",
           "arrowhead": 0,
           "arrowwidth": 1
          },
          "autotypenumbers": "strict",
          "coloraxis": {
           "colorbar": {
            "outlinewidth": 0,
            "ticks": ""
           }
          },
          "colorscale": {
           "diverging": [
            [
             0,
             "#8e0152"
            ],
            [
             0.1,
             "#c51b7d"
            ],
            [
             0.2,
             "#de77ae"
            ],
            [
             0.3,
             "#f1b6da"
            ],
            [
             0.4,
             "#fde0ef"
            ],
            [
             0.5,
             "#f7f7f7"
            ],
            [
             0.6,
             "#e6f5d0"
            ],
            [
             0.7,
             "#b8e186"
            ],
            [
             0.8,
             "#7fbc41"
            ],
            [
             0.9,
             "#4d9221"
            ],
            [
             1,
             "#276419"
            ]
           ],
           "sequential": [
            [
             0,
             "#0d0887"
            ],
            [
             0.1111111111111111,
             "#46039f"
            ],
            [
             0.2222222222222222,
             "#7201a8"
            ],
            [
             0.3333333333333333,
             "#9c179e"
            ],
            [
             0.4444444444444444,
             "#bd3786"
            ],
            [
             0.5555555555555556,
             "#d8576b"
            ],
            [
             0.6666666666666666,
             "#ed7953"
            ],
            [
             0.7777777777777778,
             "#fb9f3a"
            ],
            [
             0.8888888888888888,
             "#fdca26"
            ],
            [
             1,
             "#f0f921"
            ]
           ],
           "sequentialminus": [
            [
             0,
             "#0d0887"
            ],
            [
             0.1111111111111111,
             "#46039f"
            ],
            [
             0.2222222222222222,
             "#7201a8"
            ],
            [
             0.3333333333333333,
             "#9c179e"
            ],
            [
             0.4444444444444444,
             "#bd3786"
            ],
            [
             0.5555555555555556,
             "#d8576b"
            ],
            [
             0.6666666666666666,
             "#ed7953"
            ],
            [
             0.7777777777777778,
             "#fb9f3a"
            ],
            [
             0.8888888888888888,
             "#fdca26"
            ],
            [
             1,
             "#f0f921"
            ]
           ]
          },
          "colorway": [
           "#636efa",
           "#EF553B",
           "#00cc96",
           "#ab63fa",
           "#FFA15A",
           "#19d3f3",
           "#FF6692",
           "#B6E880",
           "#FF97FF",
           "#FECB52"
          ],
          "font": {
           "color": "#2a3f5f"
          },
          "geo": {
           "bgcolor": "white",
           "lakecolor": "white",
           "landcolor": "#E5ECF6",
           "showlakes": true,
           "showland": true,
           "subunitcolor": "white"
          },
          "hoverlabel": {
           "align": "left"
          },
          "hovermode": "closest",
          "mapbox": {
           "style": "light"
          },
          "paper_bgcolor": "white",
          "plot_bgcolor": "#E5ECF6",
          "polar": {
           "angularaxis": {
            "gridcolor": "white",
            "linecolor": "white",
            "ticks": ""
           },
           "bgcolor": "#E5ECF6",
           "radialaxis": {
            "gridcolor": "white",
            "linecolor": "white",
            "ticks": ""
           }
          },
          "scene": {
           "xaxis": {
            "backgroundcolor": "#E5ECF6",
            "gridcolor": "white",
            "gridwidth": 2,
            "linecolor": "white",
            "showbackground": true,
            "ticks": "",
            "zerolinecolor": "white"
           },
           "yaxis": {
            "backgroundcolor": "#E5ECF6",
            "gridcolor": "white",
            "gridwidth": 2,
            "linecolor": "white",
            "showbackground": true,
            "ticks": "",
            "zerolinecolor": "white"
           },
           "zaxis": {
            "backgroundcolor": "#E5ECF6",
            "gridcolor": "white",
            "gridwidth": 2,
            "linecolor": "white",
            "showbackground": true,
            "ticks": "",
            "zerolinecolor": "white"
           }
          },
          "shapedefaults": {
           "line": {
            "color": "#2a3f5f"
           }
          },
          "ternary": {
           "aaxis": {
            "gridcolor": "white",
            "linecolor": "white",
            "ticks": ""
           },
           "baxis": {
            "gridcolor": "white",
            "linecolor": "white",
            "ticks": ""
           },
           "bgcolor": "#E5ECF6",
           "caxis": {
            "gridcolor": "white",
            "linecolor": "white",
            "ticks": ""
           }
          },
          "title": {
           "x": 0.05
          },
          "xaxis": {
           "automargin": true,
           "gridcolor": "white",
           "linecolor": "white",
           "ticks": "",
           "title": {
            "standoff": 15
           },
           "zerolinecolor": "white",
           "zerolinewidth": 2
          },
          "yaxis": {
           "automargin": true,
           "gridcolor": "white",
           "linecolor": "white",
           "ticks": "",
           "title": {
            "standoff": 15
           },
           "zerolinecolor": "white",
           "zerolinewidth": 2
          }
         }
        },
        "title": {
         "text": "LLM Token Embeddings (t-SNE 2D)",
         "x": 0.5
        },
        "width": 900,
        "xaxis": {
         "anchor": "y",
         "domain": [
          0,
          1
         ],
         "title": {
          "text": "Dimension 1"
         }
        },
        "yaxis": {
         "anchor": "x",
         "domain": [
          0,
          1
         ],
         "title": {
          "text": "Dimension 2"
         }
        }
       }
      }
     },
     "metadata": {},
     "output_type": "display_data"
    },
    {
     "data": {
      "application/vnd.plotly.v1+json": {
       "config": {
        "plotlyServerURL": "https://plot.ly"
       },
       "data": [
        {
         "hovertemplate": "Dimension 1=%{x}<br>Dimension 2=%{y}<br>label=%{text}<extra></extra>",
         "legendgroup": "",
         "marker": {
          "color": "#636efa",
          "size": 8,
          "symbol": "circle"
         },
         "mode": "markers+text",
         "name": "",
         "orientation": "v",
         "showlegend": false,
         "text": [
          "Your input fields are:",
          "1.",
          "`db_schema` (str): Full schema definition (DDL + c...",
          "2.",
          "`date` (str): Current date in 'YYYY-MM-DD' format.",
          "3.",
          "`examples` (str): Few Shot Examples structured as ...",
          "Explanation: ...",
          "SQL: ...'.",
          "4.",
          "`history` (str): List of previous Q&A interactions...",
          "A: ...'.",
          "5.",
          "`question` (str): The user's current natural langu...",
          "Your output fields are:",
          "1.",
          "`explanation` (str): Explanation of how the query ...",
          "The explanation needs to be German.",
          "2.",
          "`sql_query` (str): The final DuckDB SQL query that...",
          "Should be empty if context is insufficient.",
          "3.",
          "`insufficient_context` (bool): Boolean flag indica...",
          "True if context is insufficient, False otherwise.",
          "4.",
          "`clarification_questions` (list): List of specific...",
          "Empty list if context is sufficient.",
          "All interactions will be structured in the followi...",
          "[[ ## db_schema ## ]]",
          "{db_schema}",
          "[[ ## date ## ]]",
          "{date}",
          "[[ ## examples ## ]]",
          "{examples}",
          "[[ ## history ## ]]",
          "{history}",
          "[[ ## question ## ]]",
          "{question}",
          "[[ ## explanation ## ]]",
          "{explanation}",
          "[[ ## sql_query ## ]]",
          "{sql_query}",
          "[[ ## insufficient_context ## ]]",
          "{insufficient_context}        # note: the value yo...",
          "[[ ## clarification_questions ## ]]",
          "{clarification_questions}        # note: the value...",
          "[[ ## completed ## ]]",
          "In adhering to this structure, your objective is:",
          "Generate valid DuckDB SQL from user questions.",
          "Explanations in German.",
          "Follow guidelines strictly.",
          "Guidelines:",
          "1.",
          "If the context contains all necessary information,...",
          "2.",
          "If the context is insufficient, clearly explain wh...",
          "3.",
          "If the exact question is already part of the examp...",
          "4.",
          "Use table and column names exactly as provided, ma...",
          "5.",
          "Qualify column names with table names when multipl...",
          "6.",
          "For partial string matches, use LIKE '%term%'.",
          "Use ILIKE for case-insensitive matches if appropri...",
          "7.",
          "Format the SQL with standard indentation and line ..."
         ],
         "textposition": "top center",
         "type": "scatter",
         "x": {
          "bdata": "cykZwG/TS0B8SB8/Oj6yQOCDzT+1J5dACXMwQMStV0BvM2VAbrJ0QOp5N0ADEntAC8vCQFm2Kz+cZRrAVUJCQDaMQj9eebq+Oj6yQBdNbj4NNobAtSeXQCHbMsA0X2HA2ARfQOeBVr9TUpHABxOUwLjnDL4O4vA8lAauP1m2hz+q8AhARJAPQOuo+D9Qrdk/IGEqP/VT0D+Cn6c/g78eQCXjG73HeZg+hLYUwHRWBcBgegc7AGugv5lnkz9qbybAXkIyv8nMsr5gIre+XItPviHlOEBs3GG/Oj6yQNVoe8DxIY1ArQucv26ydEA+X1nAC8vCQEqbacAKlLRAmb4swM9mQMB6y5tAknsNwA==",
          "dtype": "f4"
         },
         "xaxis": "x",
         "y": {
          "bdata": "XPeuwOS87sBfyyhA6pkdwdewMz5/LArBfDqVvlHgaMBHLdi/KcYbwXC+Kj8OZve/R6gAwQq3XT/8cq/A4z70wOcsZz/iygbB6pkdwbHKD0Be/CfAfywKwX9A7b+FPyjAX+cVwc1jCL+CbBnABC2PPiB0LMAuZH3AwSIHwL1KlMDHdsa/x4iUwP7OEsCrFaLA5M+vv/08g8AKIb6/f2qEwJbrGMC48W7A4cUrwL39GMCn35G/gGHDv50DHsBays3AQSEdQJy1BsEMLcjArVHBwPDo+cAjVyRA6pkdwWK/XsAkaQbB/rKOPynGG8F8dZY/R6gAwQcM7T82weLAphMRPoVWoj5eMejAqw/9Pw==",
          "dtype": "f4"
         },
         "yaxis": "y"
        }
       ],
       "layout": {
        "height": 700,
        "legend": {
         "tracegroupgap": 0
        },
        "template": {
         "data": {
          "bar": [
           {
            "error_x": {
             "color": "#2a3f5f"
            },
            "error_y": {
             "color": "#2a3f5f"
            },
            "marker": {
             "line": {
              "color": "#E5ECF6",
              "width": 0.5
             },
             "pattern": {
              "fillmode": "overlay",
              "size": 10,
              "solidity": 0.2
             }
            },
            "type": "bar"
           }
          ],
          "barpolar": [
           {
            "marker": {
             "line": {
              "color": "#E5ECF6",
              "width": 0.5
             },
             "pattern": {
              "fillmode": "overlay",
              "size": 10,
              "solidity": 0.2
             }
            },
            "type": "barpolar"
           }
          ],
          "carpet": [
           {
            "aaxis": {
             "endlinecolor": "#2a3f5f",
             "gridcolor": "white",
             "linecolor": "white",
             "minorgridcolor": "white",
             "startlinecolor": "#2a3f5f"
            },
            "baxis": {
             "endlinecolor": "#2a3f5f",
             "gridcolor": "white",
             "linecolor": "white",
             "minorgridcolor": "white",
             "startlinecolor": "#2a3f5f"
            },
            "type": "carpet"
           }
          ],
          "choropleth": [
           {
            "colorbar": {
             "outlinewidth": 0,
             "ticks": ""
            },
            "type": "choropleth"
           }
          ],
          "contour": [
           {
            "colorbar": {
             "outlinewidth": 0,
             "ticks": ""
            },
            "colorscale": [
             [
              0,
              "#0d0887"
             ],
             [
              0.1111111111111111,
              "#46039f"
             ],
             [
              0.2222222222222222,
              "#7201a8"
             ],
             [
              0.3333333333333333,
              "#9c179e"
             ],
             [
              0.4444444444444444,
              "#bd3786"
             ],
             [
              0.5555555555555556,
              "#d8576b"
             ],
             [
              0.6666666666666666,
              "#ed7953"
             ],
             [
              0.7777777777777778,
              "#fb9f3a"
             ],
             [
              0.8888888888888888,
              "#fdca26"
             ],
             [
              1,
              "#f0f921"
             ]
            ],
            "type": "contour"
           }
          ],
          "contourcarpet": [
           {
            "colorbar": {
             "outlinewidth": 0,
             "ticks": ""
            },
            "type": "contourcarpet"
           }
          ],
          "heatmap": [
           {
            "colorbar": {
             "outlinewidth": 0,
             "ticks": ""
            },
            "colorscale": [
             [
              0,
              "#0d0887"
             ],
             [
              0.1111111111111111,
              "#46039f"
             ],
             [
              0.2222222222222222,
              "#7201a8"
             ],
             [
              0.3333333333333333,
              "#9c179e"
             ],
             [
              0.4444444444444444,
              "#bd3786"
             ],
             [
              0.5555555555555556,
              "#d8576b"
             ],
             [
              0.6666666666666666,
              "#ed7953"
             ],
             [
              0.7777777777777778,
              "#fb9f3a"
             ],
             [
              0.8888888888888888,
              "#fdca26"
             ],
             [
              1,
              "#f0f921"
             ]
            ],
            "type": "heatmap"
           }
          ],
          "histogram": [
           {
            "marker": {
             "pattern": {
              "fillmode": "overlay",
              "size": 10,
              "solidity": 0.2
             }
            },
            "type": "histogram"
           }
          ],
          "histogram2d": [
           {
            "colorbar": {
             "outlinewidth": 0,
             "ticks": ""
            },
            "colorscale": [
             [
              0,
              "#0d0887"
             ],
             [
              0.1111111111111111,
              "#46039f"
             ],
             [
              0.2222222222222222,
              "#7201a8"
             ],
             [
              0.3333333333333333,
              "#9c179e"
             ],
             [
              0.4444444444444444,
              "#bd3786"
             ],
             [
              0.5555555555555556,
              "#d8576b"
             ],
             [
              0.6666666666666666,
              "#ed7953"
             ],
             [
              0.7777777777777778,
              "#fb9f3a"
             ],
             [
              0.8888888888888888,
              "#fdca26"
             ],
             [
              1,
              "#f0f921"
             ]
            ],
            "type": "histogram2d"
           }
          ],
          "histogram2dcontour": [
           {
            "colorbar": {
             "outlinewidth": 0,
             "ticks": ""
            },
            "colorscale": [
             [
              0,
              "#0d0887"
             ],
             [
              0.1111111111111111,
              "#46039f"
             ],
             [
              0.2222222222222222,
              "#7201a8"
             ],
             [
              0.3333333333333333,
              "#9c179e"
             ],
             [
              0.4444444444444444,
              "#bd3786"
             ],
             [
              0.5555555555555556,
              "#d8576b"
             ],
             [
              0.6666666666666666,
              "#ed7953"
             ],
             [
              0.7777777777777778,
              "#fb9f3a"
             ],
             [
              0.8888888888888888,
              "#fdca26"
             ],
             [
              1,
              "#f0f921"
             ]
            ],
            "type": "histogram2dcontour"
           }
          ],
          "mesh3d": [
           {
            "colorbar": {
             "outlinewidth": 0,
             "ticks": ""
            },
            "type": "mesh3d"
           }
          ],
          "parcoords": [
           {
            "line": {
             "colorbar": {
              "outlinewidth": 0,
              "ticks": ""
             }
            },
            "type": "parcoords"
           }
          ],
          "pie": [
           {
            "automargin": true,
            "type": "pie"
           }
          ],
          "scatter": [
           {
            "fillpattern": {
             "fillmode": "overlay",
             "size": 10,
             "solidity": 0.2
            },
            "type": "scatter"
           }
          ],
          "scatter3d": [
           {
            "line": {
             "colorbar": {
              "outlinewidth": 0,
              "ticks": ""
             }
            },
            "marker": {
             "colorbar": {
              "outlinewidth": 0,
              "ticks": ""
             }
            },
            "type": "scatter3d"
           }
          ],
          "scattercarpet": [
           {
            "marker": {
             "colorbar": {
              "outlinewidth": 0,
              "ticks": ""
             }
            },
            "type": "scattercarpet"
           }
          ],
          "scattergeo": [
           {
            "marker": {
             "colorbar": {
              "outlinewidth": 0,
              "ticks": ""
             }
            },
            "type": "scattergeo"
           }
          ],
          "scattergl": [
           {
            "marker": {
             "colorbar": {
              "outlinewidth": 0,
              "ticks": ""
             }
            },
            "type": "scattergl"
           }
          ],
          "scattermap": [
           {
            "marker": {
             "colorbar": {
              "outlinewidth": 0,
              "ticks": ""
             }
            },
            "type": "scattermap"
           }
          ],
          "scattermapbox": [
           {
            "marker": {
             "colorbar": {
              "outlinewidth": 0,
              "ticks": ""
             }
            },
            "type": "scattermapbox"
           }
          ],
          "scatterpolar": [
           {
            "marker": {
             "colorbar": {
              "outlinewidth": 0,
              "ticks": ""
             }
            },
            "type": "scatterpolar"
           }
          ],
          "scatterpolargl": [
           {
            "marker": {
             "colorbar": {
              "outlinewidth": 0,
              "ticks": ""
             }
            },
            "type": "scatterpolargl"
           }
          ],
          "scatterternary": [
           {
            "marker": {
             "colorbar": {
              "outlinewidth": 0,
              "ticks": ""
             }
            },
            "type": "scatterternary"
           }
          ],
          "surface": [
           {
            "colorbar": {
             "outlinewidth": 0,
             "ticks": ""
            },
            "colorscale": [
             [
              0,
              "#0d0887"
             ],
             [
              0.1111111111111111,
              "#46039f"
             ],
             [
              0.2222222222222222,
              "#7201a8"
             ],
             [
              0.3333333333333333,
              "#9c179e"
             ],
             [
              0.4444444444444444,
              "#bd3786"
             ],
             [
              0.5555555555555556,
              "#d8576b"
             ],
             [
              0.6666666666666666,
              "#ed7953"
             ],
             [
              0.7777777777777778,
              "#fb9f3a"
             ],
             [
              0.8888888888888888,
              "#fdca26"
             ],
             [
              1,
              "#f0f921"
             ]
            ],
            "type": "surface"
           }
          ],
          "table": [
           {
            "cells": {
             "fill": {
              "color": "#EBF0F8"
             },
             "line": {
              "color": "white"
             }
            },
            "header": {
             "fill": {
              "color": "#C8D4E3"
             },
             "line": {
              "color": "white"
             }
            },
            "type": "table"
           }
          ]
         },
         "layout": {
          "annotationdefaults": {
           "arrowcolor": "#2a3f5f",
           "arrowhead": 0,
           "arrowwidth": 1
          },
          "autotypenumbers": "strict",
          "coloraxis": {
           "colorbar": {
            "outlinewidth": 0,
            "ticks": ""
           }
          },
          "colorscale": {
           "diverging": [
            [
             0,
             "#8e0152"
            ],
            [
             0.1,
             "#c51b7d"
            ],
            [
             0.2,
             "#de77ae"
            ],
            [
             0.3,
             "#f1b6da"
            ],
            [
             0.4,
             "#fde0ef"
            ],
            [
             0.5,
             "#f7f7f7"
            ],
            [
             0.6,
             "#e6f5d0"
            ],
            [
             0.7,
             "#b8e186"
            ],
            [
             0.8,
             "#7fbc41"
            ],
            [
             0.9,
             "#4d9221"
            ],
            [
             1,
             "#276419"
            ]
           ],
           "sequential": [
            [
             0,
             "#0d0887"
            ],
            [
             0.1111111111111111,
             "#46039f"
            ],
            [
             0.2222222222222222,
             "#7201a8"
            ],
            [
             0.3333333333333333,
             "#9c179e"
            ],
            [
             0.4444444444444444,
             "#bd3786"
            ],
            [
             0.5555555555555556,
             "#d8576b"
            ],
            [
             0.6666666666666666,
             "#ed7953"
            ],
            [
             0.7777777777777778,
             "#fb9f3a"
            ],
            [
             0.8888888888888888,
             "#fdca26"
            ],
            [
             1,
             "#f0f921"
            ]
           ],
           "sequentialminus": [
            [
             0,
             "#0d0887"
            ],
            [
             0.1111111111111111,
             "#46039f"
            ],
            [
             0.2222222222222222,
             "#7201a8"
            ],
            [
             0.3333333333333333,
             "#9c179e"
            ],
            [
             0.4444444444444444,
             "#bd3786"
            ],
            [
             0.5555555555555556,
             "#d8576b"
            ],
            [
             0.6666666666666666,
             "#ed7953"
            ],
            [
             0.7777777777777778,
             "#fb9f3a"
            ],
            [
             0.8888888888888888,
             "#fdca26"
            ],
            [
             1,
             "#f0f921"
            ]
           ]
          },
          "colorway": [
           "#636efa",
           "#EF553B",
           "#00cc96",
           "#ab63fa",
           "#FFA15A",
           "#19d3f3",
           "#FF6692",
           "#B6E880",
           "#FF97FF",
           "#FECB52"
          ],
          "font": {
           "color": "#2a3f5f"
          },
          "geo": {
           "bgcolor": "white",
           "lakecolor": "white",
           "landcolor": "#E5ECF6",
           "showlakes": true,
           "showland": true,
           "subunitcolor": "white"
          },
          "hoverlabel": {
           "align": "left"
          },
          "hovermode": "closest",
          "mapbox": {
           "style": "light"
          },
          "paper_bgcolor": "white",
          "plot_bgcolor": "#E5ECF6",
          "polar": {
           "angularaxis": {
            "gridcolor": "white",
            "linecolor": "white",
            "ticks": ""
           },
           "bgcolor": "#E5ECF6",
           "radialaxis": {
            "gridcolor": "white",
            "linecolor": "white",
            "ticks": ""
           }
          },
          "scene": {
           "xaxis": {
            "backgroundcolor": "#E5ECF6",
            "gridcolor": "white",
            "gridwidth": 2,
            "linecolor": "white",
            "showbackground": true,
            "ticks": "",
            "zerolinecolor": "white"
           },
           "yaxis": {
            "backgroundcolor": "#E5ECF6",
            "gridcolor": "white",
            "gridwidth": 2,
            "linecolor": "white",
            "showbackground": true,
            "ticks": "",
            "zerolinecolor": "white"
           },
           "zaxis": {
            "backgroundcolor": "#E5ECF6",
            "gridcolor": "white",
            "gridwidth": 2,
            "linecolor": "white",
            "showbackground": true,
            "ticks": "",
            "zerolinecolor": "white"
           }
          },
          "shapedefaults": {
           "line": {
            "color": "#2a3f5f"
           }
          },
          "ternary": {
           "aaxis": {
            "gridcolor": "white",
            "linecolor": "white",
            "ticks": ""
           },
           "baxis": {
            "gridcolor": "white",
            "linecolor": "white",
            "ticks": ""
           },
           "bgcolor": "#E5ECF6",
           "caxis": {
            "gridcolor": "white",
            "linecolor": "white",
            "ticks": ""
           }
          },
          "title": {
           "x": 0.05
          },
          "xaxis": {
           "automargin": true,
           "gridcolor": "white",
           "linecolor": "white",
           "ticks": "",
           "title": {
            "standoff": 15
           },
           "zerolinecolor": "white",
           "zerolinewidth": 2
          },
          "yaxis": {
           "automargin": true,
           "gridcolor": "white",
           "linecolor": "white",
           "ticks": "",
           "title": {
            "standoff": 15
           },
           "zerolinecolor": "white",
           "zerolinewidth": 2
          }
         }
        },
        "title": {
         "text": "LLM Sentence Embeddings (t-SNE 2D)",
         "x": 0.5
        },
        "width": 900,
        "xaxis": {
         "anchor": "y",
         "domain": [
          0,
          1
         ],
         "title": {
          "text": "Dimension 1"
         }
        },
        "yaxis": {
         "anchor": "x",
         "domain": [
          0,
          1
         ],
         "title": {
          "text": "Dimension 2"
         }
        }
       }
      }
     },
     "metadata": {},
     "output_type": "display_data"
    },
    {
     "data": {
      "application/vnd.plotly.v1+json": {
       "config": {
        "plotlyServerURL": "https://plot.ly"
       },
       "data": [
        {
         "hovertemplate": "Dimension 1=%{x}<br>Dimension 2=%{y}<br>Dimension 3=%{z}<br>label=%{text}<extra></extra>",
         "legendgroup": "",
         "marker": {
          "color": "#636efa",
          "size": 5,
          "symbol": "circle"
         },
         "mode": "markers+text",
         "name": "",
         "scene": "scene",
         "showlegend": false,
         "text": [
          "completed",
          "guidelines.",
          "explanation",
          "names",
          "with",
          "involved",
          "values",
          "produce",
          "few",
          "adhere",
          "joins).",
          "'%term%'.",
          "this",
          "json",
          "'yyyy-mm-dd'",
          "full",
          "same",
          "the",
          "on",
          "`history`",
          "translated",
          "`question`",
          "syntactically",
          "if",
          "{history}",
          "insufficient,",
          "appropriate.",
          "german.",
          "output",
          "appropriate",
          "information,",
          "how",
          "insufficient",
          "true",
          "partial",
          "you",
          "ask",
          "\"items\":",
          "clearly",
          "to",
          "value",
          "explanations",
          "ilike",
          "before.",
          "`date`",
          "note:",
          "explain",
          "format.",
          "tables",
          "explanation:",
          "what",
          "questions",
          "{sql_query}",
          "insufficient.",
          "are:",
          "`explanation`",
          "generate",
          "multiple",
          "{explanation}",
          "]]",
          "provided,",
          "whether",
          "based",
          "columns.",
          "all",
          "clarification_questions",
          "strictly.",
          "false",
          "adhering",
          "'q:",
          "is:",
          "definition",
          "case",
          "boolean",
          "indicating",
          "previous",
          "current",
          "following",
          "fabricate.",
          "that",
          "interactions",
          "(bool):",
          "{\"type\":",
          "as",
          "`examples`",
          "{db_schema}",
          "sufficient.",
          "query",
          "user's",
          "otherwise.",
          "for",
          "case-insensitive",
          "when",
          "already",
          "structured",
          "shot",
          "or",
          "flag",
          "follow",
          "necessary",
          "and",
          "are",
          "needs",
          "part",
          "in.",
          "way,",
          "natural",
          "is",
          "{examples}",
          "`clarification_questions`",
          "final",
          "(ddl",
          "must",
          "matches,",
          "your",
          "`db_schema`",
          "indentation",
          "history",
          "examples,",
          "language",
          "guidelines",
          "standard",
          "empty",
          "not",
          "use",
          "duckdb",
          "1.",
          "guidelines:",
          "line",
          "examples",
          "2.",
          "3.",
          "(in",
          "from",
          "spelling.",
          "objective",
          "explanation.",
          "filled",
          "{clarification_questions}",
          "context",
          "query.",
          "##",
          "q&a",
          "\"array\",",
          "column",
          "correct",
          "exactly",
          "matches",
          "matching",
          "readability.",
          "insufficient_context",
          "questions.",
          "{insufficient_context}",
          "...",
          "4.",
          "`sql_query`",
          "do",
          "was",
          "should",
          "6.",
          "will",
          "list",
          "5.",
          "...'.",
          "of",
          "exact",
          "a:",
          "answers",
          "(str):",
          "schema:",
          "format",
          "contains",
          "constructed.",
          "resulting",
          "available",
          "guess",
          "valid",
          "string",
          "return",
          "sql_query",
          "comments)",
          "missing",
          "date",
          "db_schema",
          "like",
          "'question:",
          "specific",
          "table",
          "qualify",
          "input",
          "question",
          "(especially",
          "interpreted",
          "german).",
          "sql",
          "sql:",
          "{question}",
          "`insufficient_context`",
          "[[",
          "(list):",
          "fields",
          "{date}",
          "be",
          "schema",
          "user",
          "7.",
          "{}}",
          "in",
          "breaks",
          "into",
          "structure,"
         ],
         "type": "scatter3d",
         "x": {
          "bdata": "EE1FQnQUgsLEOwTCKq71wYpTE0E1kAxCsTo0wieIpL/4BYVCFjyPQZgwvsFJS6TAAmlywMx5H8IvMYLBx9RxQstvokEgXgDBCdWEQYx39sHTUeNA49A4wh2HSELsFcLAym2ywVVsrEJjOYVCC4h5PgrpQkFmi11CDeUmQhHNdUHI0ZlCQGwfQim+VEIrlMnAaF/XwTSLmsEgeE9CZaa0Pib+XsKQztXBXSGQQWDZGEFXIPTB5tU4wvPL7MGTmBNBGVDKwaDWMMJer45BJgv6wc7nOMIf/KNCRnjmwTVHPsLtWxjBfs0MQnBbIsKMcD3BPhxFQpcCfMDLCANCL9J0wiAY4kERuonCZbqIwrklA0LXJM5Bgx3NwX1JzsEbqPdBmzPVwPUsYELPoPVBikloQdvBB0GwgXFBzxFeQX6GB0D7w+RBzUMXwseQk8HPxZPABIAZwndMC8J4/JlCEw72QBqhwb8Xhl/BI9ATQc3+MELXbVpBDzRzQhS+8UHSuDFC4l59wU8WH8ImGGhB9M1dQj+0RcC9uNFB5vZlQvGUJ0JRaSFBTnZpQn2nrkEhON5BA9MQwiXEacKo/h1Cxs9OwuoFJsG/jkZCNeUpwa2FG8IMmt1BVRBQwQovssF5mMzBjH6TwqqXN0G68oRC5Ju4QXqdi8ARD0DCNskuQmxcdMKCTDLCrdu/wUJTY0Jp51RCQAHIPxOmCL5XQL1BPapZQq1C2cEZjmNCwpJawmiOhsJjFEVBM0+JwcVSPcLNDzpCQT1jwll5pEEC+C1CVLpGQuS1HUKB7fdBSPWRwjLAHsJI5m/CKmsTQdEThkKydFDCwRGJwEf0A0L52ELB/xNWQvwmTT+6ZP7BqWB+QnOEZUDb9LBA8bgCQqYoOcE7PqPBsJW2wfmwVcLrbwdBLHf2Qc8xU0ES5cZByChHQmDbx8Eg8j9C+eocwmLIrMAD5nbCUNUHwmdAdkK4GJXBaXodwgzbUEEKgKLBBhURQuoLm8FxMylCXeqMQc1238HWWTDC1IiWQa91G8HOvILCwDo+wgbrHsJrPXvCxUpuwXgQDMIvxgrCLRi6wclv4EAt0I7CJ2IxwQSocEJDjrXBzYVTQS6+tkF7hyxBQygOQg==",
          "dtype": "f4"
         },
         "y": {
          "bdata": "o19lwTp46kHOzNlBDrAYwlieHEEln4bBufAiwrsFOcLkTw/CsOCRwqh5jEL68iZCiDsVQoo3bMJD6UTBmYqpPwRkV0IirKXByfLCwEdMu8G66ZW+umehwfYxCUJ24gxCZbPIwOiCf8E975jB3Y6TQl7GHsKG0srBOShNQU1RgkH2yNfBHkBbwuTxGsKzD0vCzbl0vWMzb0Jsz/RBMUtWwCDcNcKl8sNBeWNmQgyVdcEprKjBt6hOQtHB3kFQM3jB+0lRwg4wDkKd+dxBv49VPylj/kBN2JzBt2hhQnsP6sGzlfHBpvsxwg0SN0FDwN9B46GAQPSSE0JjwolCkxFQwB8sIsK1gX3A0b/RQYPggMICTI3CKGAlQvswY0Jy3+pBKNgnwusXd8LLB5dB0Wq+wWwkEcLycBzCC4q6QYFk5UGL0AVAPd81Qi840UGTj7zBPnGdwWtwy0CBEDbBDuy1QcrnjcK3uU1CCLY4wWQ1L0JJoedB7cdBQvC8TkCEIz3BJEFXQvLGfsKa/UXCT3gzwi4SPkKR5erAcetVwtgHEsIT4rZBlGExQe/ZJsICQc5AI0IYwE7masE2/MTB4ZYgQl5BZr6uZCzBfMgpwmnKA8F/7wtCw3aiwRekukCFwVrCSXm7Qb9hFsJSs/fAaH5pwirXaMIDpslBDzAIQsyEA0LvzCPCHwSxwO5Ou0EWt8lBbLfhQUs8tr9H8ExCwrjkwQhPIUK2Z2PAiMDSPWKwb8HdMwFClGQXQofBD0DvB8JB59NtwZ3Am0L+cEVCjCykwXGuzsHfMyNCXomRwU2/i8DjpxrB75NMQtKhvEEHKMTAe04OwUHkeEBXBRpAntI3QveXBUGiowLCoKIdQqK6IUI5h8VC8qOWwUycT0K68PFAivYjQgOSDkJ299LBM/u4QNBUOkGh8cPBRJG7wN3BgUEInh/CK6xgwg7/uMGWmdhA4rsBQqm8McEIRCfC09jGP57iP0LgowFCsMrRwUCBcMIkjkbC1Vn1wXwVJsHrQydBddBvP0Kok0L+aatBnMLYQWuhqD3QvrbBO0ioQXCXIULtbQfC8hU1QIFWI8GLzwNClDeKwogrD0JNu4pBqlm0QeVrhkHqcQ5BJtACQQ==",
          "dtype": "f4"
         },
         "z": {
          "bdata": "IedIQTbYgD/jBbtB7o3fQXlzi0HvgQ5C1WMLQk94hkK3rdhBkCodQvhZpEGepUfCk9RlQfMZTMFVn2LCbu8oQQIxFEFY3ohAoqkiQhcxDMIfjeTBk4IqwmqEpsG/2HJCQI7cwT8kP0GwCdTBzXAvQVO7hEL0urbBT9AZwlGFHUJkdXZBxAVowcbWE0KzVYHB8m8qQvuFVMINRX49SDLnQdApBUI8TCxB678NQu+YLcGITUrCSfSuwYl4EELHvFrC/nlFQjx9nUFPB/1BtgbWQbQ9R8LA7VM/82mawSem6MEiQpNCpnmRQW44rcGHO+/B8fjCwdZZQ0LhPItAdvhQQog/kEBnaO/B+VOHQZDZEcEKnvZBSDKBwsBFAsJ5UJ5ByR3YQUztmsHlknDBL/3av2PnxkD8Tw9CfCc0wimKukGkhoBCg5c3wtFySMLFOMdB6Q2MwR3ob8IW5qjByb2awpH9i7/UZytCoRKYQeEs7sEFPEFCVQgyQG2OdMITWk1CKTfTPeOIjUH/NyNCFrKsPs+nO8DAwVFBxVUSQeOULUIy5YLBqvUlwux1hsEDsItBnS9mwaSiBsLQuzBBjpeIwvKDgUI81U/C9oAPwe7tfsJgfQTByubDwfJwrMD23kxBcqj2wP9nI8KAHAVCSOUCQHk+R0GagJTC2RlRQnBwM8FYWQlBpf2vv6VJY0LF6ChCVTiTwMYwHkHwyzjCGl2TwAagjEHYzadBL3HYwfI+SkHIdY7Cuq5awVKa+kHavW7CAnlZQmxx+T97RolATwptwlV8TMLjPB/CMVMjwLChgEHrIsjA/Y6xwW3pKELk9VjC+L4vQoOe7UE515hC+yIYQvx0UUI4AF5BXP87QhJ85MH1fYNBI3jBwToP4ME6mpVBpFEvwqLYAMLPWkfCsT1kPnc4RsJSasJBK2BlwRb+QEJvrNvBoaMSQBF/SUI3y2fC0BtUwGlTNEKyTT/CwLiYwqChxkEkVI/CU44rwTOtK0JpfiTCWEdyQgY380GUS1bAMC/WwYXAjUHuq1XCNVtEwn3aA8JLUS3BhCOdwWVXy8Eqkj9CYwIownqbikKf3BnCsf3pQNNp8UGiPAbCPmzJv+U9lUIMRHXAnvtHwg==",
          "dtype": "f4"
         }
        }
       ],
       "layout": {
        "height": 700,
        "legend": {
         "tracegroupgap": 0
        },
        "scene": {
         "domain": {
          "x": [
           0,
           1
          ],
          "y": [
           0,
           1
          ]
         },
         "xaxis": {
          "title": {
           "text": "Dimension 1"
          }
         },
         "yaxis": {
          "title": {
           "text": "Dimension 2"
          }
         },
         "zaxis": {
          "title": {
           "text": "Dimension 3"
          }
         }
        },
        "template": {
         "data": {
          "bar": [
           {
            "error_x": {
             "color": "#2a3f5f"
            },
            "error_y": {
             "color": "#2a3f5f"
            },
            "marker": {
             "line": {
              "color": "#E5ECF6",
              "width": 0.5
             },
             "pattern": {
              "fillmode": "overlay",
              "size": 10,
              "solidity": 0.2
             }
            },
            "type": "bar"
           }
          ],
          "barpolar": [
           {
            "marker": {
             "line": {
              "color": "#E5ECF6",
              "width": 0.5
             },
             "pattern": {
              "fillmode": "overlay",
              "size": 10,
              "solidity": 0.2
             }
            },
            "type": "barpolar"
           }
          ],
          "carpet": [
           {
            "aaxis": {
             "endlinecolor": "#2a3f5f",
             "gridcolor": "white",
             "linecolor": "white",
             "minorgridcolor": "white",
             "startlinecolor": "#2a3f5f"
            },
            "baxis": {
             "endlinecolor": "#2a3f5f",
             "gridcolor": "white",
             "linecolor": "white",
             "minorgridcolor": "white",
             "startlinecolor": "#2a3f5f"
            },
            "type": "carpet"
           }
          ],
          "choropleth": [
           {
            "colorbar": {
             "outlinewidth": 0,
             "ticks": ""
            },
            "type": "choropleth"
           }
          ],
          "contour": [
           {
            "colorbar": {
             "outlinewidth": 0,
             "ticks": ""
            },
            "colorscale": [
             [
              0,
              "#0d0887"
             ],
             [
              0.1111111111111111,
              "#46039f"
             ],
             [
              0.2222222222222222,
              "#7201a8"
             ],
             [
              0.3333333333333333,
              "#9c179e"
             ],
             [
              0.4444444444444444,
              "#bd3786"
             ],
             [
              0.5555555555555556,
              "#d8576b"
             ],
             [
              0.6666666666666666,
              "#ed7953"
             ],
             [
              0.7777777777777778,
              "#fb9f3a"
             ],
             [
              0.8888888888888888,
              "#fdca26"
             ],
             [
              1,
              "#f0f921"
             ]
            ],
            "type": "contour"
           }
          ],
          "contourcarpet": [
           {
            "colorbar": {
             "outlinewidth": 0,
             "ticks": ""
            },
            "type": "contourcarpet"
           }
          ],
          "heatmap": [
           {
            "colorbar": {
             "outlinewidth": 0,
             "ticks": ""
            },
            "colorscale": [
             [
              0,
              "#0d0887"
             ],
             [
              0.1111111111111111,
              "#46039f"
             ],
             [
              0.2222222222222222,
              "#7201a8"
             ],
             [
              0.3333333333333333,
              "#9c179e"
             ],
             [
              0.4444444444444444,
              "#bd3786"
             ],
             [
              0.5555555555555556,
              "#d8576b"
             ],
             [
              0.6666666666666666,
              "#ed7953"
             ],
             [
              0.7777777777777778,
              "#fb9f3a"
             ],
             [
              0.8888888888888888,
              "#fdca26"
             ],
             [
              1,
              "#f0f921"
             ]
            ],
            "type": "heatmap"
           }
          ],
          "histogram": [
           {
            "marker": {
             "pattern": {
              "fillmode": "overlay",
              "size": 10,
              "solidity": 0.2
             }
            },
            "type": "histogram"
           }
          ],
          "histogram2d": [
           {
            "colorbar": {
             "outlinewidth": 0,
             "ticks": ""
            },
            "colorscale": [
             [
              0,
              "#0d0887"
             ],
             [
              0.1111111111111111,
              "#46039f"
             ],
             [
              0.2222222222222222,
              "#7201a8"
             ],
             [
              0.3333333333333333,
              "#9c179e"
             ],
             [
              0.4444444444444444,
              "#bd3786"
             ],
             [
              0.5555555555555556,
              "#d8576b"
             ],
             [
              0.6666666666666666,
              "#ed7953"
             ],
             [
              0.7777777777777778,
              "#fb9f3a"
             ],
             [
              0.8888888888888888,
              "#fdca26"
             ],
             [
              1,
              "#f0f921"
             ]
            ],
            "type": "histogram2d"
           }
          ],
          "histogram2dcontour": [
           {
            "colorbar": {
             "outlinewidth": 0,
             "ticks": ""
            },
            "colorscale": [
             [
              0,
              "#0d0887"
             ],
             [
              0.1111111111111111,
              "#46039f"
             ],
             [
              0.2222222222222222,
              "#7201a8"
             ],
             [
              0.3333333333333333,
              "#9c179e"
             ],
             [
              0.4444444444444444,
              "#bd3786"
             ],
             [
              0.5555555555555556,
              "#d8576b"
             ],
             [
              0.6666666666666666,
              "#ed7953"
             ],
             [
              0.7777777777777778,
              "#fb9f3a"
             ],
             [
              0.8888888888888888,
              "#fdca26"
             ],
             [
              1,
              "#f0f921"
             ]
            ],
            "type": "histogram2dcontour"
           }
          ],
          "mesh3d": [
           {
            "colorbar": {
             "outlinewidth": 0,
             "ticks": ""
            },
            "type": "mesh3d"
           }
          ],
          "parcoords": [
           {
            "line": {
             "colorbar": {
              "outlinewidth": 0,
              "ticks": ""
             }
            },
            "type": "parcoords"
           }
          ],
          "pie": [
           {
            "automargin": true,
            "type": "pie"
           }
          ],
          "scatter": [
           {
            "fillpattern": {
             "fillmode": "overlay",
             "size": 10,
             "solidity": 0.2
            },
            "type": "scatter"
           }
          ],
          "scatter3d": [
           {
            "line": {
             "colorbar": {
              "outlinewidth": 0,
              "ticks": ""
             }
            },
            "marker": {
             "colorbar": {
              "outlinewidth": 0,
              "ticks": ""
             }
            },
            "type": "scatter3d"
           }
          ],
          "scattercarpet": [
           {
            "marker": {
             "colorbar": {
              "outlinewidth": 0,
              "ticks": ""
             }
            },
            "type": "scattercarpet"
           }
          ],
          "scattergeo": [
           {
            "marker": {
             "colorbar": {
              "outlinewidth": 0,
              "ticks": ""
             }
            },
            "type": "scattergeo"
           }
          ],
          "scattergl": [
           {
            "marker": {
             "colorbar": {
              "outlinewidth": 0,
              "ticks": ""
             }
            },
            "type": "scattergl"
           }
          ],
          "scattermap": [
           {
            "marker": {
             "colorbar": {
              "outlinewidth": 0,
              "ticks": ""
             }
            },
            "type": "scattermap"
           }
          ],
          "scattermapbox": [
           {
            "marker": {
             "colorbar": {
              "outlinewidth": 0,
              "ticks": ""
             }
            },
            "type": "scattermapbox"
           }
          ],
          "scatterpolar": [
           {
            "marker": {
             "colorbar": {
              "outlinewidth": 0,
              "ticks": ""
             }
            },
            "type": "scatterpolar"
           }
          ],
          "scatterpolargl": [
           {
            "marker": {
             "colorbar": {
              "outlinewidth": 0,
              "ticks": ""
             }
            },
            "type": "scatterpolargl"
           }
          ],
          "scatterternary": [
           {
            "marker": {
             "colorbar": {
              "outlinewidth": 0,
              "ticks": ""
             }
            },
            "type": "scatterternary"
           }
          ],
          "surface": [
           {
            "colorbar": {
             "outlinewidth": 0,
             "ticks": ""
            },
            "colorscale": [
             [
              0,
              "#0d0887"
             ],
             [
              0.1111111111111111,
              "#46039f"
             ],
             [
              0.2222222222222222,
              "#7201a8"
             ],
             [
              0.3333333333333333,
              "#9c179e"
             ],
             [
              0.4444444444444444,
              "#bd3786"
             ],
             [
              0.5555555555555556,
              "#d8576b"
             ],
             [
              0.6666666666666666,
              "#ed7953"
             ],
             [
              0.7777777777777778,
              "#fb9f3a"
             ],
             [
              0.8888888888888888,
              "#fdca26"
             ],
             [
              1,
              "#f0f921"
             ]
            ],
            "type": "surface"
           }
          ],
          "table": [
           {
            "cells": {
             "fill": {
              "color": "#EBF0F8"
             },
             "line": {
              "color": "white"
             }
            },
            "header": {
             "fill": {
              "color": "#C8D4E3"
             },
             "line": {
              "color": "white"
             }
            },
            "type": "table"
           }
          ]
         },
         "layout": {
          "annotationdefaults": {
           "arrowcolor": "#2a3f5f",
           "arrowhead": 0,
           "arrowwidth": 1
          },
          "autotypenumbers": "strict",
          "coloraxis": {
           "colorbar": {
            "outlinewidth": 0,
            "ticks": ""
           }
          },
          "colorscale": {
           "diverging": [
            [
             0,
             "#8e0152"
            ],
            [
             0.1,
             "#c51b7d"
            ],
            [
             0.2,
             "#de77ae"
            ],
            [
             0.3,
             "#f1b6da"
            ],
            [
             0.4,
             "#fde0ef"
            ],
            [
             0.5,
             "#f7f7f7"
            ],
            [
             0.6,
             "#e6f5d0"
            ],
            [
             0.7,
             "#b8e186"
            ],
            [
             0.8,
             "#7fbc41"
            ],
            [
             0.9,
             "#4d9221"
            ],
            [
             1,
             "#276419"
            ]
           ],
           "sequential": [
            [
             0,
             "#0d0887"
            ],
            [
             0.1111111111111111,
             "#46039f"
            ],
            [
             0.2222222222222222,
             "#7201a8"
            ],
            [
             0.3333333333333333,
             "#9c179e"
            ],
            [
             0.4444444444444444,
             "#bd3786"
            ],
            [
             0.5555555555555556,
             "#d8576b"
            ],
            [
             0.6666666666666666,
             "#ed7953"
            ],
            [
             0.7777777777777778,
             "#fb9f3a"
            ],
            [
             0.8888888888888888,
             "#fdca26"
            ],
            [
             1,
             "#f0f921"
            ]
           ],
           "sequentialminus": [
            [
             0,
             "#0d0887"
            ],
            [
             0.1111111111111111,
             "#46039f"
            ],
            [
             0.2222222222222222,
             "#7201a8"
            ],
            [
             0.3333333333333333,
             "#9c179e"
            ],
            [
             0.4444444444444444,
             "#bd3786"
            ],
            [
             0.5555555555555556,
             "#d8576b"
            ],
            [
             0.6666666666666666,
             "#ed7953"
            ],
            [
             0.7777777777777778,
             "#fb9f3a"
            ],
            [
             0.8888888888888888,
             "#fdca26"
            ],
            [
             1,
             "#f0f921"
            ]
           ]
          },
          "colorway": [
           "#636efa",
           "#EF553B",
           "#00cc96",
           "#ab63fa",
           "#FFA15A",
           "#19d3f3",
           "#FF6692",
           "#B6E880",
           "#FF97FF",
           "#FECB52"
          ],
          "font": {
           "color": "#2a3f5f"
          },
          "geo": {
           "bgcolor": "white",
           "lakecolor": "white",
           "landcolor": "#E5ECF6",
           "showlakes": true,
           "showland": true,
           "subunitcolor": "white"
          },
          "hoverlabel": {
           "align": "left"
          },
          "hovermode": "closest",
          "mapbox": {
           "style": "light"
          },
          "paper_bgcolor": "white",
          "plot_bgcolor": "#E5ECF6",
          "polar": {
           "angularaxis": {
            "gridcolor": "white",
            "linecolor": "white",
            "ticks": ""
           },
           "bgcolor": "#E5ECF6",
           "radialaxis": {
            "gridcolor": "white",
            "linecolor": "white",
            "ticks": ""
           }
          },
          "scene": {
           "xaxis": {
            "backgroundcolor": "#E5ECF6",
            "gridcolor": "white",
            "gridwidth": 2,
            "linecolor": "white",
            "showbackground": true,
            "ticks": "",
            "zerolinecolor": "white"
           },
           "yaxis": {
            "backgroundcolor": "#E5ECF6",
            "gridcolor": "white",
            "gridwidth": 2,
            "linecolor": "white",
            "showbackground": true,
            "ticks": "",
            "zerolinecolor": "white"
           },
           "zaxis": {
            "backgroundcolor": "#E5ECF6",
            "gridcolor": "white",
            "gridwidth": 2,
            "linecolor": "white",
            "showbackground": true,
            "ticks": "",
            "zerolinecolor": "white"
           }
          },
          "shapedefaults": {
           "line": {
            "color": "#2a3f5f"
           }
          },
          "ternary": {
           "aaxis": {
            "gridcolor": "white",
            "linecolor": "white",
            "ticks": ""
           },
           "baxis": {
            "gridcolor": "white",
            "linecolor": "white",
            "ticks": ""
           },
           "bgcolor": "#E5ECF6",
           "caxis": {
            "gridcolor": "white",
            "linecolor": "white",
            "ticks": ""
           }
          },
          "title": {
           "x": 0.05
          },
          "xaxis": {
           "automargin": true,
           "gridcolor": "white",
           "linecolor": "white",
           "ticks": "",
           "title": {
            "standoff": 15
           },
           "zerolinecolor": "white",
           "zerolinewidth": 2
          },
          "yaxis": {
           "automargin": true,
           "gridcolor": "white",
           "linecolor": "white",
           "ticks": "",
           "title": {
            "standoff": 15
           },
           "zerolinecolor": "white",
           "zerolinewidth": 2
          }
         }
        },
        "title": {
         "text": "LLM Word Embeddings (t-SNE 3D)",
         "x": 0.5
        },
        "width": 900
       }
      }
     },
     "metadata": {},
     "output_type": "display_data"
    },
    {
     "data": {
      "application/vnd.plotly.v1+json": {
       "config": {
        "plotlyServerURL": "https://plot.ly"
       },
       "data": [
        {
         "hovertemplate": "Dimension 1=%{x}<br>Dimension 2=%{y}<br>Dimension 3=%{z}<br>label=%{text}<extra></extra>",
         "legendgroup": "",
         "marker": {
          "color": "#636efa",
          "size": 5,
          "symbol": "circle"
         },
         "mode": "markers+text",
         "name": "",
         "scene": "scene",
         "showlegend": false,
         "text": [
          "explanation",
          "names",
          "with",
          "q",
          "produce",
          "##ari",
          "db",
          ":",
          "]",
          "the",
          "sc",
          "s",
          ",",
          "if",
          "##y",
          "output",
          "note",
          "appropriate",
          "how",
          "insufficient",
          "true",
          "you",
          "to",
          "value",
          "tables",
          "questions",
          "generate",
          ".",
          "all",
          "false",
          "1",
          "a",
          "st",
          "#",
          "case",
          "current",
          "interactions",
          "\"",
          "2",
          "as",
          "query",
          "for",
          ")",
          "when",
          "structured",
          "(",
          "or",
          "##r",
          "and",
          "duck",
          "are",
          "is",
          "{",
          "must",
          "your",
          "-",
          "history",
          "}",
          "guidelines",
          "empty",
          "use",
          "examples",
          "context",
          "column",
          "%",
          "matches",
          "_",
          "3",
          "##l",
          "was",
          "##hema",
          "list",
          "cl",
          "of",
          "exact",
          "format",
          "##fication",
          "boo",
          "valid",
          "`",
          "##db",
          "date",
          "4",
          "table",
          "question",
          "german",
          "sql",
          "dd",
          "'",
          "5",
          "fields",
          "be",
          "user",
          "in"
         ],
         "type": "scatter3d",
         "x": {
          "bdata": "LeOqQlvyxMKD7HvCi0MyQum4PEGNUbPAC5+vQnZOjkLy0InBAabEwqqsYcKkSrNAYQ60wkEt8kKAd6JC/g8BQhkPTcECKVFCD2hiwh7M80EWRHdCK1dXwadnXMJn6OhCsJu4QnhVFcLV/kZByGm6woGybMFyuqJCUAgMwsmO8EKUyMHCdV3rQYveIcHLM51CB99ZwvwYScJqPdhBBB12wkIzjcFiqBTCQc9XwayLqcJDDzLByouRwR4oaUJ++MbCDtAMQ/OxX8LExsTCZP5uwlAU2UIcu13Bb9soQZxHSUJjJ73BaPhjwvo9WsHMW55CznL8Qarzf0JjLZRAeA2wQq1KTMLJ2O5AwbufwYXrJkIXqsDCH4GFwqgzHULLV9lCMUtHQqoob8J+h4/C2uFGQV46xsJ/wyhChWyJwisjMkFbJ4JC/qGDQhm+nEFQvrlAahQKQnRCGMEgJADDikoSQcK81z9EcwdCpEzOwXgLIUH0rMxAQPKXwg==",
          "dtype": "f4"
         },
         "y": {
          "bdata": "IO6YQbMkmECUv2zCgSDKQdNwmMCR3+7BDRICwohxBMIb0pLCaYwbwp2xS8JIyU1Cg0KzwZLTnULxFFXC07yOQisoLcJjMLzCpr6tQoIHVcL82XhCLJ3NwhFZUELnnabCWqP1QYgMWkLTnqdC8ZHVwsgkVkLidRZCRmJ+wfJHbcIDK5vCXeiKQVg2e0Cjno3C93vOQb1iykHQ/fBBOPdqwu060kLaJoZCyl/ovwVkjEI7TURBfiCkQRi37sLPgJ1BLLLDQT3A8UKN5C7CV2aiwoMfTsG118dBej+cwsEYncEl3DLC3ZOZweugHsKpXrRCZ5LhQsxI50KZwjNCA+UHQv/aFMGMeq/CWQsAw4HhK0GRkSdCFVjWQA4QYML16gHBZwOIwiubwsIHIdBC9ZdXwryYYEKFgoVCoR9MQmgy8UJa+SLCpzY6wbMLSsHquRTCqWaywVf9rcIRvwFCOa7KwglSrkINAiDA7e1dQYcIBcP28+NCv1vRwQ==",
          "dtype": "f4"
         },
         "z": {
          "bdata": "/a23Ql8wQUHPkqNCbm+Ywjn7acJxs9hAFGqeQjgxd8JNS4JBFrw4wnvgB0LfCczC4OlYQiVSLkADIsVAXd1rwlZHkkK+f+FBOvmGQvs6ZMLjxmPAfhZ3QkHQ00LyTHXApC6Mwio9jcBJbY0/ZDbWwdXoIUJdiZDBMA7QQgSITUIFfCdC2NaqQD7s6MIrYLrCdY4kwuIVEUI0Ia9CeY+lwefjlMAiyYHCaL4wQuU4G8KVcb7BGraRQoCPB8L6NYbCKzSDQSJeP8KY2y7AKNqAwhgyokF0UQZDOwlgQhPBw8LR67nCGJlGwjuSGMKswV7C5EcXwp1adEHJhQLCvRshQgIV6j57c+HBHIUawhRCW0JdqW5CBd6ZQuT3H8H33SLC+5G9Qiys9EDQdkhBwe/4wni+lkGcaTZCfhDfwje5V0JMLkBCAlmewTCRlUJMSedCL6WRQfCE6kJjXLzBLYuswsdTr0Lf3NpCSHuSwt+nVkGqVXDCdqizwg==",
          "dtype": "f4"
         }
        }
       ],
       "layout": {
        "height": 700,
        "legend": {
         "tracegroupgap": 0
        },
        "scene": {
         "domain": {
          "x": [
           0,
           1
          ],
          "y": [
           0,
           1
          ]
         },
         "xaxis": {
          "title": {
           "text": "Dimension 1"
          }
         },
         "yaxis": {
          "title": {
           "text": "Dimension 2"
          }
         },
         "zaxis": {
          "title": {
           "text": "Dimension 3"
          }
         }
        },
        "template": {
         "data": {
          "bar": [
           {
            "error_x": {
             "color": "#2a3f5f"
            },
            "error_y": {
             "color": "#2a3f5f"
            },
            "marker": {
             "line": {
              "color": "#E5ECF6",
              "width": 0.5
             },
             "pattern": {
              "fillmode": "overlay",
              "size": 10,
              "solidity": 0.2
             }
            },
            "type": "bar"
           }
          ],
          "barpolar": [
           {
            "marker": {
             "line": {
              "color": "#E5ECF6",
              "width": 0.5
             },
             "pattern": {
              "fillmode": "overlay",
              "size": 10,
              "solidity": 0.2
             }
            },
            "type": "barpolar"
           }
          ],
          "carpet": [
           {
            "aaxis": {
             "endlinecolor": "#2a3f5f",
             "gridcolor": "white",
             "linecolor": "white",
             "minorgridcolor": "white",
             "startlinecolor": "#2a3f5f"
            },
            "baxis": {
             "endlinecolor": "#2a3f5f",
             "gridcolor": "white",
             "linecolor": "white",
             "minorgridcolor": "white",
             "startlinecolor": "#2a3f5f"
            },
            "type": "carpet"
           }
          ],
          "choropleth": [
           {
            "colorbar": {
             "outlinewidth": 0,
             "ticks": ""
            },
            "type": "choropleth"
           }
          ],
          "contour": [
           {
            "colorbar": {
             "outlinewidth": 0,
             "ticks": ""
            },
            "colorscale": [
             [
              0,
              "#0d0887"
             ],
             [
              0.1111111111111111,
              "#46039f"
             ],
             [
              0.2222222222222222,
              "#7201a8"
             ],
             [
              0.3333333333333333,
              "#9c179e"
             ],
             [
              0.4444444444444444,
              "#bd3786"
             ],
             [
              0.5555555555555556,
              "#d8576b"
             ],
             [
              0.6666666666666666,
              "#ed7953"
             ],
             [
              0.7777777777777778,
              "#fb9f3a"
             ],
             [
              0.8888888888888888,
              "#fdca26"
             ],
             [
              1,
              "#f0f921"
             ]
            ],
            "type": "contour"
           }
          ],
          "contourcarpet": [
           {
            "colorbar": {
             "outlinewidth": 0,
             "ticks": ""
            },
            "type": "contourcarpet"
           }
          ],
          "heatmap": [
           {
            "colorbar": {
             "outlinewidth": 0,
             "ticks": ""
            },
            "colorscale": [
             [
              0,
              "#0d0887"
             ],
             [
              0.1111111111111111,
              "#46039f"
             ],
             [
              0.2222222222222222,
              "#7201a8"
             ],
             [
              0.3333333333333333,
              "#9c179e"
             ],
             [
              0.4444444444444444,
              "#bd3786"
             ],
             [
              0.5555555555555556,
              "#d8576b"
             ],
             [
              0.6666666666666666,
              "#ed7953"
             ],
             [
              0.7777777777777778,
              "#fb9f3a"
             ],
             [
              0.8888888888888888,
              "#fdca26"
             ],
             [
              1,
              "#f0f921"
             ]
            ],
            "type": "heatmap"
           }
          ],
          "histogram": [
           {
            "marker": {
             "pattern": {
              "fillmode": "overlay",
              "size": 10,
              "solidity": 0.2
             }
            },
            "type": "histogram"
           }
          ],
          "histogram2d": [
           {
            "colorbar": {
             "outlinewidth": 0,
             "ticks": ""
            },
            "colorscale": [
             [
              0,
              "#0d0887"
             ],
             [
              0.1111111111111111,
              "#46039f"
             ],
             [
              0.2222222222222222,
              "#7201a8"
             ],
             [
              0.3333333333333333,
              "#9c179e"
             ],
             [
              0.4444444444444444,
              "#bd3786"
             ],
             [
              0.5555555555555556,
              "#d8576b"
             ],
             [
              0.6666666666666666,
              "#ed7953"
             ],
             [
              0.7777777777777778,
              "#fb9f3a"
             ],
             [
              0.8888888888888888,
              "#fdca26"
             ],
             [
              1,
              "#f0f921"
             ]
            ],
            "type": "histogram2d"
           }
          ],
          "histogram2dcontour": [
           {
            "colorbar": {
             "outlinewidth": 0,
             "ticks": ""
            },
            "colorscale": [
             [
              0,
              "#0d0887"
             ],
             [
              0.1111111111111111,
              "#46039f"
             ],
             [
              0.2222222222222222,
              "#7201a8"
             ],
             [
              0.3333333333333333,
              "#9c179e"
             ],
             [
              0.4444444444444444,
              "#bd3786"
             ],
             [
              0.5555555555555556,
              "#d8576b"
             ],
             [
              0.6666666666666666,
              "#ed7953"
             ],
             [
              0.7777777777777778,
              "#fb9f3a"
             ],
             [
              0.8888888888888888,
              "#fdca26"
             ],
             [
              1,
              "#f0f921"
             ]
            ],
            "type": "histogram2dcontour"
           }
          ],
          "mesh3d": [
           {
            "colorbar": {
             "outlinewidth": 0,
             "ticks": ""
            },
            "type": "mesh3d"
           }
          ],
          "parcoords": [
           {
            "line": {
             "colorbar": {
              "outlinewidth": 0,
              "ticks": ""
             }
            },
            "type": "parcoords"
           }
          ],
          "pie": [
           {
            "automargin": true,
            "type": "pie"
           }
          ],
          "scatter": [
           {
            "fillpattern": {
             "fillmode": "overlay",
             "size": 10,
             "solidity": 0.2
            },
            "type": "scatter"
           }
          ],
          "scatter3d": [
           {
            "line": {
             "colorbar": {
              "outlinewidth": 0,
              "ticks": ""
             }
            },
            "marker": {
             "colorbar": {
              "outlinewidth": 0,
              "ticks": ""
             }
            },
            "type": "scatter3d"
           }
          ],
          "scattercarpet": [
           {
            "marker": {
             "colorbar": {
              "outlinewidth": 0,
              "ticks": ""
             }
            },
            "type": "scattercarpet"
           }
          ],
          "scattergeo": [
           {
            "marker": {
             "colorbar": {
              "outlinewidth": 0,
              "ticks": ""
             }
            },
            "type": "scattergeo"
           }
          ],
          "scattergl": [
           {
            "marker": {
             "colorbar": {
              "outlinewidth": 0,
              "ticks": ""
             }
            },
            "type": "scattergl"
           }
          ],
          "scattermap": [
           {
            "marker": {
             "colorbar": {
              "outlinewidth": 0,
              "ticks": ""
             }
            },
            "type": "scattermap"
           }
          ],
          "scattermapbox": [
           {
            "marker": {
             "colorbar": {
              "outlinewidth": 0,
              "ticks": ""
             }
            },
            "type": "scattermapbox"
           }
          ],
          "scatterpolar": [
           {
            "marker": {
             "colorbar": {
              "outlinewidth": 0,
              "ticks": ""
             }
            },
            "type": "scatterpolar"
           }
          ],
          "scatterpolargl": [
           {
            "marker": {
             "colorbar": {
              "outlinewidth": 0,
              "ticks": ""
             }
            },
            "type": "scatterpolargl"
           }
          ],
          "scatterternary": [
           {
            "marker": {
             "colorbar": {
              "outlinewidth": 0,
              "ticks": ""
             }
            },
            "type": "scatterternary"
           }
          ],
          "surface": [
           {
            "colorbar": {
             "outlinewidth": 0,
             "ticks": ""
            },
            "colorscale": [
             [
              0,
              "#0d0887"
             ],
             [
              0.1111111111111111,
              "#46039f"
             ],
             [
              0.2222222222222222,
              "#7201a8"
             ],
             [
              0.3333333333333333,
              "#9c179e"
             ],
             [
              0.4444444444444444,
              "#bd3786"
             ],
             [
              0.5555555555555556,
              "#d8576b"
             ],
             [
              0.6666666666666666,
              "#ed7953"
             ],
             [
              0.7777777777777778,
              "#fb9f3a"
             ],
             [
              0.8888888888888888,
              "#fdca26"
             ],
             [
              1,
              "#f0f921"
             ]
            ],
            "type": "surface"
           }
          ],
          "table": [
           {
            "cells": {
             "fill": {
              "color": "#EBF0F8"
             },
             "line": {
              "color": "white"
             }
            },
            "header": {
             "fill": {
              "color": "#C8D4E3"
             },
             "line": {
              "color": "white"
             }
            },
            "type": "table"
           }
          ]
         },
         "layout": {
          "annotationdefaults": {
           "arrowcolor": "#2a3f5f",
           "arrowhead": 0,
           "arrowwidth": 1
          },
          "autotypenumbers": "strict",
          "coloraxis": {
           "colorbar": {
            "outlinewidth": 0,
            "ticks": ""
           }
          },
          "colorscale": {
           "diverging": [
            [
             0,
             "#8e0152"
            ],
            [
             0.1,
             "#c51b7d"
            ],
            [
             0.2,
             "#de77ae"
            ],
            [
             0.3,
             "#f1b6da"
            ],
            [
             0.4,
             "#fde0ef"
            ],
            [
             0.5,
             "#f7f7f7"
            ],
            [
             0.6,
             "#e6f5d0"
            ],
            [
             0.7,
             "#b8e186"
            ],
            [
             0.8,
             "#7fbc41"
            ],
            [
             0.9,
             "#4d9221"
            ],
            [
             1,
             "#276419"
            ]
           ],
           "sequential": [
            [
             0,
             "#0d0887"
            ],
            [
             0.1111111111111111,
             "#46039f"
            ],
            [
             0.2222222222222222,
             "#7201a8"
            ],
            [
             0.3333333333333333,
             "#9c179e"
            ],
            [
             0.4444444444444444,
             "#bd3786"
            ],
            [
             0.5555555555555556,
             "#d8576b"
            ],
            [
             0.6666666666666666,
             "#ed7953"
            ],
            [
             0.7777777777777778,
             "#fb9f3a"
            ],
            [
             0.8888888888888888,
             "#fdca26"
            ],
            [
             1,
             "#f0f921"
            ]
           ],
           "sequentialminus": [
            [
             0,
             "#0d0887"
            ],
            [
             0.1111111111111111,
             "#46039f"
            ],
            [
             0.2222222222222222,
             "#7201a8"
            ],
            [
             0.3333333333333333,
             "#9c179e"
            ],
            [
             0.4444444444444444,
             "#bd3786"
            ],
            [
             0.5555555555555556,
             "#d8576b"
            ],
            [
             0.6666666666666666,
             "#ed7953"
            ],
            [
             0.7777777777777778,
             "#fb9f3a"
            ],
            [
             0.8888888888888888,
             "#fdca26"
            ],
            [
             1,
             "#f0f921"
            ]
           ]
          },
          "colorway": [
           "#636efa",
           "#EF553B",
           "#00cc96",
           "#ab63fa",
           "#FFA15A",
           "#19d3f3",
           "#FF6692",
           "#B6E880",
           "#FF97FF",
           "#FECB52"
          ],
          "font": {
           "color": "#2a3f5f"
          },
          "geo": {
           "bgcolor": "white",
           "lakecolor": "white",
           "landcolor": "#E5ECF6",
           "showlakes": true,
           "showland": true,
           "subunitcolor": "white"
          },
          "hoverlabel": {
           "align": "left"
          },
          "hovermode": "closest",
          "mapbox": {
           "style": "light"
          },
          "paper_bgcolor": "white",
          "plot_bgcolor": "#E5ECF6",
          "polar": {
           "angularaxis": {
            "gridcolor": "white",
            "linecolor": "white",
            "ticks": ""
           },
           "bgcolor": "#E5ECF6",
           "radialaxis": {
            "gridcolor": "white",
            "linecolor": "white",
            "ticks": ""
           }
          },
          "scene": {
           "xaxis": {
            "backgroundcolor": "#E5ECF6",
            "gridcolor": "white",
            "gridwidth": 2,
            "linecolor": "white",
            "showbackground": true,
            "ticks": "",
            "zerolinecolor": "white"
           },
           "yaxis": {
            "backgroundcolor": "#E5ECF6",
            "gridcolor": "white",
            "gridwidth": 2,
            "linecolor": "white",
            "showbackground": true,
            "ticks": "",
            "zerolinecolor": "white"
           },
           "zaxis": {
            "backgroundcolor": "#E5ECF6",
            "gridcolor": "white",
            "gridwidth": 2,
            "linecolor": "white",
            "showbackground": true,
            "ticks": "",
            "zerolinecolor": "white"
           }
          },
          "shapedefaults": {
           "line": {
            "color": "#2a3f5f"
           }
          },
          "ternary": {
           "aaxis": {
            "gridcolor": "white",
            "linecolor": "white",
            "ticks": ""
           },
           "baxis": {
            "gridcolor": "white",
            "linecolor": "white",
            "ticks": ""
           },
           "bgcolor": "#E5ECF6",
           "caxis": {
            "gridcolor": "white",
            "linecolor": "white",
            "ticks": ""
           }
          },
          "title": {
           "x": 0.05
          },
          "xaxis": {
           "automargin": true,
           "gridcolor": "white",
           "linecolor": "white",
           "ticks": "",
           "title": {
            "standoff": 15
           },
           "zerolinecolor": "white",
           "zerolinewidth": 2
          },
          "yaxis": {
           "automargin": true,
           "gridcolor": "white",
           "linecolor": "white",
           "ticks": "",
           "title": {
            "standoff": 15
           },
           "zerolinecolor": "white",
           "zerolinewidth": 2
          }
         }
        },
        "title": {
         "text": "LLM Token Embeddings (t-SNE 3D)",
         "x": 0.5
        },
        "width": 900
       }
      }
     },
     "metadata": {},
     "output_type": "display_data"
    },
    {
     "data": {
      "application/vnd.plotly.v1+json": {
       "config": {
        "plotlyServerURL": "https://plot.ly"
       },
       "data": [
        {
         "hovertemplate": "Dimension 1=%{x}<br>Dimension 2=%{y}<br>Dimension 3=%{z}<br>label=%{text}<extra></extra>",
         "legendgroup": "",
         "marker": {
          "color": "#636efa",
          "size": 5,
          "symbol": "circle"
         },
         "mode": "markers+text",
         "name": "",
         "scene": "scene",
         "showlegend": false,
         "text": [
          "Your input fields are:",
          "1.",
          "`db_schema` (str): Full schema definition (DDL + c...",
          "2.",
          "`date` (str): Current date in 'YYYY-MM-DD' format.",
          "3.",
          "`examples` (str): Few Shot Examples structured as ...",
          "Explanation: ...",
          "SQL: ...'.",
          "4.",
          "`history` (str): List of previous Q&A interactions...",
          "A: ...'.",
          "5.",
          "`question` (str): The user's current natural langu...",
          "Your output fields are:",
          "1.",
          "`explanation` (str): Explanation of how the query ...",
          "The explanation needs to be German.",
          "2.",
          "`sql_query` (str): The final DuckDB SQL query that...",
          "Should be empty if context is insufficient.",
          "3.",
          "`insufficient_context` (bool): Boolean flag indica...",
          "True if context is insufficient, False otherwise.",
          "4.",
          "`clarification_questions` (list): List of specific...",
          "Empty list if context is sufficient.",
          "All interactions will be structured in the followi...",
          "[[ ## db_schema ## ]]",
          "{db_schema}",
          "[[ ## date ## ]]",
          "{date}",
          "[[ ## examples ## ]]",
          "{examples}",
          "[[ ## history ## ]]",
          "{history}",
          "[[ ## question ## ]]",
          "{question}",
          "[[ ## explanation ## ]]",
          "{explanation}",
          "[[ ## sql_query ## ]]",
          "{sql_query}",
          "[[ ## insufficient_context ## ]]",
          "{insufficient_context}        # note: the value yo...",
          "[[ ## clarification_questions ## ]]",
          "{clarification_questions}        # note: the value...",
          "[[ ## completed ## ]]",
          "In adhering to this structure, your objective is:",
          "Generate valid DuckDB SQL from user questions.",
          "Explanations in German.",
          "Follow guidelines strictly.",
          "Guidelines:",
          "1.",
          "If the context contains all necessary information,...",
          "2.",
          "If the context is insufficient, clearly explain wh...",
          "3.",
          "If the exact question is already part of the examp...",
          "4.",
          "Use table and column names exactly as provided, ma...",
          "5.",
          "Qualify column names with table names when multipl...",
          "6.",
          "For partial string matches, use LIKE '%term%'.",
          "Use ILIKE for case-insensitive matches if appropri...",
          "7.",
          "Format the SQL with standard indentation and line ..."
         ],
         "type": "scatter3d",
         "x": {
          "bdata": "TvyuwqATLUJWcBjCR1m5wIIpksIdBahCUSUxwmfKGsLtJkRCoCgOQu0np8I51sLCdvJeQkbiOsJv235Cnh+EP7zbQcIh2epCOrutwA1cncKKNZbCHQWoQljHGcKwTf7CF4s/wrjShMJxQ7bC5w8IwWYyFcJ8VcPC2zO8wSWccMHEo2+/WxCCwTOgWUJoaEpChN6EwheJQkGkuAzCmOIHQhRrI0G4cqpCM5CRQhQF/kH4CfxBVV2xQBL1zEECTRfB+cADQ9Pfq8FNd/tBhOVwQqxLBUJEYcdCOrutwPk8AsLWasBCuOhwQKAoDkJPxKPCdvJeQh5mKsL0rIhCeIztQuwR0UJxwoZCKEnBwg==",
          "dtype": "f4"
         },
         "y": {
          "bdata": "956ZwnlvvcL70IpBXRHNQiYBXECwiqPBDg6FQpkuUEKO1+HCDnxHwpVpJUJG/HZCYgGZwJdru8FfdLLA0n4xwt43L8K6ioHCH6u/woQAvj8vvAS/sIqjwUQtAUMS57O/2SGfQh0IZ8FWmNjBoZRiQfpW3MJfB1zC19geQZPyi8J+4HNC4WfNwsbqgcJaVRFC/RKBwtNEacJgwXXCj8B0QAr8w0Jn11dCWfsDQwN+dEJCKcVCUkMyQph3cUI3sMfBr2bVQVal/0J3vXrBssxNQoxpdsLhd6JCH6u/whZycUDcEH7CCovzwA58R8LwiFtCYgGZwLYViUJxVVXCql9gQGfHFUK65cXCMnK3Qg==",
          "dtype": "f4"
         },
         "z": {
          "bdata": "Ma6/wMpFlEInz7fB/Ta0QjF9zcJS6AZC5TzUQdocqUJLFjLCmq0LQhtUOUERhIZCz+uvQmIihsLlQpzCWT2aQhnU+sEKtTfC8xymQaavCcK7RaBCUugGQrjPNMJAn59B1s/kwu7iyUFrF9ZCZh8nQqItm0JVy43CpUPpwmYnvsIdrlBAQXdAwmnDtcLJjRNBDqdPQoYYMsKz5etCBjKuwbRsc8LOpFFC2mjtwW5D5ML2AyHBmMiXwvetb0JxslxA2DyDQallyUF5e/7CBwaAwmgEzkLcGWNA8xymQWil5kKdJVZCbnuCwpqtC0KaR2/Cz+uvQg51NsJ8KFbBjZ5RwtQjCsLZznRBVTSgwQ==",
          "dtype": "f4"
         }
        }
       ],
       "layout": {
        "height": 700,
        "legend": {
         "tracegroupgap": 0
        },
        "scene": {
         "domain": {
          "x": [
           0,
           1
          ],
          "y": [
           0,
           1
          ]
         },
         "xaxis": {
          "title": {
           "text": "Dimension 1"
          }
         },
         "yaxis": {
          "title": {
           "text": "Dimension 2"
          }
         },
         "zaxis": {
          "title": {
           "text": "Dimension 3"
          }
         }
        },
        "template": {
         "data": {
          "bar": [
           {
            "error_x": {
             "color": "#2a3f5f"
            },
            "error_y": {
             "color": "#2a3f5f"
            },
            "marker": {
             "line": {
              "color": "#E5ECF6",
              "width": 0.5
             },
             "pattern": {
              "fillmode": "overlay",
              "size": 10,
              "solidity": 0.2
             }
            },
            "type": "bar"
           }
          ],
          "barpolar": [
           {
            "marker": {
             "line": {
              "color": "#E5ECF6",
              "width": 0.5
             },
             "pattern": {
              "fillmode": "overlay",
              "size": 10,
              "solidity": 0.2
             }
            },
            "type": "barpolar"
           }
          ],
          "carpet": [
           {
            "aaxis": {
             "endlinecolor": "#2a3f5f",
             "gridcolor": "white",
             "linecolor": "white",
             "minorgridcolor": "white",
             "startlinecolor": "#2a3f5f"
            },
            "baxis": {
             "endlinecolor": "#2a3f5f",
             "gridcolor": "white",
             "linecolor": "white",
             "minorgridcolor": "white",
             "startlinecolor": "#2a3f5f"
            },
            "type": "carpet"
           }
          ],
          "choropleth": [
           {
            "colorbar": {
             "outlinewidth": 0,
             "ticks": ""
            },
            "type": "choropleth"
           }
          ],
          "contour": [
           {
            "colorbar": {
             "outlinewidth": 0,
             "ticks": ""
            },
            "colorscale": [
             [
              0,
              "#0d0887"
             ],
             [
              0.1111111111111111,
              "#46039f"
             ],
             [
              0.2222222222222222,
              "#7201a8"
             ],
             [
              0.3333333333333333,
              "#9c179e"
             ],
             [
              0.4444444444444444,
              "#bd3786"
             ],
             [
              0.5555555555555556,
              "#d8576b"
             ],
             [
              0.6666666666666666,
              "#ed7953"
             ],
             [
              0.7777777777777778,
              "#fb9f3a"
             ],
             [
              0.8888888888888888,
              "#fdca26"
             ],
             [
              1,
              "#f0f921"
             ]
            ],
            "type": "contour"
           }
          ],
          "contourcarpet": [
           {
            "colorbar": {
             "outlinewidth": 0,
             "ticks": ""
            },
            "type": "contourcarpet"
           }
          ],
          "heatmap": [
           {
            "colorbar": {
             "outlinewidth": 0,
             "ticks": ""
            },
            "colorscale": [
             [
              0,
              "#0d0887"
             ],
             [
              0.1111111111111111,
              "#46039f"
             ],
             [
              0.2222222222222222,
              "#7201a8"
             ],
             [
              0.3333333333333333,
              "#9c179e"
             ],
             [
              0.4444444444444444,
              "#bd3786"
             ],
             [
              0.5555555555555556,
              "#d8576b"
             ],
             [
              0.6666666666666666,
              "#ed7953"
             ],
             [
              0.7777777777777778,
              "#fb9f3a"
             ],
             [
              0.8888888888888888,
              "#fdca26"
             ],
             [
              1,
              "#f0f921"
             ]
            ],
            "type": "heatmap"
           }
          ],
          "histogram": [
           {
            "marker": {
             "pattern": {
              "fillmode": "overlay",
              "size": 10,
              "solidity": 0.2
             }
            },
            "type": "histogram"
           }
          ],
          "histogram2d": [
           {
            "colorbar": {
             "outlinewidth": 0,
             "ticks": ""
            },
            "colorscale": [
             [
              0,
              "#0d0887"
             ],
             [
              0.1111111111111111,
              "#46039f"
             ],
             [
              0.2222222222222222,
              "#7201a8"
             ],
             [
              0.3333333333333333,
              "#9c179e"
             ],
             [
              0.4444444444444444,
              "#bd3786"
             ],
             [
              0.5555555555555556,
              "#d8576b"
             ],
             [
              0.6666666666666666,
              "#ed7953"
             ],
             [
              0.7777777777777778,
              "#fb9f3a"
             ],
             [
              0.8888888888888888,
              "#fdca26"
             ],
             [
              1,
              "#f0f921"
             ]
            ],
            "type": "histogram2d"
           }
          ],
          "histogram2dcontour": [
           {
            "colorbar": {
             "outlinewidth": 0,
             "ticks": ""
            },
            "colorscale": [
             [
              0,
              "#0d0887"
             ],
             [
              0.1111111111111111,
              "#46039f"
             ],
             [
              0.2222222222222222,
              "#7201a8"
             ],
             [
              0.3333333333333333,
              "#9c179e"
             ],
             [
              0.4444444444444444,
              "#bd3786"
             ],
             [
              0.5555555555555556,
              "#d8576b"
             ],
             [
              0.6666666666666666,
              "#ed7953"
             ],
             [
              0.7777777777777778,
              "#fb9f3a"
             ],
             [
              0.8888888888888888,
              "#fdca26"
             ],
             [
              1,
              "#f0f921"
             ]
            ],
            "type": "histogram2dcontour"
           }
          ],
          "mesh3d": [
           {
            "colorbar": {
             "outlinewidth": 0,
             "ticks": ""
            },
            "type": "mesh3d"
           }
          ],
          "parcoords": [
           {
            "line": {
             "colorbar": {
              "outlinewidth": 0,
              "ticks": ""
             }
            },
            "type": "parcoords"
           }
          ],
          "pie": [
           {
            "automargin": true,
            "type": "pie"
           }
          ],
          "scatter": [
           {
            "fillpattern": {
             "fillmode": "overlay",
             "size": 10,
             "solidity": 0.2
            },
            "type": "scatter"
           }
          ],
          "scatter3d": [
           {
            "line": {
             "colorbar": {
              "outlinewidth": 0,
              "ticks": ""
             }
            },
            "marker": {
             "colorbar": {
              "outlinewidth": 0,
              "ticks": ""
             }
            },
            "type": "scatter3d"
           }
          ],
          "scattercarpet": [
           {
            "marker": {
             "colorbar": {
              "outlinewidth": 0,
              "ticks": ""
             }
            },
            "type": "scattercarpet"
           }
          ],
          "scattergeo": [
           {
            "marker": {
             "colorbar": {
              "outlinewidth": 0,
              "ticks": ""
             }
            },
            "type": "scattergeo"
           }
          ],
          "scattergl": [
           {
            "marker": {
             "colorbar": {
              "outlinewidth": 0,
              "ticks": ""
             }
            },
            "type": "scattergl"
           }
          ],
          "scattermap": [
           {
            "marker": {
             "colorbar": {
              "outlinewidth": 0,
              "ticks": ""
             }
            },
            "type": "scattermap"
           }
          ],
          "scattermapbox": [
           {
            "marker": {
             "colorbar": {
              "outlinewidth": 0,
              "ticks": ""
             }
            },
            "type": "scattermapbox"
           }
          ],
          "scatterpolar": [
           {
            "marker": {
             "colorbar": {
              "outlinewidth": 0,
              "ticks": ""
             }
            },
            "type": "scatterpolar"
           }
          ],
          "scatterpolargl": [
           {
            "marker": {
             "colorbar": {
              "outlinewidth": 0,
              "ticks": ""
             }
            },
            "type": "scatterpolargl"
           }
          ],
          "scatterternary": [
           {
            "marker": {
             "colorbar": {
              "outlinewidth": 0,
              "ticks": ""
             }
            },
            "type": "scatterternary"
           }
          ],
          "surface": [
           {
            "colorbar": {
             "outlinewidth": 0,
             "ticks": ""
            },
            "colorscale": [
             [
              0,
              "#0d0887"
             ],
             [
              0.1111111111111111,
              "#46039f"
             ],
             [
              0.2222222222222222,
              "#7201a8"
             ],
             [
              0.3333333333333333,
              "#9c179e"
             ],
             [
              0.4444444444444444,
              "#bd3786"
             ],
             [
              0.5555555555555556,
              "#d8576b"
             ],
             [
              0.6666666666666666,
              "#ed7953"
             ],
             [
              0.7777777777777778,
              "#fb9f3a"
             ],
             [
              0.8888888888888888,
              "#fdca26"
             ],
             [
              1,
              "#f0f921"
             ]
            ],
            "type": "surface"
           }
          ],
          "table": [
           {
            "cells": {
             "fill": {
              "color": "#EBF0F8"
             },
             "line": {
              "color": "white"
             }
            },
            "header": {
             "fill": {
              "color": "#C8D4E3"
             },
             "line": {
              "color": "white"
             }
            },
            "type": "table"
           }
          ]
         },
         "layout": {
          "annotationdefaults": {
           "arrowcolor": "#2a3f5f",
           "arrowhead": 0,
           "arrowwidth": 1
          },
          "autotypenumbers": "strict",
          "coloraxis": {
           "colorbar": {
            "outlinewidth": 0,
            "ticks": ""
           }
          },
          "colorscale": {
           "diverging": [
            [
             0,
             "#8e0152"
            ],
            [
             0.1,
             "#c51b7d"
            ],
            [
             0.2,
             "#de77ae"
            ],
            [
             0.3,
             "#f1b6da"
            ],
            [
             0.4,
             "#fde0ef"
            ],
            [
             0.5,
             "#f7f7f7"
            ],
            [
             0.6,
             "#e6f5d0"
            ],
            [
             0.7,
             "#b8e186"
            ],
            [
             0.8,
             "#7fbc41"
            ],
            [
             0.9,
             "#4d9221"
            ],
            [
             1,
             "#276419"
            ]
           ],
           "sequential": [
            [
             0,
             "#0d0887"
            ],
            [
             0.1111111111111111,
             "#46039f"
            ],
            [
             0.2222222222222222,
             "#7201a8"
            ],
            [
             0.3333333333333333,
             "#9c179e"
            ],
            [
             0.4444444444444444,
             "#bd3786"
            ],
            [
             0.5555555555555556,
             "#d8576b"
            ],
            [
             0.6666666666666666,
             "#ed7953"
            ],
            [
             0.7777777777777778,
             "#fb9f3a"
            ],
            [
             0.8888888888888888,
             "#fdca26"
            ],
            [
             1,
             "#f0f921"
            ]
           ],
           "sequentialminus": [
            [
             0,
             "#0d0887"
            ],
            [
             0.1111111111111111,
             "#46039f"
            ],
            [
             0.2222222222222222,
             "#7201a8"
            ],
            [
             0.3333333333333333,
             "#9c179e"
            ],
            [
             0.4444444444444444,
             "#bd3786"
            ],
            [
             0.5555555555555556,
             "#d8576b"
            ],
            [
             0.6666666666666666,
             "#ed7953"
            ],
            [
             0.7777777777777778,
             "#fb9f3a"
            ],
            [
             0.8888888888888888,
             "#fdca26"
            ],
            [
             1,
             "#f0f921"
            ]
           ]
          },
          "colorway": [
           "#636efa",
           "#EF553B",
           "#00cc96",
           "#ab63fa",
           "#FFA15A",
           "#19d3f3",
           "#FF6692",
           "#B6E880",
           "#FF97FF",
           "#FECB52"
          ],
          "font": {
           "color": "#2a3f5f"
          },
          "geo": {
           "bgcolor": "white",
           "lakecolor": "white",
           "landcolor": "#E5ECF6",
           "showlakes": true,
           "showland": true,
           "subunitcolor": "white"
          },
          "hoverlabel": {
           "align": "left"
          },
          "hovermode": "closest",
          "mapbox": {
           "style": "light"
          },
          "paper_bgcolor": "white",
          "plot_bgcolor": "#E5ECF6",
          "polar": {
           "angularaxis": {
            "gridcolor": "white",
            "linecolor": "white",
            "ticks": ""
           },
           "bgcolor": "#E5ECF6",
           "radialaxis": {
            "gridcolor": "white",
            "linecolor": "white",
            "ticks": ""
           }
          },
          "scene": {
           "xaxis": {
            "backgroundcolor": "#E5ECF6",
            "gridcolor": "white",
            "gridwidth": 2,
            "linecolor": "white",
            "showbackground": true,
            "ticks": "",
            "zerolinecolor": "white"
           },
           "yaxis": {
            "backgroundcolor": "#E5ECF6",
            "gridcolor": "white",
            "gridwidth": 2,
            "linecolor": "white",
            "showbackground": true,
            "ticks": "",
            "zerolinecolor": "white"
           },
           "zaxis": {
            "backgroundcolor": "#E5ECF6",
            "gridcolor": "white",
            "gridwidth": 2,
            "linecolor": "white",
            "showbackground": true,
            "ticks": "",
            "zerolinecolor": "white"
           }
          },
          "shapedefaults": {
           "line": {
            "color": "#2a3f5f"
           }
          },
          "ternary": {
           "aaxis": {
            "gridcolor": "white",
            "linecolor": "white",
            "ticks": ""
           },
           "baxis": {
            "gridcolor": "white",
            "linecolor": "white",
            "ticks": ""
           },
           "bgcolor": "#E5ECF6",
           "caxis": {
            "gridcolor": "white",
            "linecolor": "white",
            "ticks": ""
           }
          },
          "title": {
           "x": 0.05
          },
          "xaxis": {
           "automargin": true,
           "gridcolor": "white",
           "linecolor": "white",
           "ticks": "",
           "title": {
            "standoff": 15
           },
           "zerolinecolor": "white",
           "zerolinewidth": 2
          },
          "yaxis": {
           "automargin": true,
           "gridcolor": "white",
           "linecolor": "white",
           "ticks": "",
           "title": {
            "standoff": 15
           },
           "zerolinecolor": "white",
           "zerolinewidth": 2
          }
         }
        },
        "title": {
         "text": "LLM Sentence Embeddings (t-SNE 3D)",
         "x": 0.5
        },
        "width": 900
       }
      }
     },
     "metadata": {},
     "output_type": "display_data"
    }
   ],
   "source": [
    "# Beispieltext (kann durch deinen Text ersetzt werden)\n",
    "sample_text = \"\"\"\n",
    "Large Language Models (LLMs) haben die Art und Weise revolutioniert, wie wir mit Sprache interagieren.\n",
    "Diese Modelle werden auf riesigen Textmengen trainiert und können natürliche Sprache verstehen und generieren.\n",
    "Moderne LLMs wie GPT, BERT und T5 nutzen komplexe Transformer-Architekturen.\n",
    "Die Transformer-Architektur basiert auf Selbstaufmerksamkeitsmechanismen, die es dem Modell ermöglichen, Beziehungen zwischen Wörtern zu erfassen.\n",
    "Tokenisierung ist ein wichtiger erster Schritt in der NLP-Pipeline. Tokens können Wörter, Teilwörter oder einzelne Zeichen sein.\n",
    "Word Embeddings sind numerische Repräsentationen von Wörtern im hochdimensionalen Raum.\n",
    "Semantisch ähnliche Wörter liegen im Embedding-Raum oft nahe beieinander.\n",
    "Die Visualisierung von Embeddings kann Einblicke in die semantischen Beziehungen zwischen Wörtern geben.\n",
    "Dimensionsreduktionsverfahren wie t-SNE und PCA werden häufig verwendet, um hochdimensionale Embeddings in 2D oder 3D darzustellen.\n",
    "\"\"\"\n",
    "\n",
    "sample_text =\"\"\"\n",
    "Tabelle: products\n",
    "Beschreibung: Zentrale Tabelle für die individuelle Rückverfolgbarkeit von Motoren und deren Komponenten. Jeder Datensatz verknüpft ein spezifisches Bauteil (Individuum) mit einem bestimmten Motor. \n",
    "Diese Tabelle wird verwendet, wenn die exakte Zuordnung wichtig ist - also welche spezifische Komponente in welchem spezifischen Motor verbaut wurde.\n",
    "<Dataset products>\n",
    "\n",
    "Column: productnumber\n",
    "DataType: VARCHAR\n",
    "Example values:\n",
    "- YFPD653244374001\n",
    "- YFT5630148901001\n",
    "- YFT5630099402001\n",
    "- YFR6610851916003\n",
    "- YFPD653244374004\n",
    "- YFPD653244374022\n",
    "\n",
    "Description: Produktnummer des Motors. Wenn sie mit YF beginnt wurde der Motor in Bad Neustadt hergestellt. Beginnt sie mit IR wurde der Motor in Buzias hergestellt.\n",
    "Common names: \n",
    "- Produktnummer\n",
    "- Seriennummer\n",
    "- Serialnummer\n",
    "- Fabrikate Nummer\n",
    "\n",
    "\"\"\"\n",
    "\n",
    "sample_text = \"\"\"\n",
    "\n",
    "Your input fields are:\n",
    "1. `db_schema` (str): Full schema definition (DDL + comments) of the available DuckDB tables and columns.\n",
    "2. `date` (str): Current date in 'YYYY-MM-DD' format.\n",
    "3. `examples` (str): Few Shot Examples structured as 'Question: ... Explanation: ... SQL: ...'.\n",
    "4. `history` (str): List of previous Q&A interactions in the format 'Q: ... A: ...'.\n",
    "5. `question` (str): The user's current natural language query to be translated into SQL with explanation.\n",
    "Your output fields are:\n",
    "1. `explanation` (str): Explanation of how the query was interpreted and how the resulting SQL query was constructed. The explanation needs to be German.\n",
    "2. `sql_query` (str): The final DuckDB SQL query that answers the user's question based on the schema and guidelines. Should be empty if context is insufficient.\n",
    "3. `insufficient_context` (bool): Boolean flag indicating whether the context is insufficient to generate a valid SQL query. True if context is insufficient, False otherwise.\n",
    "4. `clarification_questions` (list): List of specific questions to ask the user when context is insufficient (in german). Empty list if context is sufficient.\n",
    "All interactions will be structured in the following way, with the appropriate values filled in.\n",
    "\n",
    "[[ ## db_schema ## ]]\n",
    "{db_schema}\n",
    "\n",
    "[[ ## date ## ]]\n",
    "{date}\n",
    "\n",
    "[[ ## examples ## ]]\n",
    "{examples}\n",
    "\n",
    "[[ ## history ## ]]\n",
    "{history}\n",
    "\n",
    "[[ ## question ## ]]\n",
    "{question}\n",
    "\n",
    "[[ ## explanation ## ]]\n",
    "{explanation}\n",
    "\n",
    "[[ ## sql_query ## ]]\n",
    "{sql_query}\n",
    "\n",
    "[[ ## insufficient_context ## ]]\n",
    "{insufficient_context}        # note: the value you produce must be True or False\n",
    "\n",
    "[[ ## clarification_questions ## ]]\n",
    "{clarification_questions}        # note: the value you produce must adhere to the JSON schema: {\"type\": \"array\", \"items\": {}}\n",
    "\n",
    "[[ ## completed ## ]]\n",
    "In adhering to this structure, your objective is: \n",
    "        Generate valid DuckDB SQL from user questions. Explanations in German. Follow guidelines strictly.\n",
    "        Guidelines:\n",
    "        1. If the context contains all necessary information, generate a syntactically correct DuckDB SQL query.\n",
    "        2. If the context is insufficient, clearly explain what is missing and do not guess or fabricate.\n",
    "        3. If the exact question is already part of the examples, return the exact same SQL output as before.\n",
    "        4. Use table and column names exactly as provided, matching case and spelling.\n",
    "        5. Qualify column names with table names when multiple tables are involved (especially joins).\n",
    "        6. For partial string matches, use LIKE '%term%'. Use ILIKE for case-insensitive matches if appropriate.\n",
    "        7. Format the SQL with standard indentation and line breaks for readability.\n",
    "\"\"\"\n",
    "# ###\n",
    "\n",
    "# Column: productionordernumber\n",
    "# DataType: BIGINT\n",
    "# Example values:\n",
    "# - 53640502\n",
    "# - 35884135\n",
    "# - 36329260\n",
    "# - 36341794\n",
    "# - 53386697\n",
    "\n",
    "# Description: Fertigungsauftrag für eine Prozessebene, Referenz auf sap.afko_lead_aufnr (Führende Auftragsnummer in sap), 8-stellig. Beginnt eine Fertigungsauftragsnummer mit 5 ist es ein anonymes Produkt, \n",
    "# das nicht zu einem Kundenauftrags gefertigt worden ist, beginnt es mit einer 3 dann wurde es zu einem Kundenauftrag spezifisch gefertigt.\n",
    "# Common names:\n",
    "# - Produktionsauftrag\n",
    "# - Fertigungsauftragsnummer\n",
    "\n",
    "# ###\n",
    "\n",
    "# Column: customerordernumber\n",
    "# DataType: BIGINT\n",
    "# Example values:\n",
    "# - 300681\n",
    "# - 298378\n",
    "# - 100041\n",
    "# - 200000\n",
    "# - 34033\n",
    "# - 407842\n",
    "# - 600718\n",
    "\n",
    "# Description: Kundenauftragsnummer, 6-stellig. Kann NULL sein. Ist Teil der Serialnummer -> Kundenauftragsnummer 300681 steckt in Serialnummer YFT5630068101001 an 6. bis 11. Stelle.\n",
    "# Common names:\n",
    "# - Kundenauftragsnummer\n",
    "\n",
    "# ###\n",
    "\n",
    "# Column: customerorderpositionnumber\n",
    "# DataType: BIGINT\n",
    "# Example values:\n",
    "# - 1\n",
    "# - 4\n",
    "# - 15\n",
    "# - 35\n",
    "# - 85\n",
    "# - 54\n",
    "# - 64\n",
    "# - 62\n",
    "\n",
    "# Description: Kundenauftragspositionsnummer. Kann NULL sein. Ist Teil der Serialnummer -> Kundenauftragspositionsnummer 1 steckt in Serialnummer YFT5630068101001 an 12. & 13. Stelle (01).\n",
    "# Common names:\n",
    "# - Kundenauftragspositionsnummer\n",
    "\n",
    "# ###\n",
    "\n",
    "# Column: genealogydata_assembleddatetime\n",
    "# DataType: VARCHAR\n",
    "# Example values:\n",
    "# - 2023-10-19 11:30:21\n",
    "# - 2025-05-28 07:32:53\n",
    "# - 2022-11-30 05:35:02\n",
    "# - 2023-06-27 10:54:46\n",
    "# - 2024-01-04 05:10:02\n",
    "# - 2025-01-07 05:12:52\n",
    "\n",
    "# Description: Zeitstempel wann die Trace Komponente in der Fertigung erfasst worden ist im Format 'YYYY-MM-DD HH:MM:SS'.\n",
    "# Common names:\n",
    "# - Zeitpunkt\n",
    "# - Montagezeitpunkt\n",
    "# ###\n",
    "\n",
    "# Column: genealogydata_materialnumber\n",
    "# DataType: VARCHAR\n",
    "# Example values:\n",
    "# - A5E50757302002\n",
    "# - M40002889665\n",
    "# - 000005192254587000\n",
    "# - 000006883706356000\n",
    "# - M40000960613\n",
    "# - A5E51097477008\n",
    "# - A5E41578267802\n",
    "\n",
    "# Description: Für Trace Typen 1 bis 4 ist es die Materialnummer der Komponente, bei Trace Typ 5 ist es die Materialnummer der Baugruppe aber nicht der Einzelteile.\n",
    "# Common names:\n",
    "# - Materialnummer\n",
    "\n",
    "# ###\n",
    "\n",
    "# Column: genealogydata_genealogytracetype\n",
    "# DataType: BIGINT\n",
    "# All available values:\n",
    "# - 1\n",
    "# - 2\n",
    "# - 3\n",
    "# - 4\n",
    "# - 5\n",
    "# - 10\n",
    "\n",
    "# Description: Art der Rückverfolgbarkeit. Mögliche Werte -> 1=Charge, 2=Charge, 3=???, 4=Unikat, 5=(Standardkomponente, Baugruppe), 10=Sonderbehandlung.\n",
    "# Common names:\n",
    "# - Trace Typ\n",
    "\n",
    "# ###\n",
    "\n",
    "# Column: genealogydata_tracedata\n",
    "# DataType: VARCHAR\n",
    "# Example values:\n",
    "# - 709246/253\n",
    "# - YFT6653654782015\n",
    "# - 1P5194021653+S2508001895\n",
    "# - 25150007FI\n",
    "# - +KS11006A02_0001_NEU+0-016012A+000000000590691/22B+\n",
    "# - 10897721\n",
    "# - K2000085219\n",
    "# - M0324131030203541\n",
    "# - ZZLT5/8319073601\n",
    "\n",
    "# Description: Inhalt vom Barcode Scan. Eigengefertigte Komponenten fangen mit einem YF an, Bremsen z.B. enden mit einem / worauf das Jahr z.B. 25 für 2025 und der Monat z.B. 3 folgen. \n",
    "# Für diese Spalte lassen sich jedoch keine festen Regeln aufstellen, da die Vielfalt sehr hoch ist und teilweise von Lieferantenbezeichnungen abhängt.\n",
    "# Common names:\n",
    "# - Trace-Daten\n",
    "# - Trace Informationen\n",
    "# - Barcode\n",
    "# - DMC\n",
    "\n",
    "# ###\n",
    "\n",
    "# Column: referencedproductionorders_productionordernumber\n",
    "# DataType: BIGINT\n",
    "# Example values:\n",
    "# - 53400622\n",
    "# - 53647621\n",
    "# - 53391563\n",
    "# - 35865830\n",
    "# - 35811184\n",
    "# - 35822870\n",
    "\n",
    "# Description: Referenz auf orders.productionordernumber. Kann NULL sein, ist in der Regel bei Trace Typ 5 befüllt.\n",
    "\n",
    "# ###\n",
    "\n",
    "# Column: referencedproductionorders_deliverydate\n",
    "# DataType: VARCHAR\n",
    "# Example values:\n",
    "# - 2023-11-15 08:45:32\n",
    "# - 2024-08-15 16:54:23\n",
    "# - 2025-02-20 14:30:00\n",
    "\n",
    "# Description: Lieferdatum im Format 'YYYY-MM-DD HH:MM:SS'.\n",
    "\n",
    "# ###\n",
    "\n",
    "# Column: year\n",
    "# DataType: BIGINT\n",
    "# Example values:\n",
    "# - 2023\n",
    "# - 2024\n",
    "# - 2025\n",
    "\n",
    "# Description: Jahr der Erfassung.\n",
    "\n",
    "# ###\n",
    "\n",
    "# Column: month\n",
    "# DataType: BIGINT\n",
    "# Example values:\n",
    "# - 1\n",
    "# - 6\n",
    "# - 12\n",
    "\n",
    "# Description: Monat der Erfassung (z.B. 1 für Januar).\n",
    "\n",
    "# </Dataset products>\n",
    "# Tabelle: orders\n",
    "# Beschreibung: Erfasst Trace-Daten von Komponenten, bei denen keine individuelle Zuordnung erforderlich ist (hauptsächlich Trace Typ 5 in products.genealogydata_genealogytracetype). \n",
    "# Beispiel: Bei 40 gleichartigen Bremsen wird nur geprüft, ob der richtige Bremsentyp für den Fertigungsauftrag verwendet wird, aber nicht welche spezifische Bremse an welchem Motor verbaut wurde. \n",
    "# Hauptsächlich für Chargen-basierte Rückverfolgung.\n",
    "# <Dataset orders>\n",
    "\n",
    "# Column: productionordernumber\n",
    "# DataType: BIGINT\n",
    "# Example values:\n",
    "# - 53640502\n",
    "# - 53647621\n",
    "# - 35865830\n",
    "\n",
    "# Description: Fertigungsauftragsnummer, siehe products.productionordernumber. Unterschied: hier kommen nur Fertigungsauftragsnummern vor, die mit 5 beginnen (anonyme Produkte, die nicht zu einem Kundenauftrag gefertigt wurden).\n",
    "\n",
    "# ###\n",
    "\n",
    "# Column: genealogydata_assembleddatetime\n",
    "# DataType: VARCHAR\n",
    "# Example values:\n",
    "# - 2023-10-19 11:30:21\n",
    "# - 2025-05-28 07:32:53\n",
    "\n",
    "# Description: Zeitstempel wann die Trace Komponente in der Fertigung erfasst worden ist im Format 'YYYY-MM-DD HH:MM:SS'. Siehe products.genealogydata_assembleddatetime.\n",
    "\n",
    "# ###\n",
    "\n",
    "# Column: genealogydata_materialnumber\n",
    "# DataType: VARCHAR\n",
    "# Example values:\n",
    "# - A5E50757302002\n",
    "# - M40002889665\n",
    "# - 000005192254587000\n",
    "\n",
    "# Description: Materialnummer der Komponente. Für Trace Typen 2 und 4 ist es die Materialnummer der Komponente. Siehe products.genealogydata_materialnumber.\n",
    "\n",
    "# ###\n",
    "\n",
    "# Column: genealogydata_genealogytracetype\n",
    "# DataType: BIGINT\n",
    "# All available values:\n",
    "# - 2\n",
    "# - 4\n",
    "\n",
    "# Description: Art der Rückverfolgbarkeit. Siehe products.genealogydata_genealogytracetype. Unterschied: hier kommen nur Trace Typen 2 (Charge) und 4 (Unikat) vor.\n",
    "\n",
    "# ###\n",
    "\n",
    "# Column: genealogydata_tracedata\n",
    "# DataType: VARCHAR\n",
    "# Example values:\n",
    "# - 709246/253\n",
    "# - YFT6653654782015\n",
    "# - 1P5194021653+S2508001895\n",
    "# - 25150007FI\n",
    "\n",
    "# Description: Inhalt vom Barcode Scan. Eigengefertigte Komponenten fangen mit einem YF an, Bremsen z.B. enden mit einem / worauf das Jahr z.B. 25 für 2025 und der Monat z.B. 3 folgen. Siehe products.genealogydata_tracedata.\n",
    "\n",
    "# ###\n",
    "\n",
    "# Column: year\n",
    "# DataType: BIGINT\n",
    "# Example values:\n",
    "# - 2023\n",
    "# - 2024\n",
    "# - 2025\n",
    "\n",
    "# Description: Jahr der Erfassung.\n",
    "\n",
    "# ###\n",
    "\n",
    "# Column: month\n",
    "# DataType: BIGINT\n",
    "# Example values:\n",
    "# - 1\n",
    "# - 6\n",
    "# - 12\n",
    "\n",
    "# Description: Monat der Erfassung (z.B. 1 für Januar).\n",
    "\n",
    "# </Dataset orders>\n",
    "\n",
    "# Tabelle: sap\n",
    "# Beschreibung: Grundlegende ERP-Datenbasis, die als Ausgangspunkt für alle Fertigungsprozesse dient. \n",
    "# Diese Tabelle enthält die Rohdaten aus SAP, die für die Bestimmung der Trace-Relevanz und die Steuerung der Fertigungsaufträge benötigt werden. \n",
    "# afko_* → Fertigungsaufträge\n",
    "# afpo_* → Kundenauftragsbezug (Werk, Kundenauftrag, Position)\n",
    "# makt_* → Materialkurztexte (Produktionsdaten)\n",
    "# mara_* → Materialstamm (Kennzeichen)\n",
    "# resb_* → Reservierungen für Komponenten\n",
    "# vbap_* → Kundenauftragsdaten (z.B. MLFB, Fabrikgruppe, Zusatzoptionen)\n",
    "# <Dataset sap>\n",
    "\n",
    "# Column: afko_aufnr\n",
    "# DataType: BIGINT\n",
    "# Example values:\n",
    "# - 53640502\n",
    "# - 35884135\n",
    "# - 36229169\n",
    "# - 35927626\n",
    "# - 53413394\n",
    "# - 53413360\n",
    "\n",
    "# Description: Fertigungsauftragsnummer, siehe products.productionordernumber.\n",
    "\n",
    "# ###\n",
    "\n",
    "# Column: afko_fevor\n",
    "# DataType: VARCHAR\n",
    "# Example values:\n",
    "# - L02\n",
    "# - MA1\n",
    "# - M16\n",
    "# - PSC\n",
    "# - RM2\n",
    "# - MWB\n",
    "# - K02\n",
    "# - KOL\n",
    "# - SAA\n",
    "# - P07\n",
    "# - GM1\n",
    "\n",
    "# Description: Identifikation der Auftragsebene. Naming Convention Anfangsbuchstabe = Prozess: P = Verpacken, L = Läuferauftrag, W = Wickeln, M = Montage, A = Anbau. \n",
    "# Common names: \n",
    "# - Fertigungssteuerer\n",
    "\n",
    "# ###\n",
    "\n",
    "# Column: afko_gamng\n",
    "# DataType: DOUBLE\n",
    "# Example values:\n",
    "# - 1\n",
    "# - 5\n",
    "# - 15\n",
    "# - 20\n",
    "# - 408\n",
    "# - 816\n",
    "# - 34\n",
    "\n",
    "# Description: Gesamtmenge des Auftrags. \n",
    "# Common names: \n",
    "# - Auftragsmenge\n",
    "# - Fertigungsauftragsmenge\n",
    "\n",
    "# ###\n",
    "\n",
    "# Column: afko_getri\n",
    "# DataType: BIGINT\n",
    "# Example values:\n",
    "# - 20250123\n",
    "# - 20230118\n",
    "\n",
    "# Description: Ist-Endtermin im Format YYYYMMDD. Eher unwichtige Spalte.\n",
    "\n",
    "# ###\n",
    "\n",
    "# Column: afko_getri_timestamp\n",
    "# DataType: VARCHAR\n",
    "# Example values:\n",
    "# - 2025-01-23 00:00:00\n",
    "# - 2023-08-30 00:00:00\n",
    "\n",
    "# Description: Ist-Endtermin im Format YYYY-MM-DD HH:MM:SS. \n",
    "# Common names: \n",
    "# - Zeitpunkt\n",
    "# - Ist-Endtermin.\n",
    "\n",
    "# ###\n",
    "\n",
    "# Column: afko_gltri\n",
    "# DataType: BIGINT\n",
    "# Example values:\n",
    "# - 20250506\n",
    "# - 20231004\n",
    "\n",
    "# Description: Liefertermin im Format YYYYMMDD.\n",
    "# Common names: \n",
    "# - Liefertermin\n",
    "\n",
    "# ###\n",
    "\n",
    "# Column: afko_gltrs\n",
    "# DataType: BIGINT\n",
    "# Example values:\n",
    "# - 20250507\n",
    "\n",
    "# Description: Geschätzter Endtermin im Format YYYYMMDD. \n",
    "# Common names: \n",
    "# - Endtermin\n",
    "\n",
    "# ###\n",
    "\n",
    "# Column: afko_lead_aufnr\n",
    "# DataType: BIGINT\n",
    "# Example values:\n",
    "# - 35513358\n",
    "# - 36433126\n",
    "# - 35513358\n",
    "# - 53386640\n",
    "# - 160000000467\n",
    "# - 160000000490\n",
    "\n",
    "# Description: Referenziert den übergeordneten Fertigungsauftrag in der Auftragshierarchie. Bei mehrstufigen Fertigungsprozessen gibt es Unteraufträge (z.B. für Läufer, Wicklung, Montage), die alle auf einen führenden Auftrag verweisen. \n",
    "# Common names: \n",
    "# - Führende Auftragsnummer\n",
    "\n",
    "# ###\n",
    "\n",
    "# Column: afko_plnbez\n",
    "# DataType: VARCHAR\n",
    "# Example values:\n",
    "# - M1100538810\n",
    "# - FT713_MONT\n",
    "# - A5E50969071001\n",
    "# - 000002183750801300\n",
    "# - M40000830511\n",
    "# - A5E44476633002\n",
    "# - 000002183330801300\n",
    "# - A5E51292110003\n",
    "\n",
    "# Description: Materialnummer\n",
    "# Common names: \n",
    "# - Materialnummer\n",
    "\n",
    "# ###\n",
    "\n",
    "# Column: afko_zzfabnr\n",
    "# DataType: VARCHAR\n",
    "# Example values:\n",
    "# - T1653 2190 01 001\n",
    "# - T4653 7391 04 001\n",
    "# - S7653 5164 75 001\n",
    "# - S6653 5166 49 001\n",
    "# - A7312 1121 01 001\n",
    "# - B627 7834 01 018\n",
    "# - C351 0764 88 002\n",
    "# - DN695 0080 37 001\n",
    "# - E3648 0828 01 001\n",
    "# - H1623 8152 02 001\n",
    "\n",
    "# Description: Die erste Serialnummer des zugehörigen Fertigungsauftrags. \n",
    "# Common names: \n",
    "# - Fabriknummer\n",
    "\n",
    "# ###\n",
    "\n",
    "# Column: afpo_dwerk\n",
    "# DataType: VARCHAR\n",
    "# All available values:\n",
    "# - 2301\n",
    "# - C501\n",
    "\n",
    "# Description: Werksidentifikation. 2301 = Bad Neustadt, C501 = Buzias. \n",
    "# Common names: \n",
    "# - Werk\n",
    "# - Standort\n",
    "\n",
    "# ###\n",
    "\n",
    "# Column: afpo_kdauf\n",
    "# DataType: BIGINT\n",
    "# Example values:\n",
    "# - 300681\n",
    "# - 298378\n",
    "# - 100012\n",
    "# - 29481\n",
    "# - 32176\n",
    "# - 402266\n",
    "# - 513626\n",
    "# - 600664\n",
    "\n",
    "# Description: Kundenauftragsnummer, siehe products.customerordernumber.\n",
    "\n",
    "# ###\n",
    "\n",
    "# Column: afpo_kdpos\n",
    "# DataType: SMALLINT\n",
    "# Example values:\n",
    "# - 480\n",
    "# - 440\n",
    "# - 97\n",
    "# - 25\n",
    "# - 21\n",
    "# - 100\n",
    "# - 87\n",
    "\n",
    "# Description: Kundenauftragspositionsnummer, siehe products.customerorderpositionnumber.\n",
    "\n",
    "# ###\n",
    "\n",
    "# Column: afko_system\n",
    "# DataType: VARCHAR\n",
    "# All available values:\n",
    "# - R2P01\n",
    "# - S4P01\n",
    "\n",
    "# Description: Identifiziert das Quellsystem, aus dem die Fertigungsauftragsdaten stammen. Aktuell sind 'R2P01' & 'S4P01' die einzigen verwendeten Werte, kann auch NULL sein. Eher unwichtige Spalte.\n",
    "\n",
    "# ###\n",
    "\n",
    "# Column: makt_maktx\n",
    "# DataType: VARCHAR\n",
    "# Example values:\n",
    "# - DAUERMAGNET 1FT510.\n",
    "# - LTG 2,5X165 N4GAF RD\n",
    "# - Huelse 1FE2114-8\n",
    "# - P-SCHEIBE-DIN988-37X47X0,5\n",
    "# - F-SCHEIBE 37x45x0,5\n",
    "# - Lagerschild AS 1FT706 mBr Flan.1 bearb.\n",
    "# - O-RING 100X2 FPM, 75 SHORE A\n",
    "# - ZY-SCHR-SN60056-UM5X60-ST-DT-F\n",
    "# - Platt vollst. Prozessoptimiert\n",
    "# - ZY-SCHR-ISO14579-M5X20-8.8-A2B-OT85\n",
    "# - GLEITMO.800\n",
    "# - USIT-SCHEIBE UA5.2x8.7x1\n",
    "# - 1FK7063-2AF7 PT1 SB VW\n",
    "\n",
    "# Description: Materialbeschreibung in Textform. \n",
    "# Common names: \n",
    "# - Materialkurztext\n",
    "# - Materialbeschreibung\n",
    "\n",
    "# ###\n",
    "\n",
    "# Column: mara_zzkenn\n",
    "# DataType: VARCHAR\n",
    "# Example values:\n",
    "# - K324\n",
    "# - N534\n",
    "# - K031\n",
    "# - N231\n",
    "# - K030\n",
    "# - N212\n",
    "# - K165\n",
    "# - N559\n",
    "# - K187\n",
    "# - K057\n",
    "\n",
    "# Description: Historisches Klassifizierungssystem für Materialien, das auch nach der SAP-Einführung beibehalten wurde. \n",
    "# Der Buchstabe gefolgt von einer dreistelligen Zahl identifiziert eindeutig die Art des Materials. Wichtige Kennziffern sind z.B.: \n",
    "# K057 = Stator, K688 = Rotor komplett verbaut, K384 = Läufer, K129 = Lagerschild, K519 = Bremse oder Geber, K529 = Getriebe. \n",
    "# Wenn nach Rotoren gefragt wird filtere sowohl nach K688 als auch nach K384. Diese Kennzeichnung wurde eingeführt, als die alten Materialnummern \n",
    "# durch SAP-konforme A5E-Nummern ersetzt wurden, um die schnelle Identifikation von Materialtypen weiterhin zu ermöglichen. \n",
    "# Common names:\n",
    "# - Materialkennzeichen\n",
    "# - Kennziffer\n",
    "\n",
    "# ###\n",
    "\n",
    "# Column: resb_bdmng\n",
    "# DataType: DOUBLE\n",
    "# Example values:\n",
    "# - 0.45\n",
    "# - 15\n",
    "# - 18\n",
    "# - 10\n",
    "# - 40\n",
    "# - 0.009999999776482582\n",
    "\n",
    "# Description: Gibt an, wie viele Einheiten einer Komponente benötigt werden. Bei Standardteilen wie Schrauben können dies mehrere Stück sein (z.B. 15 ST), bei Materialien wie Kupferdraht wird nach Gewicht gerechnet (z.B. 0.45 KG). Die Menge muss immer im Kontext mit der Mengeneinheit (resb_meins) betrachtet werden. \n",
    "# Common names:\n",
    "# - Bedarfsmenge\n",
    "# - Komponenten-Menge\n",
    "\n",
    "# ###\n",
    "\n",
    "# Column: resb_matnr\n",
    "# DataType: VARCHAR\n",
    "# Example values:\n",
    "# - A5E50757302002\n",
    "# - M40002889665\n",
    "# - 000005192254587000\n",
    "\n",
    "# Description: Materialnummer der Komponente, siehe products.genealogydata_materialnumber. Unterschied: es kommen führende Nullen mit vor.\n",
    "\n",
    "# ###\n",
    "\n",
    "# Column: resb_meins\n",
    "# DataType: VARCHAR\n",
    "# All available values:\n",
    "# - G\n",
    "# - M\n",
    "# - L\n",
    "# - M2\n",
    "# - KG\n",
    "# - ST\n",
    "\n",
    "# Description: Definiert die Einheit der Bedarfsmenge. Mögliche Werte sind:\n",
    "# - ST = Stück (für Einzelteile wie Schrauben, Lager)\n",
    "# - KG = Kilogramm (für Gewichtsmaterialien wie Kupfer)\n",
    "# - G = Gramm (für kleinere Gewichtsmengen)\n",
    "# - M = Meter (für Längenware wie Kabel, Isolierschläuche)\n",
    "# - M2 = Quadratmeter (für Flächenmaterialien wie Isolierpapier)\n",
    "# - L = Liter (für Flüssigkeiten wie Lack, Öl)\n",
    "# Common names:\n",
    "# - Mengeneinheit\n",
    "# - Maßeinheit\n",
    "\n",
    "# ###\n",
    "\n",
    "# Column: resb_posnr\n",
    "# DataType: VARCHAR\n",
    "# Example values:\n",
    "# - 3500\n",
    "# - 2249\n",
    "# - 1140\n",
    "# - 0388\n",
    "# - 0375\n",
    "# - 0350\n",
    "# - 7067\n",
    "# - 3901\n",
    "# - 1100\n",
    "# - 1200\n",
    "# - 3000\n",
    "\n",
    "# Description: Position der Komponente in der Stückliste des Motors. Es existieren gewisse Konventionen, die aber nicht so zuverlässig sind wie die Materialkennzeichen (mara_zzkenn). Häufige Positionen sind:\n",
    "# - 1100: typischerweise für Stator\n",
    "# - 1200: typischerweise für Rotor\n",
    "# - 3000: typischerweise für Lagerschild\n",
    "# Die Positionsnummern dienen der strukturierten Anordnung der Komponenten in der Stückliste, sind aber weniger strikt standardisiert als die Materialkennzeichen. \n",
    "# Common names: \n",
    "# - Stücklistenposition\n",
    "# - Positionsnummer\n",
    "\n",
    "# ###\n",
    "\n",
    "# Column: resb_potx1\n",
    "# DataType: VARCHAR\n",
    "# Example values:\n",
    "# - MAGNETE\n",
    "# - KL_KA_OBERTEIL\n",
    "# - FE1_MAGNET\n",
    "# - PH4_LAGERSCH_BS\n",
    "# - 1FK21056A++++++0\n",
    "# - Längsleisten Stator\n",
    "# - BREMSE_MODUL_GEH\n",
    "# - LAGERSCHILD SCHRAUBE AS\n",
    "\n",
    "# Description: Kurztext MLFB der Komponente, eher unwichtige Spalte.\n",
    "\n",
    "# ###\n",
    "\n",
    "# Column: vbap_yybcezndr\n",
    "# DataType: VARCHAR\n",
    "# Example values:\n",
    "# - 1FE2116-8CJ12-2DW1\n",
    "# - EWN:0573002402490\n",
    "# - 1FT7136-5AB71-1BH0\n",
    "# - 1FW3150-1MH62-7DA0-Z\n",
    "# - 1FK2106-4AF00-1SA0\n",
    "# - 1FK2208-4AC10-1MB0\n",
    "# - 1FK7064-7AF71-1SA0\n",
    "# - 1PH2118-6WF22\n",
    "# - 1FW6190-0VB05-1JA3-Z\n",
    "\n",
    "# Description: Standardisierte Produktkennzeichnung für Siemens-Motoren. \n",
    "# Common names: \n",
    "# - MLFB\n",
    "# - Maschinenlesbare\n",
    "# - Fabrikatebezeichnung\n",
    "\n",
    "# ###\n",
    "\n",
    "# Column: vbap_yybcvfgrp\n",
    "# DataType: VARCHAR\n",
    "# Example values:\n",
    "# - 9638\n",
    "# - 5691\n",
    "# - 9693\n",
    "# - X0II\n",
    "# - 9328\n",
    "# - 5690\n",
    "# - 9621\n",
    "# - 5683\n",
    "# – X0OV\n",
    "\n",
    "# Description: Vierstelliger Code zur Klassifizierung von Motortypen in Produktfamilien. Die Gruppierung basiert auf der MLFB-Bezeichnung und clustert ähnliche Motoren zusammen. \n",
    "# Common names:\n",
    "# - Fabrikgruppe\n",
    "# - Vertriebsfabrikategruppe.\n",
    "\n",
    "# ###\n",
    "\n",
    "# Column: vbap_yykurzanga\n",
    "# DataType: VARCHAR\n",
    "# Example values:\n",
    "# - K23M39Y84\n",
    "# - N01N05R2A\n",
    "# - X53\n",
    "# - D23E10G23G97K07N23Q91W90Y84\n",
    "# – D01G23K07N23X05Y84\n",
    "# - D01G23K07N23Q92\n",
    "# - S77\n",
    "# - K1AK23X53Y84\n",
    "# - X08\n",
    "# - U60V90Y84\n",
    "\n",
    "# Description: Enthält kundenspezifische Zusatzoptionen, die über die Standard-MLFB hinausgehen. Diese Z-Optionen werden verwendet, wenn die 16-stellige MLFB nicht ausreicht, um alle Spezifikationen abzubilden. \n",
    "# Anwendungsfälle:\n",
    "# - Getriebeausführungen\n",
    "# - Sonderausführungen\n",
    "# - Spezielle Kundenanforderungen\n",
    "# Common names:\n",
    "# - Z-Optionen\n",
    "# - Zusatzoptionen\n",
    "# - Kurzangaben\n",
    "\n",
    "# ###\n",
    "\n",
    "# Column: year\n",
    "# DataType: BIGINT\n",
    "# Example values:\n",
    "# - 2023\n",
    "# - 2024\n",
    "# - 2025\n",
    "\n",
    "# Description: Jahr der Datensatzerstellung.\n",
    "\n",
    "# ###\n",
    "\n",
    "# Column: month\n",
    "# DataType: BIGINT\n",
    "# Example values:\n",
    "# - 1\n",
    "# - 6\n",
    "# - 12\n",
    "\n",
    "# Description: Monat der Datensatzerstellung (z.B. 1 für Januar).\n",
    "\n",
    "# </Dataset sap>\n",
    "\n",
    "# Tabelle: results\n",
    "# Beschreibung: Konsolidierte Ergebnistabelle zur vereinfachten Rückverfolgbarkeit von Motoren und deren Komponenten. \n",
    "# Aggregiert relevante Informationen aus SAP-, Produktions- und Auftragsdaten zur schnellen Auffindbarkeit und Analyse von Trace-Daten.\n",
    "# <Dataset results>\n",
    "\n",
    "# Column: FAUF\n",
    "# DataType: BIGINT\n",
    "# Example values:\n",
    "# - 53640502\n",
    "# - 35884135\n",
    "# - 35752447\n",
    "# - 35752484\n",
    "# - 35753375\n",
    "\n",
    "# Description: Fertigungsauftragsnummer (Referenz auf sap.afko_aufnr).\n",
    "\n",
    "# ###\n",
    "\n",
    "# Column: Zeitstempel_sap\n",
    "# DataType: TIMESTAMP\n",
    "# Example values:\n",
    "# - 2023-10-19 11:30:21\n",
    "# - 2025-05-28 07:32:53\n",
    "\n",
    "# Description: Ist-Endtermin SAP im Format 'YYYY-MM-DD HH:MM:SS'.\n",
    "\n",
    "# ###\n",
    "\n",
    "# Column: Kurztext\n",
    "# DataType: VARCHAR\n",
    "# Example values:\n",
    "# - Geh vollst 1FK2210-4AF\n",
    "# - 1FT7086-5AF7 OIS PT1\n",
    "# - Ständer (geschaltet) 1FW6190-8..05-1J.3\n",
    "# - 1FT7105-5WC7 oIS PT1\n",
    "# - Geh vollst 1FK2104-5AK\n",
    "# - 1FT7108-5AB7 MIS PT1\n",
    "# - LFR MONT 1FK2208-5 mBr mPf IP64\n",
    "# - Resolver vollst. SIZE 21 - 8-polig  M23\n",
    "# - Geh vollst 1FK2206-4AF\n",
    "\n",
    "# Description: Materialbeschreibung (Referenz SAP makt_maktx).\n",
    "\n",
    "# ###\n",
    "\n",
    "# Column: MARA_ZZKENN\n",
    "# DataType: VARCHAR\n",
    "# Example values:\n",
    "# - K324\n",
    "# - N534\n",
    "# - K031\n",
    "# - K187\n",
    "# - K057\n",
    "\n",
    "# Description: Materialkennzeichen (Referenz SAP mara_zzkenn).\n",
    "\n",
    "# ###\n",
    "\n",
    "# Column: Materialnummer\n",
    "# DataType: VARCHAR\n",
    "# Example values:\n",
    "# - A5E50757302002\n",
    "# - M40002889665\n",
    "# - 000005192254587000\n",
    "\n",
    "# Description: SAP Materialnummer (Referenz SAP resb_matnr).\n",
    "\n",
    "# ###\n",
    "\n",
    "# Column: SL_POS\n",
    "# DataType: VARCHAR\n",
    "# Example values:\n",
    "# - 0070\n",
    "# - 3999\n",
    "# - 3550\n",
    "# - 5020\n",
    "# - 5000\n",
    "# - 1200\n",
    "# - 3500\n",
    "# - 3000\n",
    "# - 1100\n",
    "# - 6520\n",
    "\n",
    "# Description: Stücklistenposition der Komponente (SAP resb_posnr, z.B. '6520' für Bremse).\n",
    "\n",
    "# ###\n",
    "\n",
    "# Column: MLFB\n",
    "# DataType: VARCHAR\n",
    "# Example values:\n",
    "# - 1FE2116-8CJ12-2DW1\n",
    "# - EWN:0573002402490\n",
    "# - 1FT7136-5AB71-1BH0\n",
    "\n",
    "# Description: MLFB (Maschinenlesbare Fabrikatebezeichnung, SAP vbap_yybcezndr).\n",
    "\n",
    "# ###\n",
    "\n",
    "# Column: Kurzangabe\n",
    "# DataType: VARCHAR\n",
    "# Example values:\n",
    "# - K23M39Y84\n",
    "# - N01N05R2A\n",
    "# - X53\n",
    "\n",
    "# Description: Kunden-spezifizierte Zusatzoption/Z-Option (SAP vbap_yykurzanga).\n",
    "\n",
    "# ###\n",
    "\n",
    "# Column: Barcode\n",
    "# DataType: VARCHAR\n",
    "# Example values:\n",
    "# - 709246/253\n",
    "# - YFT6653654782015\n",
    "# - 1P5194021653+S2508001895\n",
    "# - 25150007FI\n",
    "\n",
    "# Description: Trace-Daten aus Barcode oder DMC-Scan (Referenz products.genealogydata_tracedata).\n",
    "\n",
    "# ###\n",
    "\n",
    "# Column: Serialnummer\n",
    "# DataType: VARCHAR\n",
    "# Example values:\n",
    "# - YFPD653244374001\n",
    "# - YFT5630148901001\n",
    "# - YFT5630099402001\n",
    "\n",
    "# Description: Seriennummer Motor oder Komponente (Referenz products.productnumber).\n",
    "\n",
    "# ###\n",
    "\n",
    "# Column: KD_AUFNR\n",
    "# DataType: INTEGER\n",
    "# Example values:\n",
    "# - 300681\n",
    "# - 298378\n",
    "\n",
    "# Description: Kundenauftragsnummer (Referenz products.customerordernumber).\n",
    "\n",
    "# ###\n",
    "\n",
    "# Column: KD_POS\n",
    "# DataType: SMALLINT\n",
    "# Example values:\n",
    "# - 1\n",
    "# - 4\n",
    "# - 15\n",
    "\n",
    "# Description: Kundenauftragspositionsnummer (Referenz products.customerorderpositionnumber).\n",
    "\n",
    "# ###\n",
    "\n",
    "# Column: Laufer_FAUF\n",
    "# DataType: INTEGER\n",
    "# Example values:\n",
    "# - 53400622\n",
    "# - 53647621\n",
    "\n",
    "# Description: Referenzierte Läufer-Auftragsnummer (products.referencedproductionorders_productionordernumber).\n",
    "\n",
    "# ###\n",
    "\n",
    "# Column: Zeitstempel\n",
    "# DataType: TIMESTAMP\n",
    "# Example values:\n",
    "# - 2023-10-19 11:30:21\n",
    "# - 2025-05-28 07:32:53\n",
    "\n",
    "# Description: Zeitstempel der Montage aus Products (products.genealogydata_assembleddatetime).\n",
    "\n",
    "# ###\n",
    "\n",
    "# Column: Trace_Typ\n",
    "# DataType: SMALLINT\n",
    "# All available values:\n",
    "# - 1\n",
    "# - 2\n",
    "# - 3\n",
    "# - 4\n",
    "# - 5\n",
    "# - 10\n",
    "\n",
    "# Description: Trace-Typ der Komponente (products.genealogydata_genealogytracetype).\n",
    "\n",
    "# ###\n",
    "\n",
    "# Column: Materialnummer_Komponente\n",
    "# DataType: VARCHAR\n",
    "# Example values:\n",
    "# - A5E50757302002\n",
    "# - M40002889665\n",
    "# - 000005192254587000\n",
    "\n",
    "# Description: Materialnummer Komponente aus Orders (orders.genealogydata_materialnumber).\n",
    "\n",
    "# ###\n",
    "\n",
    "# Column: Ist_Bremse\n",
    "# DataType: BOOLEAN\n",
    "# All available values:\n",
    "# - true\n",
    "# - false\n",
    "\n",
    "# Description: Flag: Ist Komponente eine Bremse.\n",
    "\n",
    "# ###\n",
    "\n",
    "# Column: query_name\n",
    "# DataType: VARCHAR\n",
    "# All available values:\n",
    "# - base\n",
    "# - sl_pos_6520\n",
    "# - tt_10\n",
    "\n",
    "# Description: Ursprungsquery-Identifikator ('base', 'sl_pos_6520' oder 'tt_10').\n",
    "\n",
    "# ###\n",
    "\n",
    "# Column: year\n",
    "# DataType: INTEGER\n",
    "# Example values:\n",
    "# - 2023\n",
    "# - 2024\n",
    "# - 2025\n",
    "\n",
    "# Description: Jahr der Datenerfassung.\n",
    "\n",
    "# ###\n",
    "\n",
    "# Column: month\n",
    "# DataType: INTEGER\n",
    "# Example values:\n",
    "# - 1\n",
    "# - 6\n",
    "# - 12\n",
    "\n",
    "# Description: Monat der Datenerfassung (z.B. 1 für Januar).\n",
    "\n",
    "# </Dataset results>\n",
    "\n",
    "# TABELLENBEZIEHUNGEN:\n",
    "\n",
    "# 1. orders ↔ products  \n",
    "#    Kardinalität: n : m  (0..n ↔ 0..n)  \n",
    "#    – In orders gibt es Dubletten; in products Datensätze ohne passenden orders-Eintrag.  \n",
    "#    Join-Felder:  \n",
    "#      products.referencedproductionorders_productionordernumber = orders.productionordernumber  \n",
    "#      products.genealogydata_tracedata = orders.genealogydata_tracedata  \n",
    "  \n",
    "# 2. sap ↔ orders  \n",
    "#    Kardinalität: n : m  (0..n ↔ 0..n)  \n",
    "#    – Mehrere Stücklistenzeilen pro Auftrag in sap, mehrere Barcode-Scans pro Auftrag in orders.\n",
    "#    Join-Feld:  \n",
    "#      orders.productionordernumber = sap.afko_aufnr  \n",
    "  \n",
    "# 3. sap ↔ products  \n",
    "#    Kardinalität: n : m  (0..n ↔ 0..n)  \n",
    "#    – Mehrere BOM-Zeilen je Auftrag treffen auf mehrere Einbauvorgänge in products.\n",
    "#    Join-Felder:  \n",
    "#      SUBSTRING(CONCAT('YF', REPLACE(sap.afko_zzfabnr,' ','')), 1, 13) = SUBSTRING(products.productnumber, 1, 13)  \n",
    "#      sap.resb_matnr = products.genealogydata_materialnumber  \n",
    "  \n",
    "# 4. results Tabelle:\n",
    "# - Konsolidierte Sicht aus allen drei Tabellen\n",
    "# - Wird durch drei verschiedene Queries befüllt:\n",
    "#   * base: Grundlegende Komponenten\n",
    "#   * sl_pos_6520: Spezifisch für Bremsen\n",
    "#   * tt_10: Komponenten mit Sonderbehandlung\n",
    "\n",
    "# Nutze primär die results Tabelle, wenn nicht explizit nach Daten aus den 3 Roh-Tabellen products, orders & sap gefragt wird. \n",
    "# Für deine Bachelorarbeit kannst du hier deinen eigenen Text einfügen\n",
    "# Beispiel: mit Text aus einer Datei\n",
    "# with open('mein_text.txt', 'r', encoding='utf-8') as file:\n",
    "#     sample_text = file.read()\n",
    "\n",
    "# Du kannst verschiedene Embedding-Modelle ausprobieren:\n",
    "# - \"sentence-transformers/all-mpnet-base-v2\" (sehr gute Qualität, etwas langsamer)\n",
    "# - \"sentence-transformers/all-MiniLM-L6-v2\" (guter Kompromiss aus Geschwindigkeit und Qualität)\n",
    "# - \"sentence-transformers/paraphrase-multilingual-MiniLM-L12-v2\" (mehrsprachig, gut für Deutsch)\n",
    "\n",
    "# Visualisierung ausführen\n",
    "results = visualize_llm_embeddings(\n",
    "    sample_text, \n",
    "    # embedding_model=\"sentence-transformers/paraphrase-multilingual-MiniLM-L12-v2\"  # Gut für deutsche Texte\n",
    "    embedding_model=\"intfloat/multilingual-e5-large\"\n",
    ")"
   ]
  },
  {
   "cell_type": "code",
   "execution_count": 13,
   "id": "c0b778ec",
   "metadata": {},
   "outputs": [
    {
     "name": "stdout",
     "output_type": "stream",
     "text": [
      "Ergebnisse wurden in CSV-Dateien gespeichert:\n",
      "- ba_llm_visualisierung_words.csv\n",
      "- ba_llm_visualisierung_tokens.csv\n",
      "- ba_llm_visualisierung_sentences.csv\n"
     ]
    }
   ],
   "source": [
    "def export_results(results, filename_prefix=\"llm_embedding_results\"):\n",
    "    \"\"\"\n",
    "    Exportiert die Ergebnisse in CSV-Dateien zur weiteren Verwendung in der Bachelorarbeit\n",
    "    \"\"\"\n",
    "    # Word-Level Embeddings\n",
    "    word_df = pd.DataFrame({\n",
    "        'word': results[\"words\"],\n",
    "        'tsne_2d_x': results[\"word_tsne_2d\"][:, 0],\n",
    "        'tsne_2d_y': results[\"word_tsne_2d\"][:, 1],\n",
    "        'tsne_3d_x': results[\"word_tsne_3d\"][:, 0],\n",
    "        'tsne_3d_y': results[\"word_tsne_3d\"][:, 1],\n",
    "        'tsne_3d_z': results[\"word_tsne_3d\"][:, 2],\n",
    "        'pca_2d_x': results[\"word_pca_2d\"][:, 0],\n",
    "        'pca_2d_y': results[\"word_pca_2d\"][:, 1]\n",
    "    })\n",
    "    \n",
    "    # Token-Level Embeddings\n",
    "    token_df = pd.DataFrame({\n",
    "        'token': results[\"tokens\"],\n",
    "        'tsne_2d_x': results[\"token_tsne_2d\"][:, 0],\n",
    "        'tsne_2d_y': results[\"token_tsne_2d\"][:, 1],\n",
    "        'tsne_3d_x': results[\"token_tsne_3d\"][:, 0],\n",
    "        'tsne_3d_y': results[\"token_tsne_3d\"][:, 1],\n",
    "        'tsne_3d_z': results[\"token_tsne_3d\"][:, 2],\n",
    "        'pca_2d_x': results[\"token_pca_2d\"][:, 0],\n",
    "        'pca_2d_y': results[\"token_pca_2d\"][:, 1]\n",
    "    })\n",
    "    \n",
    "    # Sentence-Level Embeddings\n",
    "    short_sentences = [s[:100] + \"...\" if len(s) > 100 else s for s in results[\"sentences\"]]\n",
    "    sentence_df = pd.DataFrame({\n",
    "        'sentence': short_sentences,\n",
    "        'tsne_2d_x': results[\"sent_tsne_2d\"][:, 0],\n",
    "        'tsne_2d_y': results[\"sent_tsne_2d\"][:, 1],\n",
    "        'tsne_3d_x': results[\"sent_tsne_3d\"][:, 0],\n",
    "        'tsne_3d_y': results[\"sent_tsne_3d\"][:, 1],\n",
    "        'tsne_3d_z': results[\"sent_tsne_3d\"][:, 2],\n",
    "        'pca_2d_x': results[\"sent_pca_2d\"][:, 0],\n",
    "        'pca_2d_y': results[\"sent_pca_2d\"][:, 1]\n",
    "    })\n",
    "    \n",
    "    # CSV-Dateien speichern\n",
    "    word_df.to_csv(f\"{filename_prefix}_words.csv\", index=False)\n",
    "    token_df.to_csv(f\"{filename_prefix}_tokens.csv\", index=False)\n",
    "    sentence_df.to_csv(f\"{filename_prefix}_sentences.csv\", index=False)\n",
    "    \n",
    "    print(f\"Ergebnisse wurden in CSV-Dateien gespeichert:\\n\"\n",
    "          f\"- {filename_prefix}_words.csv\\n\"\n",
    "          f\"- {filename_prefix}_tokens.csv\\n\"\n",
    "          f\"- {filename_prefix}_sentences.csv\")\n",
    "\n",
    "# Ergebnisse exportieren\n",
    "export_results(results, \"ba_llm_visualisierung\")"
   ]
  },
  {
   "cell_type": "code",
   "execution_count": 19,
   "id": "cb88bc67",
   "metadata": {},
   "outputs": [
    {
     "name": "stdout",
     "output_type": "stream",
     "text": [
      "\\begin{align}\n",
      "\\mathbf{v}_{\\text{sql}} = \n",
      "\\begin{bmatrix}\n",
      "0.014788 & 0.025825 & -0.033831 & -0.043754 & 0.010651 & -0.025145 & -0.011005 & 0.023248 & \\cdots\n",
      "\\end{bmatrix}^T \\in \\mathbb{R}^{1024}\n",
      "\\end{align}\n"
     ]
    }
   ],
   "source": [
    "# Python code to get and print an embedding\n",
    "from sentence_transformers import SentenceTransformer\n",
    "\n",
    "# Load model\n",
    "model = SentenceTransformer(\"intfloat/multilingual-e5-large\")\n",
    "\n",
    "# Get embedding for \"sql\"\n",
    "sql_embedding = model.encode([\"sql\"])[0]\n",
    "sql_embedding2 = model.encode([\"query\"])[0]\n",
    "sql_embedding3 = model.encode([\"database\"])[0]\n",
    "\n",
    "# Print LaTeX representation\n",
    "print(\"\\\\begin{align}\")\n",
    "print(\"\\\\mathbf{v}_{\\\\text{sql}} = \")\n",
    "print(\"\\\\begin{bmatrix}\")\n",
    "\n",
    "# Print first 8 values\n",
    "print(\" & \".join([f\"{val:.6f}\" for val in sql_embedding[:8]]) + \" & \\\\cdots\")\n",
    "\n",
    "print(\"\\\\end{bmatrix}^T \\\\in \\\\mathbb{R}^{\" + str(len(sql_embedding)) + \"}\")\n",
    "print(\"\\\\end{align}\")"
   ]
  },
  {
   "cell_type": "code",
   "execution_count": 20,
   "id": "5df7e150",
   "metadata": {},
   "outputs": [
    {
     "data": {
      "text/plain": [
       "array([ 0.01478808,  0.02582529, -0.03383067, ...,  0.01885418,\n",
       "        0.00664132,  0.02448627], shape=(1024,), dtype=float32)"
      ]
     },
     "execution_count": 20,
     "metadata": {},
     "output_type": "execute_result"
    }
   ],
   "source": [
    "sql_embedding"
   ]
  },
  {
   "cell_type": "code",
   "execution_count": 21,
   "id": "eb071343",
   "metadata": {},
   "outputs": [
    {
     "data": {
      "text/plain": [
       "array([ 0.02005542,  0.00013358, -0.01567621, ..., -0.02874693,\n",
       "       -0.04286381,  0.01751361], shape=(1024,), dtype=float32)"
      ]
     },
     "execution_count": 21,
     "metadata": {},
     "output_type": "execute_result"
    }
   ],
   "source": [
    "sql_embedding2"
   ]
  },
  {
   "cell_type": "code",
   "execution_count": 22,
   "id": "07833c41",
   "metadata": {},
   "outputs": [
    {
     "data": {
      "text/plain": [
       "array([ 0.04682398,  0.02450395, -0.03262337, ...,  0.02794292,\n",
       "       -0.01232731,  0.01459344], shape=(1024,), dtype=float32)"
      ]
     },
     "execution_count": 22,
     "metadata": {},
     "output_type": "execute_result"
    }
   ],
   "source": [
    "sql_embedding3"
   ]
  },
  {
   "cell_type": "code",
   "execution_count": null,
   "id": "b49eaa04",
   "metadata": {},
   "outputs": [],
   "source": []
  }
 ],
 "metadata": {
  "kernelspec": {
   "display_name": "ba-experiments",
   "language": "python",
   "name": "python3"
  },
  "language_info": {
   "codemirror_mode": {
    "name": "ipython",
    "version": 3
   },
   "file_extension": ".py",
   "mimetype": "text/x-python",
   "name": "python",
   "nbconvert_exporter": "python",
   "pygments_lexer": "ipython3",
   "version": "3.10.17"
  }
 },
 "nbformat": 4,
 "nbformat_minor": 5
}
